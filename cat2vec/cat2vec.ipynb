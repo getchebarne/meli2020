{
 "cells": [
  {
   "cell_type": "code",
   "execution_count": 1,
   "metadata": {},
   "outputs": [],
   "source": [
    "import gzip\n",
    "import gc\n",
    "import math\n",
    "import json\n",
    "from collections import Counter, defaultdict\n",
    "import random\n",
    "from tqdm.notebook import tqdm\n",
    "import numpy as np\n",
    "\n",
    "from sklearn.model_selection import train_test_split\n",
    "import matplotlib.pyplot as plt\n",
    "\n",
    "def jl_to_list(fname):\n",
    "    output = []\n",
    "    with gzip.open(fname, \"rb\") as f:\n",
    "        for line in f:\n",
    "            output.append(json.loads(line))\n",
    "    return output"
   ]
  },
  {
   "cell_type": "markdown",
   "metadata": {},
   "source": [
    "### Load user data"
   ]
  },
  {
   "cell_type": "code",
   "execution_count": 2,
   "metadata": {},
   "outputs": [],
   "source": [
    "samples = None\n",
    "test_size = .2\n",
    "rows = jl_to_list(\"../data/train_dataset.jl.gz\")\n",
    "if samples:\n",
    "    rows = rows[:samples]"
   ]
  },
  {
   "cell_type": "markdown",
   "metadata": {},
   "source": [
    "### Train-val split"
   ]
  },
  {
   "cell_type": "code",
   "execution_count": 3,
   "metadata": {},
   "outputs": [
    {
     "name": "stdout",
     "output_type": "stream",
     "text": [
      "Train data: 330530.\n",
      "Test data: 82633.\n"
     ]
    }
   ],
   "source": [
    "val_size = .15\n",
    "rows_train, rows_test = train_test_split(rows, test_size = test_size, random_state = 42)\n",
    "print(f\"Train data: {len(rows_train)}.\")\n",
    "print(f\"Test data: {len(rows_test)}.\")"
   ]
  },
  {
   "cell_type": "markdown",
   "metadata": {},
   "source": [
    "### Load items"
   ]
  },
  {
   "cell_type": "code",
   "execution_count": 4,
   "metadata": {},
   "outputs": [],
   "source": [
    "item_data = jl_to_list(\"../data/item_data.jl.gz\")\n",
    "metadata = {x[\"item_id\"] : x for x in item_data}"
   ]
  },
  {
   "cell_type": "markdown",
   "metadata": {},
   "source": [
    "### Count domains across items"
   ]
  },
  {
   "cell_type": "code",
   "execution_count": 6,
   "metadata": {},
   "outputs": [
    {
     "data": {
      "application/vnd.jupyter.widget-view+json": {
       "model_id": "27cf81b0aa6b4a028aed42be573d37a9",
       "version_major": 2,
       "version_minor": 0
      },
      "text/plain": [
       "HBox(children=(HTML(value=''), FloatProgress(value=0.0, max=2102277.0), HTML(value='')))"
      ]
     },
     "metadata": {},
     "output_type": "display_data"
    },
    {
     "name": "stdout",
     "output_type": "stream",
     "text": [
      "\n"
     ]
    }
   ],
   "source": [
    "cats = []\n",
    "cat_counter = Counter()\n",
    "for item in tqdm(item_data):\n",
    "    cats.append(item[\"category_id\"])\n",
    "    cat_counter[item[\"category_id\"]] += 1"
   ]
  },
  {
   "cell_type": "markdown",
   "metadata": {},
   "source": [
    "### Remove domains with very low frequency"
   ]
  },
  {
   "cell_type": "code",
   "execution_count": 33,
   "metadata": {},
   "outputs": [],
   "source": [
    "def crop_cat(cat_counter, thresh = .99):\n",
    "    s = sum([v for v in cat_counter.values()])\n",
    "    aux = cat_counter.most_common()\n",
    "    i = 0\n",
    "    buf = 0\n",
    "    while buf < thresh*s:\n",
    "        buf += aux[i][1]\n",
    "        i += 1\n",
    "        \n",
    "    res = sum([aux[j][1] for j in range(i, len(aux))])    #resto\n",
    "    \n",
    "    new_counter = Counter()\n",
    "    for a in aux[:i+1]:\n",
    "        new_counter[a[0]] = a[1]\n",
    "    new_counter[None] = cat_counter[None] + res    #casi no cambia\n",
    "    \n",
    "    imput_keys = [a[0] for a in aux[i+1:]]            #cat lost\n",
    "    \n",
    "    return i, res, new_counter, imput_keys"
   ]
  },
  {
   "cell_type": "code",
   "execution_count": 34,
   "metadata": {},
   "outputs": [
    {
     "name": "stdout",
     "output_type": "stream",
     "text": [
      "Cantidad nueva de cats: 6814.\n",
      "Total de items que perdieron su cat: 21016.\n"
     ]
    }
   ],
   "source": [
    "t = .99\n",
    "i, r, new_counter, imput_keys = crop_cat(cat_counter, thresh = t)\n",
    "print(f\"Cantidad nueva de cats: {i + 1}.\")\n",
    "print(f\"Total de items que perdieron su cat: {r}.\")"
   ]
  },
  {
   "cell_type": "markdown",
   "metadata": {},
   "source": [
    "### New counter, used to create vocab and verify Zipfs"
   ]
  },
  {
   "cell_type": "code",
   "execution_count": 39,
   "metadata": {},
   "outputs": [
    {
     "data": {
      "text/plain": [
       "6815"
      ]
     },
     "execution_count": 39,
     "metadata": {},
     "output_type": "execute_result"
    }
   ],
   "source": [
    "cat_set = [k[0] for k in new_counter.most_common()]; len(cat_set)    #new counter, sorted from high to low freq"
   ]
  },
  {
   "cell_type": "markdown",
   "metadata": {},
   "source": [
    "### Create vocabulary"
   ]
  },
  {
   "cell_type": "code",
   "execution_count": 41,
   "metadata": {},
   "outputs": [
    {
     "data": {
      "application/vnd.jupyter.widget-view+json": {
       "model_id": "7aefe4d2d2204e3b86d599381eb75f83",
       "version_major": 2,
       "version_minor": 0
      },
      "text/plain": [
       "HBox(children=(HTML(value=''), FloatProgress(value=1.0, bar_style='info', layout=Layout(width='20px'), max=1.0…"
      ]
     },
     "metadata": {},
     "output_type": "display_data"
    },
    {
     "name": "stdout",
     "output_type": "stream",
     "text": [
      "\n"
     ]
    }
   ],
   "source": [
    "vocab = {}\n",
    "for i, d in tqdm(enumerate(cat_set, start = 0)):\n",
    "    vocab[d] = i\n",
    "\n",
    "inv_vocab = {v : k for k, v in vocab.items()}\n",
    "vocab_size = len(vocab.keys())"
   ]
  },
  {
   "cell_type": "markdown",
   "metadata": {},
   "source": [
    "### Plot PDF, compare to Zipf's"
   ]
  },
  {
   "cell_type": "code",
   "execution_count": 42,
   "metadata": {},
   "outputs": [
    {
     "data": {
      "application/vnd.jupyter.widget-view+json": {
       "model_id": "615506a7e68c4ce781d9e99368d4b6e4",
       "version_major": 2,
       "version_minor": 0
      },
      "text/plain": [
       "HBox(children=(HTML(value=''), FloatProgress(value=1.0, bar_style='info', layout=Layout(width='20px'), max=1.0…"
      ]
     },
     "metadata": {},
     "output_type": "display_data"
    },
    {
     "name": "stdout",
     "output_type": "stream",
     "text": [
      "\n"
     ]
    },
    {
     "data": {
      "application/vnd.jupyter.widget-view+json": {
       "model_id": "5e686880e9d04387bdfca07334932085",
       "version_major": 2,
       "version_minor": 0
      },
      "text/plain": [
       "HBox(children=(HTML(value=''), FloatProgress(value=0.0, max=6814.0), HTML(value='')))"
      ]
     },
     "metadata": {},
     "output_type": "display_data"
    },
    {
     "name": "stdout",
     "output_type": "stream",
     "text": [
      "\n"
     ]
    },
    {
     "name": "stderr",
     "output_type": "stream",
     "text": [
      "<ipython-input-42-8aab8995f35d>:16: RuntimeWarning: divide by zero encountered in log10\n",
      "  plt.scatter(np.log10(np.arange(len(counts))), np.log10(counts))\n",
      "<ipython-input-42-8aab8995f35d>:17: RuntimeWarning: divide by zero encountered in log10\n",
      "  plt.plot(np.log10(np.arange(len(ps))), np.log10(ps), c = \"orange\")\n"
     ]
    },
    {
     "data": {
      "image/png": "[encoded data removed]",
      "text/plain": [
       "<Figure size 900x540 with 1 Axes>"
      ]
     },
     "metadata": {
      "needs_background": "light"
     },
     "output_type": "display_data"
    }
   ],
   "source": [
    "# domains\n",
    "counts = []\n",
    "for i, (k, v) in tqdm(enumerate(new_counter.items())):\n",
    "    counts.append(v)\n",
    "counts = np.array(sorted(counts, reverse = True))/sum(counts)\n",
    "\n",
    "# Zipfs\n",
    "s = 1\n",
    "ps = []\n",
    "den = sum([1/(n**s) for n in range(1, counts.size)])\n",
    "for k in tqdm(range(1, counts.size)):\n",
    "    p = (1/(k**s))/den\n",
    "    ps.append(p)\n",
    "\n",
    "plt.figure(figsize = (12.5, 7.5))\n",
    "plt.scatter(np.log10(np.arange(len(counts))), np.log10(counts))\n",
    "plt.plot(np.log10(np.arange(len(ps))), np.log10(ps), c = \"orange\")\n",
    "plt.grid(\"both\")"
   ]
  },
  {
   "cell_type": "markdown",
   "metadata": {},
   "source": [
    "### Determine domain x domain visit counts"
   ]
  },
  {
   "cell_type": "code",
   "execution_count": 47,
   "metadata": {},
   "outputs": [],
   "source": [
    "def create_dict(rows, meta, vocab, imput_keys):\n",
    "    N = len(vocab.keys())\n",
    "    dom_x_dom = np.zeros((N, N)).astype(np.int)\n",
    "    for i, row in tqdm(enumerate(rows)):\n",
    "        viewed = [meta[item[\"event_info\"]][\"category_id\"] for item in row[\"user_history\"]\n",
    "                  if item[\"event_type\"] == \"view\"]\n",
    "        \n",
    "        viewed = list(set(viewed))\n",
    "        for i, v1 in enumerate(viewed):\n",
    "            if v1 in imput_keys: v1 = None\n",
    "            for v2 in viewed[i + 1:]:\n",
    "                if v2 in imput_keys: v2 = None\n",
    "                dom_x_dom[vocab[v1], vocab[v2]] += 1\n",
    "                dom_x_dom[vocab[v2], vocab[v1]] += 1\n",
    "    \n",
    "    return dom_x_dom"
   ]
  },
  {
   "cell_type": "code",
   "execution_count": 48,
   "metadata": {
    "scrolled": true
   },
   "outputs": [
    {
     "data": {
      "application/vnd.jupyter.widget-view+json": {
       "model_id": "3030dad765004cc5a84985452dc37c03",
       "version_major": 2,
       "version_minor": 0
      },
      "text/plain": [
       "HBox(children=(HTML(value=''), FloatProgress(value=1.0, bar_style='info', layout=Layout(width='20px'), max=1.0…"
      ]
     },
     "metadata": {},
     "output_type": "display_data"
    },
    {
     "name": "stdout",
     "output_type": "stream",
     "text": [
      "\n"
     ]
    }
   ],
   "source": [
    "cat_x_cat = create_dict(rows_train, metadata, vocab, imput_keys)"
   ]
  },
  {
   "cell_type": "code",
   "execution_count": 50,
   "metadata": {},
   "outputs": [
    {
     "name": "stdout",
     "output_type": "stream",
     "text": [
      "(6815, 6815)\n",
      "La cantidad de elementos no-nulos es: 2238237.\n",
      "La cantidad de elementos nulos es: 44205988.\n"
     ]
    }
   ],
   "source": [
    "print(cat_x_cat.shape)\n",
    "print(f\"La cantidad de elementos no-nulos es: {np.count_nonzero(cat_x_cat)}.\")\n",
    "print(f\"La cantidad de elementos nulos es: {cat_x_cat.shape[0]*cat_x_cat.shape[1] - np.count_nonzero(cat_x_cat)}.\")"
   ]
  },
  {
   "cell_type": "markdown",
   "metadata": {},
   "source": [
    "### Get related domains (edges)"
   ]
  },
  {
   "cell_type": "code",
   "execution_count": 51,
   "metadata": {
    "scrolled": true
   },
   "outputs": [],
   "source": [
    "def binarize(cat_x_cat, thresh = 2):\n",
    "    aux = cat_x_cat.copy()\n",
    "    aux[aux < thresh] = 0\n",
    "    aux[aux >= thresh] = 1\n",
    "    return aux"
   ]
  },
  {
   "cell_type": "code",
   "execution_count": 55,
   "metadata": {},
   "outputs": [
    {
     "name": "stdout",
     "output_type": "stream",
     "text": [
      "La cantidad de elementos no-nulos es: 161587.\n",
      "La cantidad de elementos nulos es: 46282638.\n"
     ]
    }
   ],
   "source": [
    "cat_x_cat_b = binarize(cat_x_cat, thresh = 7)\n",
    "print(f\"La cantidad de elementos no-nulos es: {np.count_nonzero(cat_x_cat_b)}.\")\n",
    "print(f\"La cantidad de elementos nulos es: {cat_x_cat_b.shape[0]*cat_x_cat_b.shape[1] - np.count_nonzero(cat_x_cat_b)}.\")"
   ]
  },
  {
   "cell_type": "markdown",
   "metadata": {},
   "source": [
    "### Lets copy word2vec gen"
   ]
  },
  {
   "cell_type": "code",
   "execution_count": 56,
   "metadata": {},
   "outputs": [],
   "source": [
    "import io\n",
    "import itertools\n",
    "import tensorflow as tf\n",
    "\n",
    "from tensorflow.keras import Model, Sequential\n",
    "from tensorflow.keras.layers import Activation, Dense, Dot, Embedding, Flatten, GlobalAveragePooling1D, Reshape"
   ]
  },
  {
   "cell_type": "markdown",
   "metadata": {},
   "source": [
    "### Function to generate positive and negative training examples"
   ]
  },
  {
   "cell_type": "code",
   "execution_count": 20,
   "metadata": {},
   "outputs": [],
   "source": [
    "def generate_training_data(dom_x_dom_b, num_ns, vocab_size, seed):\n",
    "    targets, contexts, labels = [], [], []\n",
    "    sampling_table = tf.keras.preprocessing.sequence.make_sampling_table(vocab_size)\n",
    "    # iterate over all domains\n",
    "    for i, dom in enumerate(tqdm(dom_x_dom_b)):\n",
    "        #positive samples\n",
    "        positives = []\n",
    "        false_candidates = []\n",
    "        for j, st in enumerate(sampling_table):\n",
    "            if dom[j] == 1:\n",
    "                if np.random.rand() < st:\n",
    "                    positives.append(j)\n",
    "            else:\n",
    "                false_candidates.append((j, st))\n",
    "        #for each positive example \n",
    "        for p in positives:\n",
    "            # get negatvies\n",
    "            nega = []\n",
    "            for f in false_candidates:\n",
    "                if np.random.rand() < f[1]:\n",
    "                    nega.append(f[0])\n",
    "            \n",
    "            negatives_p = np.random.choice(nega, size = num_ns)\n",
    "            #save them\n",
    "            context = tf.constant([p] + negatives_p.tolist(), dtype = \"int64\")\n",
    "            label = tf.constant([1] + [0]*num_ns, dtype=\"int64\") \n",
    "            \n",
    "            targets.append(i)\n",
    "            contexts.append(tf.reshape(context, (1 + num_ns, 1)))\n",
    "            labels.append(label)\n",
    "    \n",
    "    return targets, contexts, labels"
   ]
  },
  {
   "cell_type": "code",
   "execution_count": 57,
   "metadata": {},
   "outputs": [],
   "source": [
    "def generate_training_data_v2(dom_x_dom_b, num_ns, vocab_size, seed):\n",
    "    targets, contexts, labels = [], [], []\n",
    "    sampling_table = tf.keras.preprocessing.sequence.make_sampling_table(vocab_size)\n",
    "    # iterate over all domains\n",
    "    for i, dom in enumerate(tqdm(dom_x_dom_b)):\n",
    "        #positive samples\n",
    "        positives = []\n",
    "        false_candidates = []\n",
    "        for j, st in enumerate(sampling_table):\n",
    "            if dom[j] == 1:\n",
    "                positives.append(j)\n",
    "            else:\n",
    "                false_candidates.append((j, st))\n",
    "        #for each positive example \n",
    "        for p in positives:\n",
    "            # get negatvies\n",
    "            nega = []\n",
    "            for f in false_candidates:\n",
    "                nega.append(f[0])\n",
    "            \n",
    "            negatives_p = np.random.choice(nega, size = num_ns)\n",
    "            #save them\n",
    "            context = tf.constant([p] + negatives_p.tolist(), dtype = \"int64\")\n",
    "            label = tf.constant([1] + [0]*num_ns, dtype=\"int64\") \n",
    "            \n",
    "            targets.append(i)\n",
    "            contexts.append(tf.reshape(context, (1 + num_ns, 1)))\n",
    "            labels.append(label)\n",
    "    \n",
    "    return targets, contexts, labels"
   ]
  },
  {
   "cell_type": "code",
   "execution_count": 59,
   "metadata": {
    "scrolled": false
   },
   "outputs": [
    {
     "data": {
      "application/vnd.jupyter.widget-view+json": {
       "model_id": "41844af98a434aa38828a29d15e1cc45",
       "version_major": 2,
       "version_minor": 0
      },
      "text/plain": [
       "HBox(children=(HTML(value=''), FloatProgress(value=0.0, max=6815.0), HTML(value='')))"
      ]
     },
     "metadata": {},
     "output_type": "display_data"
    },
    {
     "name": "stdout",
     "output_type": "stream",
     "text": [
      "\n",
      "161587 161587 161587\n"
     ]
    }
   ],
   "source": [
    "num_ns = 12\n",
    "targets, contexts, labels = generate_training_data_v2(\n",
    "    cat_x_cat_b,  \n",
    "    num_ns=num_ns,\n",
    "    vocab_size=vocab_size, \n",
    "    seed=42)\n",
    "print(len(targets), len(contexts), len(labels))"
   ]
  },
  {
   "cell_type": "markdown",
   "metadata": {},
   "source": [
    "### Train-test splits"
   ]
  },
  {
   "cell_type": "code",
   "execution_count": 60,
   "metadata": {},
   "outputs": [],
   "source": [
    "N = len(targets)\n",
    "val_size = .2\n",
    "train_indxs, val_indxs = train_test_split(np.arange(N).astype(np.int), test_size = val_size)"
   ]
  },
  {
   "cell_type": "code",
   "execution_count": 62,
   "metadata": {},
   "outputs": [
    {
     "name": "stdout",
     "output_type": "stream",
     "text": [
      "<PrefetchDataset shapes: (((1024,), (1024, 13, 1)), (1024, 13)), types: ((tf.int32, tf.int64), tf.int64)>\n"
     ]
    }
   ],
   "source": [
    "BATCH_SIZE = 1024\n",
    "BUFFER_SIZE = 10000\n",
    "\n",
    "targets_train = [targets[i] for i in train_indxs]\n",
    "contexts_train = [contexts[i] for i in train_indxs]\n",
    "labels_train = [labels[i] for i in train_indxs]\n",
    "\n",
    "dataset_train = tf.data.Dataset.from_tensor_slices(((targets_train, contexts_train), labels_train))\n",
    "dataset_train = dataset_train.shuffle(BUFFER_SIZE).batch(BATCH_SIZE, drop_remainder=True)\n",
    "\n",
    "AUTOTUNE = tf.data.experimental.AUTOTUNE\n",
    "dataset_train = dataset_train.cache().prefetch(buffer_size=AUTOTUNE)\n",
    "print(dataset_train)"
   ]
  },
  {
   "cell_type": "code",
   "execution_count": 63,
   "metadata": {},
   "outputs": [
    {
     "name": "stdout",
     "output_type": "stream",
     "text": [
      "<PrefetchDataset shapes: (((1024,), (1024, 13, 1)), (1024, 13)), types: ((tf.int32, tf.int64), tf.int64)>\n"
     ]
    }
   ],
   "source": [
    "targets_val = [targets[i] for i in val_indxs]\n",
    "contexts_val = [contexts[i] for i in val_indxs]\n",
    "labels_val = [labels[i] for i in val_indxs]\n",
    "\n",
    "dataset_val = tf.data.Dataset.from_tensor_slices(((targets_val, contexts_val), labels_val))\n",
    "dataset_val = dataset_val.shuffle(BUFFER_SIZE).batch(BATCH_SIZE, drop_remainder=True)\n",
    "\n",
    "AUTOTUNE = tf.data.experimental.AUTOTUNE\n",
    "dataset_val = dataset_val.cache().prefetch(buffer_size=AUTOTUNE)\n",
    "print(dataset_val)"
   ]
  },
  {
   "cell_type": "markdown",
   "metadata": {},
   "source": [
    "### Whole dataset (for final training)"
   ]
  },
  {
   "cell_type": "code",
   "execution_count": 67,
   "metadata": {},
   "outputs": [
    {
     "name": "stdout",
     "output_type": "stream",
     "text": [
      "<BatchDataset shapes: (((1024,), (1024, 13, 1)), (1024, 13)), types: ((tf.int32, tf.int64), tf.int64)>\n"
     ]
    }
   ],
   "source": [
    "BATCH_SIZE = 1024\n",
    "BUFFER_SIZE = 10000\n",
    "dataset = tf.data.Dataset.from_tensor_slices(((targets, contexts), labels))\n",
    "dataset = dataset.shuffle(BUFFER_SIZE).batch(BATCH_SIZE, drop_remainder=True)\n",
    "print(dataset)"
   ]
  },
  {
   "cell_type": "code",
   "execution_count": 68,
   "metadata": {},
   "outputs": [
    {
     "name": "stdout",
     "output_type": "stream",
     "text": [
      "<PrefetchDataset shapes: (((1024,), (1024, 13, 1)), (1024, 13)), types: ((tf.int32, tf.int64), tf.int64)>\n"
     ]
    }
   ],
   "source": [
    "AUTOTUNE = tf.data.experimental.AUTOTUNE\n",
    "dataset = dataset.cache().prefetch(buffer_size=AUTOTUNE)\n",
    "print(dataset)"
   ]
  },
  {
   "cell_type": "markdown",
   "metadata": {},
   "source": [
    "### Define model"
   ]
  },
  {
   "cell_type": "code",
   "execution_count": 64,
   "metadata": {},
   "outputs": [],
   "source": [
    "class Word2Vec(Model):\n",
    "    def __init__(self, vocab_size, embedding_dim, num_ns):\n",
    "        super(Word2Vec, self).__init__()\n",
    "        self.target_embedding = Embedding(vocab_size, \n",
    "                                          embedding_dim,\n",
    "                                          input_length=1,\n",
    "                                          name=\"w2v_embedding\", )\n",
    "        self.context_embedding = Embedding(vocab_size, \n",
    "                                           embedding_dim, \n",
    "                                           input_length=num_ns+1)\n",
    "        self.dots = Dot(axes=(3,2))\n",
    "        self.flatten = Flatten()\n",
    "        #sanity check\n",
    "        print(\"num_ns: \", num_ns)\n",
    "        print(\"embedding dim: \", embedding_dim)\n",
    "        print(\"vocab_size: \", vocab_size)\n",
    "\n",
    "    def call(self, pair):\n",
    "        target, context = pair\n",
    "        we = self.target_embedding(target)\n",
    "        ce = self.context_embedding(context)\n",
    "        dots = self.dots([ce, we])\n",
    "        return self.flatten(dots)"
   ]
  },
  {
   "cell_type": "code",
   "execution_count": 65,
   "metadata": {},
   "outputs": [
    {
     "name": "stdout",
     "output_type": "stream",
     "text": [
      "num_ns:  12\n",
      "embedding dim:  8\n",
      "vocab_size:  6815\n",
      "Epoch 1/50\n",
      "126/126 [==============================] - 1s 7ms/step - loss: 2.5636 - accuracy: 0.1648 - val_loss: 2.5557 - val_accuracy: 0.5095\n",
      "Epoch 2/50\n",
      "126/126 [==============================] - 1s 5ms/step - loss: 2.4615 - accuracy: 0.6837 - val_loss: 2.2987 - val_accuracy: 0.7066\n",
      "Epoch 3/50\n",
      "126/126 [==============================] - 1s 5ms/step - loss: 2.0318 - accuracy: 0.7308 - val_loss: 1.7737 - val_accuracy: 0.7268\n",
      "Epoch 4/50\n",
      "126/126 [==============================] - 1s 5ms/step - loss: 1.5242 - accuracy: 0.7497 - val_loss: 1.3548 - val_accuracy: 0.7444\n",
      "Epoch 5/50\n",
      "126/126 [==============================] - 1s 5ms/step - loss: 1.1889 - accuracy: 0.7634 - val_loss: 1.1146 - val_accuracy: 0.7545\n",
      "Epoch 6/50\n",
      "126/126 [==============================] - 1s 5ms/step - loss: 0.9959 - accuracy: 0.7724 - val_loss: 0.9745 - val_accuracy: 0.7610\n",
      "Epoch 7/50\n",
      "126/126 [==============================] - 1s 5ms/step - loss: 0.8783 - accuracy: 0.7783 - val_loss: 0.8871 - val_accuracy: 0.7650\n",
      "Epoch 8/50\n",
      "126/126 [==============================] - 1s 5ms/step - loss: 0.8017 - accuracy: 0.7829 - val_loss: 0.8293 - val_accuracy: 0.7693\n",
      "Epoch 9/50\n",
      "126/126 [==============================] - 1s 5ms/step - loss: 0.7484 - accuracy: 0.7869 - val_loss: 0.7889 - val_accuracy: 0.7724\n",
      "Epoch 10/50\n",
      "126/126 [==============================] - 1s 5ms/step - loss: 0.7090 - accuracy: 0.7907 - val_loss: 0.7588 - val_accuracy: 0.7749\n",
      "Epoch 11/50\n",
      "126/126 [==============================] - 1s 5ms/step - loss: 0.6781 - accuracy: 0.7940 - val_loss: 0.7354 - val_accuracy: 0.7783\n",
      "Epoch 12/50\n",
      "126/126 [==============================] - 1s 5ms/step - loss: 0.6527 - accuracy: 0.7977 - val_loss: 0.7162 - val_accuracy: 0.7812\n",
      "Epoch 13/50\n",
      "126/126 [==============================] - 1s 5ms/step - loss: 0.6311 - accuracy: 0.8015 - val_loss: 0.6999 - val_accuracy: 0.7848\n",
      "Epoch 14/50\n",
      "126/126 [==============================] - 1s 6ms/step - loss: 0.6121 - accuracy: 0.8054 - val_loss: 0.6856 - val_accuracy: 0.7874\n",
      "Epoch 15/50\n",
      "126/126 [==============================] - 1s 5ms/step - loss: 0.5951 - accuracy: 0.8089 - val_loss: 0.6729 - val_accuracy: 0.7899\n",
      "Epoch 16/50\n",
      "126/126 [==============================] - 1s 6ms/step - loss: 0.5797 - accuracy: 0.8129 - val_loss: 0.6614 - val_accuracy: 0.7929\n",
      "Epoch 17/50\n",
      "126/126 [==============================] - 1s 5ms/step - loss: 0.5656 - accuracy: 0.8161 - val_loss: 0.6508 - val_accuracy: 0.7958\n",
      "Epoch 18/50\n",
      "126/126 [==============================] - 1s 6ms/step - loss: 0.5527 - accuracy: 0.8190 - val_loss: 0.6412 - val_accuracy: 0.7986\n",
      "Epoch 19/50\n",
      "126/126 [==============================] - 1s 6ms/step - loss: 0.5407 - accuracy: 0.8222 - val_loss: 0.6323 - val_accuracy: 0.8014\n",
      "Epoch 20/50\n",
      "126/126 [==============================] - 1s 5ms/step - loss: 0.5297 - accuracy: 0.8251 - val_loss: 0.6241 - val_accuracy: 0.8041\n",
      "Epoch 21/50\n",
      "126/126 [==============================] - 1s 5ms/step - loss: 0.5194 - accuracy: 0.8277 - val_loss: 0.6165 - val_accuracy: 0.8065\n",
      "Epoch 22/50\n",
      "126/126 [==============================] - 1s 5ms/step - loss: 0.5099 - accuracy: 0.8302 - val_loss: 0.6096 - val_accuracy: 0.8085\n",
      "Epoch 23/50\n",
      "126/126 [==============================] - 1s 6ms/step - loss: 0.5010 - accuracy: 0.8326 - val_loss: 0.6031 - val_accuracy: 0.8101\n",
      "Epoch 24/50\n",
      "126/126 [==============================] - 1s 5ms/step - loss: 0.4926 - accuracy: 0.8351 - val_loss: 0.5971 - val_accuracy: 0.8122\n",
      "Epoch 25/50\n",
      "126/126 [==============================] - 1s 6ms/step - loss: 0.4847 - accuracy: 0.8370 - val_loss: 0.5915 - val_accuracy: 0.8139\n",
      "Epoch 26/50\n",
      "126/126 [==============================] - 1s 5ms/step - loss: 0.4772 - accuracy: 0.8393 - val_loss: 0.5862 - val_accuracy: 0.8158\n",
      "Epoch 27/50\n",
      "126/126 [==============================] - 1s 5ms/step - loss: 0.4701 - accuracy: 0.8413 - val_loss: 0.5813 - val_accuracy: 0.8175\n",
      "Epoch 28/50\n",
      "126/126 [==============================] - 1s 5ms/step - loss: 0.4633 - accuracy: 0.8434 - val_loss: 0.5766 - val_accuracy: 0.8190\n",
      "Epoch 29/50\n",
      "126/126 [==============================] - 1s 5ms/step - loss: 0.4567 - accuracy: 0.8452 - val_loss: 0.5722 - val_accuracy: 0.8207\n",
      "Epoch 30/50\n",
      "126/126 [==============================] - 1s 5ms/step - loss: 0.4504 - accuracy: 0.8471 - val_loss: 0.5680 - val_accuracy: 0.8221\n",
      "Epoch 31/50\n",
      "126/126 [==============================] - 1s 6ms/step - loss: 0.4443 - accuracy: 0.8487 - val_loss: 0.5640 - val_accuracy: 0.8237\n",
      "Epoch 32/50\n",
      "126/126 [==============================] - 1s 5ms/step - loss: 0.4383 - accuracy: 0.8505 - val_loss: 0.5602 - val_accuracy: 0.8250\n",
      "Epoch 33/50\n",
      "126/126 [==============================] - 1s 5ms/step - loss: 0.4325 - accuracy: 0.8524 - val_loss: 0.5564 - val_accuracy: 0.8262\n",
      "Epoch 34/50\n",
      "126/126 [==============================] - 1s 5ms/step - loss: 0.4267 - accuracy: 0.8542 - val_loss: 0.5528 - val_accuracy: 0.8275\n",
      "Epoch 35/50\n",
      "126/126 [==============================] - 1s 6ms/step - loss: 0.4211 - accuracy: 0.8561 - val_loss: 0.5493 - val_accuracy: 0.8283\n",
      "Epoch 36/50\n",
      "126/126 [==============================] - 1s 5ms/step - loss: 0.4155 - accuracy: 0.8579 - val_loss: 0.5459 - val_accuracy: 0.8295\n",
      "Epoch 37/50\n",
      "126/126 [==============================] - 1s 5ms/step - loss: 0.4099 - accuracy: 0.8595 - val_loss: 0.5426 - val_accuracy: 0.8307\n",
      "Epoch 38/50\n",
      "126/126 [==============================] - 1s 5ms/step - loss: 0.4043 - accuracy: 0.8612 - val_loss: 0.5393 - val_accuracy: 0.8317\n",
      "Epoch 39/50\n",
      "126/126 [==============================] - 1s 5ms/step - loss: 0.3988 - accuracy: 0.8630 - val_loss: 0.5361 - val_accuracy: 0.8331\n",
      "Epoch 40/50\n",
      "126/126 [==============================] - 1s 6ms/step - loss: 0.3932 - accuracy: 0.8648 - val_loss: 0.5329 - val_accuracy: 0.8346\n",
      "Epoch 41/50\n",
      "126/126 [==============================] - 1s 5ms/step - loss: 0.3876 - accuracy: 0.8668 - val_loss: 0.5297 - val_accuracy: 0.8355\n",
      "Epoch 42/50\n",
      "126/126 [==============================] - 1s 5ms/step - loss: 0.3820 - accuracy: 0.8687 - val_loss: 0.5266 - val_accuracy: 0.8369\n",
      "Epoch 43/50\n",
      "126/126 [==============================] - 1s 5ms/step - loss: 0.3764 - accuracy: 0.8707 - val_loss: 0.5235 - val_accuracy: 0.8383\n",
      "Epoch 44/50\n",
      "126/126 [==============================] - 1s 5ms/step - loss: 0.3707 - accuracy: 0.8725 - val_loss: 0.5204 - val_accuracy: 0.8394\n",
      "Epoch 45/50\n",
      "126/126 [==============================] - 1s 5ms/step - loss: 0.3649 - accuracy: 0.8747 - val_loss: 0.5173 - val_accuracy: 0.8409\n",
      "Epoch 46/50\n",
      "126/126 [==============================] - 1s 5ms/step - loss: 0.3591 - accuracy: 0.8769 - val_loss: 0.5143 - val_accuracy: 0.8423\n",
      "Epoch 47/50\n",
      "126/126 [==============================] - 1s 5ms/step - loss: 0.3533 - accuracy: 0.8788 - val_loss: 0.5113 - val_accuracy: 0.8436\n",
      "Epoch 48/50\n",
      "126/126 [==============================] - 1s 5ms/step - loss: 0.3474 - accuracy: 0.8810 - val_loss: 0.5083 - val_accuracy: 0.8446\n",
      "Epoch 49/50\n",
      "126/126 [==============================] - 1s 5ms/step - loss: 0.3415 - accuracy: 0.8829 - val_loss: 0.5053 - val_accuracy: 0.8457\n",
      "Epoch 50/50\n",
      "126/126 [==============================] - 1s 5ms/step - loss: 0.3355 - accuracy: 0.8853 - val_loss: 0.5024 - val_accuracy: 0.8470\n",
      "num_ns:  12\n",
      "embedding dim:  16\n",
      "vocab_size:  6815\n",
      "Epoch 1/50\n",
      "126/126 [==============================] - 1s 5ms/step - loss: 2.5619 - accuracy: 0.1948 - val_loss: 2.5440 - val_accuracy: 0.5777\n",
      "Epoch 2/50\n",
      "126/126 [==============================] - 1s 5ms/step - loss: 2.3523 - accuracy: 0.6970 - val_loss: 2.0383 - val_accuracy: 0.7007\n",
      "Epoch 3/50\n",
      "126/126 [==============================] - 1s 4ms/step - loss: 1.6431 - accuracy: 0.7283 - val_loss: 1.3504 - val_accuracy: 0.7312\n",
      "Epoch 4/50\n",
      "126/126 [==============================] - 1s 4ms/step - loss: 1.1430 - accuracy: 0.7575 - val_loss: 1.0451 - val_accuracy: 0.7545\n",
      "Epoch 5/50\n",
      "126/126 [==============================] - 1s 4ms/step - loss: 0.9174 - accuracy: 0.7743 - val_loss: 0.8952 - val_accuracy: 0.7652\n",
      "Epoch 6/50\n",
      "126/126 [==============================] - 1s 5ms/step - loss: 0.7965 - accuracy: 0.7838 - val_loss: 0.8115 - val_accuracy: 0.7718\n",
      "Epoch 7/50\n",
      "126/126 [==============================] - 1s 5ms/step - loss: 0.7239 - accuracy: 0.7907 - val_loss: 0.7597 - val_accuracy: 0.7783\n"
     ]
    },
    {
     "name": "stdout",
     "output_type": "stream",
     "text": [
      "Epoch 8/50\n",
      "126/126 [==============================] - 1s 4ms/step - loss: 0.6750 - accuracy: 0.7971 - val_loss: 0.7241 - val_accuracy: 0.7830\n",
      "Epoch 9/50\n",
      "126/126 [==============================] - 1s 4ms/step - loss: 0.6384 - accuracy: 0.8031 - val_loss: 0.6971 - val_accuracy: 0.7874\n",
      "Epoch 10/50\n",
      "126/126 [==============================] - 1s 4ms/step - loss: 0.6090 - accuracy: 0.8094 - val_loss: 0.6753 - val_accuracy: 0.7915\n",
      "Epoch 11/50\n",
      "126/126 [==============================] - 1s 5ms/step - loss: 0.5843 - accuracy: 0.8150 - val_loss: 0.6568 - val_accuracy: 0.7957\n",
      "Epoch 12/50\n",
      "126/126 [==============================] - 1s 4ms/step - loss: 0.5627 - accuracy: 0.8199 - val_loss: 0.6405 - val_accuracy: 0.8001\n",
      "Epoch 13/50\n",
      "126/126 [==============================] - 1s 4ms/step - loss: 0.5436 - accuracy: 0.8243 - val_loss: 0.6261 - val_accuracy: 0.8043\n",
      "Epoch 14/50\n",
      "126/126 [==============================] - 1s 4ms/step - loss: 0.5264 - accuracy: 0.8286 - val_loss: 0.6130 - val_accuracy: 0.8084\n",
      "Epoch 15/50\n",
      "126/126 [==============================] - 1s 5ms/step - loss: 0.5107 - accuracy: 0.8324 - val_loss: 0.6011 - val_accuracy: 0.8124\n",
      "Epoch 16/50\n",
      "126/126 [==============================] - 1s 4ms/step - loss: 0.4962 - accuracy: 0.8365 - val_loss: 0.5903 - val_accuracy: 0.8156\n",
      "Epoch 17/50\n",
      "126/126 [==============================] - 1s 4ms/step - loss: 0.4829 - accuracy: 0.8402 - val_loss: 0.5804 - val_accuracy: 0.8187\n",
      "Epoch 18/50\n",
      "126/126 [==============================] - 1s 5ms/step - loss: 0.4704 - accuracy: 0.8439 - val_loss: 0.5713 - val_accuracy: 0.8220\n",
      "Epoch 19/50\n",
      "126/126 [==============================] - 1s 5ms/step - loss: 0.4586 - accuracy: 0.8473 - val_loss: 0.5629 - val_accuracy: 0.8248\n",
      "Epoch 20/50\n",
      "126/126 [==============================] - 1s 4ms/step - loss: 0.4475 - accuracy: 0.8507 - val_loss: 0.5550 - val_accuracy: 0.8277\n",
      "Epoch 21/50\n",
      "126/126 [==============================] - 1s 4ms/step - loss: 0.4369 - accuracy: 0.8540 - val_loss: 0.5477 - val_accuracy: 0.8300\n",
      "Epoch 22/50\n",
      "126/126 [==============================] - 1s 5ms/step - loss: 0.4266 - accuracy: 0.8573 - val_loss: 0.5408 - val_accuracy: 0.8325\n",
      "Epoch 23/50\n",
      "126/126 [==============================] - 1s 5ms/step - loss: 0.4167 - accuracy: 0.8605 - val_loss: 0.5342 - val_accuracy: 0.8349\n",
      "Epoch 24/50\n",
      "126/126 [==============================] - 1s 5ms/step - loss: 0.4071 - accuracy: 0.8636 - val_loss: 0.5278 - val_accuracy: 0.8371\n",
      "Epoch 25/50\n",
      "126/126 [==============================] - 1s 4ms/step - loss: 0.3975 - accuracy: 0.8667 - val_loss: 0.5217 - val_accuracy: 0.8386\n",
      "Epoch 26/50\n",
      "126/126 [==============================] - 1s 4ms/step - loss: 0.3881 - accuracy: 0.8696 - val_loss: 0.5157 - val_accuracy: 0.8408\n",
      "Epoch 27/50\n",
      "126/126 [==============================] - 1s 5ms/step - loss: 0.3787 - accuracy: 0.8729 - val_loss: 0.5099 - val_accuracy: 0.8429\n",
      "Epoch 28/50\n",
      "126/126 [==============================] - 1s 5ms/step - loss: 0.3692 - accuracy: 0.8763 - val_loss: 0.5041 - val_accuracy: 0.8451\n",
      "Epoch 29/50\n",
      "126/126 [==============================] - 1s 5ms/step - loss: 0.3598 - accuracy: 0.8796 - val_loss: 0.4984 - val_accuracy: 0.8475\n",
      "Epoch 30/50\n",
      "126/126 [==============================] - 1s 5ms/step - loss: 0.3503 - accuracy: 0.8829 - val_loss: 0.4927 - val_accuracy: 0.8494\n",
      "Epoch 31/50\n",
      "126/126 [==============================] - 1s 5ms/step - loss: 0.3407 - accuracy: 0.8864 - val_loss: 0.4871 - val_accuracy: 0.8508\n",
      "Epoch 32/50\n",
      "126/126 [==============================] - 1s 5ms/step - loss: 0.3311 - accuracy: 0.8901 - val_loss: 0.4816 - val_accuracy: 0.8532\n",
      "Epoch 33/50\n",
      "126/126 [==============================] - 1s 4ms/step - loss: 0.3215 - accuracy: 0.8939 - val_loss: 0.4761 - val_accuracy: 0.8559\n",
      "Epoch 34/50\n",
      "126/126 [==============================] - 1s 4ms/step - loss: 0.3118 - accuracy: 0.8976 - val_loss: 0.4708 - val_accuracy: 0.8583\n",
      "Epoch 35/50\n",
      "126/126 [==============================] - 1s 5ms/step - loss: 0.3022 - accuracy: 0.9014 - val_loss: 0.4656 - val_accuracy: 0.8612\n",
      "Epoch 36/50\n",
      "126/126 [==============================] - 1s 5ms/step - loss: 0.2927 - accuracy: 0.9047 - val_loss: 0.4606 - val_accuracy: 0.8629\n",
      "Epoch 37/50\n",
      "126/126 [==============================] - 1s 4ms/step - loss: 0.2833 - accuracy: 0.9081 - val_loss: 0.4558 - val_accuracy: 0.8649\n",
      "Epoch 38/50\n",
      "126/126 [==============================] - 1s 4ms/step - loss: 0.2741 - accuracy: 0.9116 - val_loss: 0.4512 - val_accuracy: 0.8667\n",
      "Epoch 39/50\n",
      "126/126 [==============================] - 1s 5ms/step - loss: 0.2650 - accuracy: 0.9152 - val_loss: 0.4469 - val_accuracy: 0.8685\n",
      "Epoch 40/50\n",
      "126/126 [==============================] - 1s 5ms/step - loss: 0.2561 - accuracy: 0.9186 - val_loss: 0.4428 - val_accuracy: 0.8703\n",
      "Epoch 41/50\n",
      "126/126 [==============================] - 1s 4ms/step - loss: 0.2475 - accuracy: 0.9223 - val_loss: 0.4390 - val_accuracy: 0.8719\n",
      "Epoch 42/50\n",
      "126/126 [==============================] - 1s 4ms/step - loss: 0.2391 - accuracy: 0.9258 - val_loss: 0.4355 - val_accuracy: 0.8731\n",
      "Epoch 43/50\n",
      "126/126 [==============================] - 1s 4ms/step - loss: 0.2309 - accuracy: 0.9290 - val_loss: 0.4322 - val_accuracy: 0.8743\n",
      "Epoch 44/50\n",
      "126/126 [==============================] - 1s 5ms/step - loss: 0.2230 - accuracy: 0.9318 - val_loss: 0.4292 - val_accuracy: 0.8754\n",
      "Epoch 45/50\n",
      "126/126 [==============================] - 1s 5ms/step - loss: 0.2154 - accuracy: 0.9348 - val_loss: 0.4265 - val_accuracy: 0.8765\n",
      "Epoch 46/50\n",
      "126/126 [==============================] - 1s 5ms/step - loss: 0.2081 - accuracy: 0.9378 - val_loss: 0.4240 - val_accuracy: 0.8774\n",
      "Epoch 47/50\n",
      "126/126 [==============================] - 1s 4ms/step - loss: 0.2009 - accuracy: 0.9409 - val_loss: 0.4218 - val_accuracy: 0.8783\n",
      "Epoch 48/50\n",
      "126/126 [==============================] - 1s 4ms/step - loss: 0.1941 - accuracy: 0.9436 - val_loss: 0.4198 - val_accuracy: 0.8792\n",
      "Epoch 49/50\n",
      "126/126 [==============================] - 1s 5ms/step - loss: 0.1875 - accuracy: 0.9460 - val_loss: 0.4181 - val_accuracy: 0.8800\n",
      "Epoch 50/50\n",
      "126/126 [==============================] - 1s 5ms/step - loss: 0.1811 - accuracy: 0.9484 - val_loss: 0.4165 - val_accuracy: 0.8814\n",
      "num_ns:  12\n",
      "embedding dim:  32\n",
      "vocab_size:  6815\n",
      "Epoch 1/50\n",
      "126/126 [==============================] - 1s 6ms/step - loss: 2.5584 - accuracy: 0.2400 - val_loss: 2.5220 - val_accuracy: 0.6589\n",
      "Epoch 2/50\n",
      "126/126 [==============================] - 1s 5ms/step - loss: 2.1734 - accuracy: 0.7209 - val_loss: 1.6649 - val_accuracy: 0.7051\n",
      "Epoch 3/50\n",
      "126/126 [==============================] - 1s 4ms/step - loss: 1.2702 - accuracy: 0.7368 - val_loss: 1.0601 - val_accuracy: 0.7413\n",
      "Epoch 4/50\n",
      "126/126 [==============================] - 1s 4ms/step - loss: 0.9040 - accuracy: 0.7689 - val_loss: 0.8642 - val_accuracy: 0.7637\n",
      "Epoch 5/50\n",
      "126/126 [==============================] - 1s 4ms/step - loss: 0.7572 - accuracy: 0.7849 - val_loss: 0.7721 - val_accuracy: 0.7745\n",
      "Epoch 6/50\n",
      "126/126 [==============================] - 1s 4ms/step - loss: 0.6789 - accuracy: 0.7957 - val_loss: 0.7201 - val_accuracy: 0.7826\n",
      "Epoch 7/50\n",
      "126/126 [==============================] - 1s 5ms/step - loss: 0.6285 - accuracy: 0.8052 - val_loss: 0.6852 - val_accuracy: 0.7889\n",
      "Epoch 8/50\n",
      "126/126 [==============================] - 1s 5ms/step - loss: 0.5912 - accuracy: 0.8130 - val_loss: 0.6586 - val_accuracy: 0.7948\n",
      "Epoch 9/50\n",
      "126/126 [==============================] - 1s 4ms/step - loss: 0.5611 - accuracy: 0.8200 - val_loss: 0.6364 - val_accuracy: 0.7998\n",
      "Epoch 10/50\n",
      "126/126 [==============================] - 1s 4ms/step - loss: 0.5351 - accuracy: 0.8262 - val_loss: 0.6170 - val_accuracy: 0.8060\n",
      "Epoch 11/50\n",
      "126/126 [==============================] - 1s 5ms/step - loss: 0.5118 - accuracy: 0.8326 - val_loss: 0.5994 - val_accuracy: 0.8114\n",
      "Epoch 12/50\n",
      "126/126 [==============================] - 1s 5ms/step - loss: 0.4904 - accuracy: 0.8391 - val_loss: 0.5833 - val_accuracy: 0.8173\n",
      "Epoch 13/50\n",
      "126/126 [==============================] - 1s 4ms/step - loss: 0.4702 - accuracy: 0.8454 - val_loss: 0.5683 - val_accuracy: 0.8227\n",
      "Epoch 14/50\n",
      "126/126 [==============================] - 1s 4ms/step - loss: 0.4510 - accuracy: 0.8511 - val_loss: 0.5541 - val_accuracy: 0.8277\n",
      "Epoch 15/50\n"
     ]
    },
    {
     "name": "stdout",
     "output_type": "stream",
     "text": [
      "126/126 [==============================] - 1s 4ms/step - loss: 0.4325 - accuracy: 0.8574 - val_loss: 0.5406 - val_accuracy: 0.8320\n",
      "Epoch 16/50\n",
      "126/126 [==============================] - 1s 5ms/step - loss: 0.4144 - accuracy: 0.8641 - val_loss: 0.5277 - val_accuracy: 0.8364\n",
      "Epoch 17/50\n",
      "126/126 [==============================] - 1s 4ms/step - loss: 0.3967 - accuracy: 0.8703 - val_loss: 0.5153 - val_accuracy: 0.8402\n",
      "Epoch 18/50\n",
      "126/126 [==============================] - 1s 4ms/step - loss: 0.3793 - accuracy: 0.8763 - val_loss: 0.5034 - val_accuracy: 0.8441\n",
      "Epoch 19/50\n",
      "126/126 [==============================] - 1s 4ms/step - loss: 0.3622 - accuracy: 0.8820 - val_loss: 0.4919 - val_accuracy: 0.8481\n",
      "Epoch 20/50\n",
      "126/126 [==============================] - 1s 4ms/step - loss: 0.3453 - accuracy: 0.8878 - val_loss: 0.4808 - val_accuracy: 0.8515\n",
      "Epoch 21/50\n",
      "126/126 [==============================] - 1s 4ms/step - loss: 0.3287 - accuracy: 0.8936 - val_loss: 0.4703 - val_accuracy: 0.8548\n",
      "Epoch 22/50\n",
      "126/126 [==============================] - 1s 5ms/step - loss: 0.3125 - accuracy: 0.8996 - val_loss: 0.4602 - val_accuracy: 0.8589\n",
      "Epoch 23/50\n",
      "126/126 [==============================] - 1s 4ms/step - loss: 0.2967 - accuracy: 0.9055 - val_loss: 0.4508 - val_accuracy: 0.8624\n",
      "Epoch 24/50\n",
      "126/126 [==============================] - 1s 4ms/step - loss: 0.2814 - accuracy: 0.9111 - val_loss: 0.4419 - val_accuracy: 0.8657\n",
      "Epoch 25/50\n",
      "126/126 [==============================] - 1s 4ms/step - loss: 0.2666 - accuracy: 0.9166 - val_loss: 0.4337 - val_accuracy: 0.8684\n",
      "Epoch 26/50\n",
      "126/126 [==============================] - 1s 4ms/step - loss: 0.2524 - accuracy: 0.9223 - val_loss: 0.4262 - val_accuracy: 0.8720\n",
      "Epoch 27/50\n",
      "126/126 [==============================] - 1s 5ms/step - loss: 0.2389 - accuracy: 0.9274 - val_loss: 0.4192 - val_accuracy: 0.8742\n",
      "Epoch 28/50\n",
      "126/126 [==============================] - 1s 4ms/step - loss: 0.2260 - accuracy: 0.9322 - val_loss: 0.4129 - val_accuracy: 0.8759\n",
      "Epoch 29/50\n",
      "126/126 [==============================] - 1s 4ms/step - loss: 0.2137 - accuracy: 0.9369 - val_loss: 0.4072 - val_accuracy: 0.8781\n",
      "Epoch 30/50\n",
      "126/126 [==============================] - 1s 4ms/step - loss: 0.2020 - accuracy: 0.9414 - val_loss: 0.4020 - val_accuracy: 0.8802\n",
      "Epoch 31/50\n",
      "126/126 [==============================] - 1s 4ms/step - loss: 0.1909 - accuracy: 0.9459 - val_loss: 0.3973 - val_accuracy: 0.8818\n",
      "Epoch 32/50\n",
      "126/126 [==============================] - 1s 4ms/step - loss: 0.1804 - accuracy: 0.9500 - val_loss: 0.3931 - val_accuracy: 0.8837\n",
      "Epoch 33/50\n",
      "126/126 [==============================] - 1s 5ms/step - loss: 0.1704 - accuracy: 0.9537 - val_loss: 0.3893 - val_accuracy: 0.8849\n",
      "Epoch 34/50\n",
      "126/126 [==============================] - 1s 4ms/step - loss: 0.1609 - accuracy: 0.9572 - val_loss: 0.3860 - val_accuracy: 0.8861\n",
      "Epoch 35/50\n",
      "126/126 [==============================] - 1s 4ms/step - loss: 0.1518 - accuracy: 0.9604 - val_loss: 0.3830 - val_accuracy: 0.8874\n",
      "Epoch 36/50\n",
      "126/126 [==============================] - 1s 4ms/step - loss: 0.1432 - accuracy: 0.9636 - val_loss: 0.3804 - val_accuracy: 0.8884\n",
      "Epoch 37/50\n",
      "126/126 [==============================] - 1s 5ms/step - loss: 0.1350 - accuracy: 0.9665 - val_loss: 0.3781 - val_accuracy: 0.8894\n",
      "Epoch 38/50\n",
      "126/126 [==============================] - 1s 5ms/step - loss: 0.1273 - accuracy: 0.9692 - val_loss: 0.3761 - val_accuracy: 0.8901\n",
      "Epoch 39/50\n",
      "126/126 [==============================] - 1s 4ms/step - loss: 0.1199 - accuracy: 0.9718 - val_loss: 0.3744 - val_accuracy: 0.8908\n",
      "Epoch 40/50\n",
      "126/126 [==============================] - 1s 4ms/step - loss: 0.1128 - accuracy: 0.9745 - val_loss: 0.3730 - val_accuracy: 0.8916\n",
      "Epoch 41/50\n",
      "126/126 [==============================] - 1s 4ms/step - loss: 0.1062 - accuracy: 0.9767 - val_loss: 0.3718 - val_accuracy: 0.8922\n",
      "Epoch 42/50\n",
      "126/126 [==============================] - 1s 4ms/step - loss: 0.0999 - accuracy: 0.9789 - val_loss: 0.3709 - val_accuracy: 0.8928\n",
      "Epoch 43/50\n",
      "126/126 [==============================] - 1s 5ms/step - loss: 0.0939 - accuracy: 0.9808 - val_loss: 0.3702 - val_accuracy: 0.8932\n",
      "Epoch 44/50\n",
      "126/126 [==============================] - 1s 4ms/step - loss: 0.0882 - accuracy: 0.9829 - val_loss: 0.3697 - val_accuracy: 0.8934\n",
      "Epoch 45/50\n",
      "126/126 [==============================] - 1s 4ms/step - loss: 0.0828 - accuracy: 0.9847 - val_loss: 0.3694 - val_accuracy: 0.8942\n",
      "Epoch 46/50\n",
      "126/126 [==============================] - 1s 4ms/step - loss: 0.0777 - accuracy: 0.9861 - val_loss: 0.3693 - val_accuracy: 0.8944\n",
      "Epoch 47/50\n",
      "126/126 [==============================] - 1s 4ms/step - loss: 0.0729 - accuracy: 0.9876 - val_loss: 0.3694 - val_accuracy: 0.8946\n",
      "Epoch 48/50\n",
      "126/126 [==============================] - 1s 4ms/step - loss: 0.0684 - accuracy: 0.9889 - val_loss: 0.3696 - val_accuracy: 0.8951\n",
      "Epoch 49/50\n",
      "126/126 [==============================] - 1s 4ms/step - loss: 0.0641 - accuracy: 0.9902 - val_loss: 0.3700 - val_accuracy: 0.8952\n",
      "Epoch 50/50\n",
      "126/126 [==============================] - 1s 4ms/step - loss: 0.0601 - accuracy: 0.9914 - val_loss: 0.3705 - val_accuracy: 0.8952\n",
      "num_ns:  12\n",
      "embedding dim:  64\n",
      "vocab_size:  6815\n",
      "Epoch 1/50\n",
      "126/126 [==============================] - 1s 6ms/step - loss: 2.5531 - accuracy: 0.2574 - val_loss: 2.4868 - val_accuracy: 0.6705\n",
      "Epoch 2/50\n",
      "126/126 [==============================] - 1s 5ms/step - loss: 1.9406 - accuracy: 0.7362 - val_loss: 1.3244 - val_accuracy: 0.7235\n",
      "Epoch 3/50\n",
      "126/126 [==============================] - 1s 5ms/step - loss: 1.0198 - accuracy: 0.7625 - val_loss: 0.8885 - val_accuracy: 0.7645\n",
      "Epoch 4/50\n",
      "126/126 [==============================] - 1s 5ms/step - loss: 0.7519 - accuracy: 0.7889 - val_loss: 0.7499 - val_accuracy: 0.7800\n",
      "Epoch 5/50\n",
      "126/126 [==============================] - 1s 5ms/step - loss: 0.6415 - accuracy: 0.8065 - val_loss: 0.6812 - val_accuracy: 0.7921\n",
      "Epoch 6/50\n",
      "126/126 [==============================] - 1s 5ms/step - loss: 0.5732 - accuracy: 0.8210 - val_loss: 0.6330 - val_accuracy: 0.8043\n",
      "Epoch 7/50\n",
      "126/126 [==============================] - 1s 5ms/step - loss: 0.5218 - accuracy: 0.8342 - val_loss: 0.5953 - val_accuracy: 0.8154\n",
      "Epoch 8/50\n",
      "126/126 [==============================] - 1s 5ms/step - loss: 0.4805 - accuracy: 0.8454 - val_loss: 0.5651 - val_accuracy: 0.8248\n",
      "Epoch 9/50\n",
      "126/126 [==============================] - 1s 5ms/step - loss: 0.4459 - accuracy: 0.8559 - val_loss: 0.5400 - val_accuracy: 0.8321\n",
      "Epoch 10/50\n",
      "126/126 [==============================] - 1s 5ms/step - loss: 0.4154 - accuracy: 0.8652 - val_loss: 0.5183 - val_accuracy: 0.8388\n",
      "Epoch 11/50\n",
      "126/126 [==============================] - 1s 5ms/step - loss: 0.3876 - accuracy: 0.8746 - val_loss: 0.4987 - val_accuracy: 0.8458\n",
      "Epoch 12/50\n",
      "126/126 [==============================] - 1s 5ms/step - loss: 0.3613 - accuracy: 0.8832 - val_loss: 0.4807 - val_accuracy: 0.8509\n",
      "Epoch 13/50\n",
      "126/126 [==============================] - 1s 5ms/step - loss: 0.3361 - accuracy: 0.8921 - val_loss: 0.4639 - val_accuracy: 0.8562\n",
      "Epoch 14/50\n",
      "126/126 [==============================] - 1s 5ms/step - loss: 0.3120 - accuracy: 0.9007 - val_loss: 0.4482 - val_accuracy: 0.8624\n",
      "Epoch 15/50\n",
      "126/126 [==============================] - 1s 5ms/step - loss: 0.2888 - accuracy: 0.9097 - val_loss: 0.4338 - val_accuracy: 0.8676\n",
      "Epoch 16/50\n",
      "126/126 [==============================] - 1s 5ms/step - loss: 0.2669 - accuracy: 0.9180 - val_loss: 0.4206 - val_accuracy: 0.8718\n",
      "Epoch 17/50\n",
      "126/126 [==============================] - 1s 5ms/step - loss: 0.2462 - accuracy: 0.9258 - val_loss: 0.4088 - val_accuracy: 0.8759\n",
      "Epoch 18/50\n",
      "126/126 [==============================] - 1s 5ms/step - loss: 0.2269 - accuracy: 0.9329 - val_loss: 0.3984 - val_accuracy: 0.8795\n",
      "Epoch 19/50\n",
      "126/126 [==============================] - 1s 5ms/step - loss: 0.2089 - accuracy: 0.9401 - val_loss: 0.3892 - val_accuracy: 0.8822\n",
      "Epoch 20/50\n",
      "126/126 [==============================] - 1s 5ms/step - loss: 0.1922 - accuracy: 0.9465 - val_loss: 0.3811 - val_accuracy: 0.8853\n",
      "Epoch 21/50\n",
      "126/126 [==============================] - 1s 5ms/step - loss: 0.1767 - accuracy: 0.9526 - val_loss: 0.3742 - val_accuracy: 0.8878\n",
      "Epoch 22/50\n"
     ]
    },
    {
     "name": "stdout",
     "output_type": "stream",
     "text": [
      "126/126 [==============================] - 1s 5ms/step - loss: 0.1624 - accuracy: 0.9578 - val_loss: 0.3681 - val_accuracy: 0.8898\n",
      "Epoch 23/50\n",
      "126/126 [==============================] - 1s 5ms/step - loss: 0.1491 - accuracy: 0.9630 - val_loss: 0.3629 - val_accuracy: 0.8921\n",
      "Epoch 24/50\n",
      "126/126 [==============================] - 1s 5ms/step - loss: 0.1367 - accuracy: 0.9674 - val_loss: 0.3584 - val_accuracy: 0.8931\n",
      "Epoch 25/50\n",
      "126/126 [==============================] - 1s 5ms/step - loss: 0.1252 - accuracy: 0.9715 - val_loss: 0.3546 - val_accuracy: 0.8937\n",
      "Epoch 26/50\n",
      "126/126 [==============================] - 1s 5ms/step - loss: 0.1145 - accuracy: 0.9752 - val_loss: 0.3513 - val_accuracy: 0.8949\n",
      "Epoch 27/50\n",
      "126/126 [==============================] - 1s 5ms/step - loss: 0.1047 - accuracy: 0.9785 - val_loss: 0.3486 - val_accuracy: 0.8956\n",
      "Epoch 28/50\n",
      "126/126 [==============================] - 1s 5ms/step - loss: 0.0955 - accuracy: 0.9816 - val_loss: 0.3463 - val_accuracy: 0.8962\n",
      "Epoch 29/50\n",
      "126/126 [==============================] - 1s 5ms/step - loss: 0.0871 - accuracy: 0.9842 - val_loss: 0.3444 - val_accuracy: 0.8971\n",
      "Epoch 30/50\n",
      "126/126 [==============================] - 1s 5ms/step - loss: 0.0793 - accuracy: 0.9871 - val_loss: 0.3429 - val_accuracy: 0.8977\n",
      "Epoch 31/50\n",
      "126/126 [==============================] - 1s 5ms/step - loss: 0.0721 - accuracy: 0.9894 - val_loss: 0.3418 - val_accuracy: 0.8988\n",
      "Epoch 32/50\n",
      "126/126 [==============================] - 1s 5ms/step - loss: 0.0655 - accuracy: 0.9912 - val_loss: 0.3409 - val_accuracy: 0.8992\n",
      "Epoch 33/50\n",
      "126/126 [==============================] - 1s 5ms/step - loss: 0.0594 - accuracy: 0.9929 - val_loss: 0.3403 - val_accuracy: 0.8994\n",
      "Epoch 34/50\n",
      "126/126 [==============================] - 1s 5ms/step - loss: 0.0539 - accuracy: 0.9941 - val_loss: 0.3400 - val_accuracy: 0.8995\n",
      "Epoch 35/50\n",
      "126/126 [==============================] - 1s 5ms/step - loss: 0.0489 - accuracy: 0.9953 - val_loss: 0.3399 - val_accuracy: 0.9001\n",
      "Epoch 36/50\n",
      "126/126 [==============================] - 1s 5ms/step - loss: 0.0443 - accuracy: 0.9963 - val_loss: 0.3400 - val_accuracy: 0.9001\n",
      "Epoch 37/50\n",
      "126/126 [==============================] - 1s 5ms/step - loss: 0.0401 - accuracy: 0.9971 - val_loss: 0.3402 - val_accuracy: 0.9004\n",
      "Epoch 38/50\n",
      "126/126 [==============================] - 1s 5ms/step - loss: 0.0363 - accuracy: 0.9978 - val_loss: 0.3407 - val_accuracy: 0.9005\n",
      "Epoch 39/50\n",
      "126/126 [==============================] - 1s 5ms/step - loss: 0.0329 - accuracy: 0.9983 - val_loss: 0.3413 - val_accuracy: 0.9008\n",
      "Epoch 40/50\n",
      "126/126 [==============================] - 1s 5ms/step - loss: 0.0298 - accuracy: 0.9987 - val_loss: 0.3421 - val_accuracy: 0.9011\n",
      "Epoch 41/50\n",
      "126/126 [==============================] - 1s 5ms/step - loss: 0.0271 - accuracy: 0.9990 - val_loss: 0.3430 - val_accuracy: 0.9012\n",
      "Epoch 42/50\n",
      "126/126 [==============================] - 1s 5ms/step - loss: 0.0246 - accuracy: 0.9993 - val_loss: 0.3439 - val_accuracy: 0.9013\n",
      "Epoch 43/50\n",
      "126/126 [==============================] - 1s 5ms/step - loss: 0.0223 - accuracy: 0.9995 - val_loss: 0.3450 - val_accuracy: 0.9015\n",
      "Epoch 44/50\n",
      "126/126 [==============================] - 1s 5ms/step - loss: 0.0202 - accuracy: 0.9996 - val_loss: 0.3462 - val_accuracy: 0.9014\n",
      "Epoch 45/50\n",
      "126/126 [==============================] - 1s 5ms/step - loss: 0.0184 - accuracy: 0.9997 - val_loss: 0.3474 - val_accuracy: 0.9017\n",
      "Epoch 46/50\n",
      "126/126 [==============================] - 1s 5ms/step - loss: 0.0167 - accuracy: 0.9998 - val_loss: 0.3487 - val_accuracy: 0.9016\n",
      "Epoch 47/50\n",
      "126/126 [==============================] - 1s 5ms/step - loss: 0.0152 - accuracy: 0.9999 - val_loss: 0.3500 - val_accuracy: 0.9015\n",
      "Epoch 48/50\n",
      "126/126 [==============================] - 1s 5ms/step - loss: 0.0139 - accuracy: 0.9999 - val_loss: 0.3514 - val_accuracy: 0.9014\n",
      "Epoch 49/50\n",
      "126/126 [==============================] - 1s 5ms/step - loss: 0.0127 - accuracy: 0.9999 - val_loss: 0.3528 - val_accuracy: 0.9015\n",
      "Epoch 50/50\n",
      "126/126 [==============================] - 1s 5ms/step - loss: 0.0116 - accuracy: 0.9999 - val_loss: 0.3543 - val_accuracy: 0.9015\n",
      "num_ns:  12\n",
      "embedding dim:  128\n",
      "vocab_size:  6815\n",
      "Epoch 1/50\n",
      "126/126 [==============================] - 1s 11ms/step - loss: 2.5374 - accuracy: 0.3015 - val_loss: 2.3904 - val_accuracy: 0.6917\n",
      "Epoch 2/50\n",
      "126/126 [==============================] - 1s 10ms/step - loss: 1.6364 - accuracy: 0.7394 - val_loss: 1.0702 - val_accuracy: 0.7388\n",
      "Epoch 3/50\n",
      "126/126 [==============================] - 1s 10ms/step - loss: 0.8363 - accuracy: 0.7811 - val_loss: 0.7650 - val_accuracy: 0.7787\n",
      "Epoch 4/50\n",
      "126/126 [==============================] - 1s 9ms/step - loss: 0.6320 - accuracy: 0.8125 - val_loss: 0.6554 - val_accuracy: 0.7994\n",
      "Epoch 5/50\n",
      "126/126 [==============================] - 1s 10ms/step - loss: 0.5299 - accuracy: 0.8364 - val_loss: 0.5874 - val_accuracy: 0.8192\n",
      "Epoch 6/50\n",
      "126/126 [==============================] - 1s 10ms/step - loss: 0.4599 - accuracy: 0.8555 - val_loss: 0.5395 - val_accuracy: 0.8340\n",
      "Epoch 7/50\n",
      "126/126 [==============================] - 1s 9ms/step - loss: 0.4062 - accuracy: 0.8713 - val_loss: 0.5027 - val_accuracy: 0.8435\n",
      "Epoch 8/50\n",
      "126/126 [==============================] - 1s 9ms/step - loss: 0.3606 - accuracy: 0.8864 - val_loss: 0.4722 - val_accuracy: 0.8533\n",
      "Epoch 9/50\n",
      "126/126 [==============================] - 1s 9ms/step - loss: 0.3199 - accuracy: 0.9002 - val_loss: 0.4460 - val_accuracy: 0.8618\n",
      "Epoch 10/50\n",
      "126/126 [==============================] - 1s 10ms/step - loss: 0.2833 - accuracy: 0.9131 - val_loss: 0.4237 - val_accuracy: 0.8691\n",
      "Epoch 11/50\n",
      "126/126 [==============================] - 1s 10ms/step - loss: 0.2503 - accuracy: 0.9254 - val_loss: 0.4048 - val_accuracy: 0.8755\n",
      "Epoch 12/50\n",
      "126/126 [==============================] - 1s 10ms/step - loss: 0.2208 - accuracy: 0.9366 - val_loss: 0.3890 - val_accuracy: 0.8801\n",
      "Epoch 13/50\n",
      "126/126 [==============================] - 1s 10ms/step - loss: 0.1946 - accuracy: 0.9471 - val_loss: 0.3757 - val_accuracy: 0.8843\n",
      "Epoch 14/50\n",
      "126/126 [==============================] - 1s 9ms/step - loss: 0.1713 - accuracy: 0.9556 - val_loss: 0.3647 - val_accuracy: 0.8882\n",
      "Epoch 15/50\n",
      "126/126 [==============================] - 1s 9ms/step - loss: 0.1505 - accuracy: 0.9635 - val_loss: 0.3555 - val_accuracy: 0.8904\n",
      "Epoch 16/50\n",
      "126/126 [==============================] - 1s 10ms/step - loss: 0.1320 - accuracy: 0.9704 - val_loss: 0.3479 - val_accuracy: 0.8929\n",
      "Epoch 17/50\n",
      "126/126 [==============================] - 1s 9ms/step - loss: 0.1156 - accuracy: 0.9759 - val_loss: 0.3416 - val_accuracy: 0.8952\n",
      "Epoch 18/50\n",
      "126/126 [==============================] - 1s 10ms/step - loss: 0.1010 - accuracy: 0.9808 - val_loss: 0.3365 - val_accuracy: 0.8965\n",
      "Epoch 19/50\n",
      "126/126 [==============================] - 1s 9ms/step - loss: 0.0881 - accuracy: 0.9850 - val_loss: 0.3322 - val_accuracy: 0.8982\n",
      "Epoch 20/50\n",
      "126/126 [==============================] - 1s 9ms/step - loss: 0.0767 - accuracy: 0.9886 - val_loss: 0.3287 - val_accuracy: 0.8992\n",
      "Epoch 21/50\n",
      "126/126 [==============================] - 1s 9ms/step - loss: 0.0667 - accuracy: 0.9915 - val_loss: 0.3260 - val_accuracy: 0.8999\n",
      "Epoch 22/50\n",
      "126/126 [==============================] - 1s 9ms/step - loss: 0.0580 - accuracy: 0.9939 - val_loss: 0.3238 - val_accuracy: 0.9012\n",
      "Epoch 23/50\n",
      "126/126 [==============================] - 1s 9ms/step - loss: 0.0504 - accuracy: 0.9955 - val_loss: 0.3222 - val_accuracy: 0.9017\n",
      "Epoch 24/50\n",
      "126/126 [==============================] - 1s 10ms/step - loss: 0.0438 - accuracy: 0.9970 - val_loss: 0.3210 - val_accuracy: 0.9025\n",
      "Epoch 25/50\n",
      "126/126 [==============================] - 1s 10ms/step - loss: 0.0382 - accuracy: 0.9980 - val_loss: 0.3202 - val_accuracy: 0.9032\n",
      "Epoch 26/50\n",
      "126/126 [==============================] - 1s 9ms/step - loss: 0.0333 - accuracy: 0.9987 - val_loss: 0.3197 - val_accuracy: 0.9038\n",
      "Epoch 27/50\n",
      "126/126 [==============================] - 1s 9ms/step - loss: 0.0291 - accuracy: 0.9991 - val_loss: 0.3195 - val_accuracy: 0.9040\n",
      "Epoch 28/50\n",
      "126/126 [==============================] - 1s 9ms/step - loss: 0.0254 - accuracy: 0.9994 - val_loss: 0.3195 - val_accuracy: 0.9041\n"
     ]
    },
    {
     "name": "stdout",
     "output_type": "stream",
     "text": [
      "Epoch 29/50\n",
      "126/126 [==============================] - 1s 10ms/step - loss: 0.0223 - accuracy: 0.9996 - val_loss: 0.3197 - val_accuracy: 0.9043\n",
      "Epoch 30/50\n",
      "126/126 [==============================] - 1s 9ms/step - loss: 0.0196 - accuracy: 0.9998 - val_loss: 0.3200 - val_accuracy: 0.9046\n",
      "Epoch 31/50\n",
      "126/126 [==============================] - 1s 9ms/step - loss: 0.0173 - accuracy: 0.9999 - val_loss: 0.3205 - val_accuracy: 0.9047\n",
      "Epoch 32/50\n",
      "126/126 [==============================] - 1s 9ms/step - loss: 0.0153 - accuracy: 0.9999 - val_loss: 0.3211 - val_accuracy: 0.9047\n",
      "Epoch 33/50\n",
      "126/126 [==============================] - 1s 9ms/step - loss: 0.0136 - accuracy: 0.9999 - val_loss: 0.3218 - val_accuracy: 0.9050\n",
      "Epoch 34/50\n",
      "126/126 [==============================] - 1s 9ms/step - loss: 0.0121 - accuracy: 1.0000 - val_loss: 0.3225 - val_accuracy: 0.9051\n",
      "Epoch 35/50\n",
      "126/126 [==============================] - 1s 10ms/step - loss: 0.0108 - accuracy: 1.0000 - val_loss: 0.3234 - val_accuracy: 0.9053\n",
      "Epoch 36/50\n",
      "126/126 [==============================] - 1s 10ms/step - loss: 0.0096 - accuracy: 1.0000 - val_loss: 0.3243 - val_accuracy: 0.9056\n",
      "Epoch 37/50\n",
      "126/126 [==============================] - 1s 10ms/step - loss: 0.0086 - accuracy: 1.0000 - val_loss: 0.3253 - val_accuracy: 0.9060\n",
      "Epoch 38/50\n",
      "126/126 [==============================] - 1s 10ms/step - loss: 0.0078 - accuracy: 1.0000 - val_loss: 0.3263 - val_accuracy: 0.9062\n",
      "Epoch 39/50\n",
      "126/126 [==============================] - 1s 9ms/step - loss: 0.0070 - accuracy: 1.0000 - val_loss: 0.3273 - val_accuracy: 0.9059\n",
      "Epoch 40/50\n",
      "126/126 [==============================] - 1s 10ms/step - loss: 0.0063 - accuracy: 1.0000 - val_loss: 0.3284 - val_accuracy: 0.9061\n",
      "Epoch 41/50\n",
      "126/126 [==============================] - 1s 9ms/step - loss: 0.0057 - accuracy: 1.0000 - val_loss: 0.3295 - val_accuracy: 0.9063\n",
      "Epoch 42/50\n",
      "126/126 [==============================] - 1s 10ms/step - loss: 0.0052 - accuracy: 1.0000 - val_loss: 0.3306 - val_accuracy: 0.9063\n",
      "Epoch 43/50\n",
      "126/126 [==============================] - 1s 10ms/step - loss: 0.0047 - accuracy: 1.0000 - val_loss: 0.3317 - val_accuracy: 0.9064\n",
      "Epoch 44/50\n",
      "126/126 [==============================] - 1s 9ms/step - loss: 0.0043 - accuracy: 1.0000 - val_loss: 0.3329 - val_accuracy: 0.9065\n",
      "Epoch 45/50\n",
      "126/126 [==============================] - 1s 9ms/step - loss: 0.0039 - accuracy: 1.0000 - val_loss: 0.3340 - val_accuracy: 0.9066\n",
      "Epoch 46/50\n",
      "126/126 [==============================] - 1s 10ms/step - loss: 0.0036 - accuracy: 1.0000 - val_loss: 0.3352 - val_accuracy: 0.9068\n",
      "Epoch 47/50\n",
      "126/126 [==============================] - 1s 9ms/step - loss: 0.0033 - accuracy: 1.0000 - val_loss: 0.3364 - val_accuracy: 0.9069\n",
      "Epoch 48/50\n",
      "126/126 [==============================] - 1s 9ms/step - loss: 0.0030 - accuracy: 1.0000 - val_loss: 0.3376 - val_accuracy: 0.9072\n",
      "Epoch 49/50\n",
      "126/126 [==============================] - 1s 9ms/step - loss: 0.0027 - accuracy: 1.0000 - val_loss: 0.3388 - val_accuracy: 0.9073\n",
      "Epoch 50/50\n",
      "126/126 [==============================] - 1s 9ms/step - loss: 0.0025 - accuracy: 1.0000 - val_loss: 0.3400 - val_accuracy: 0.9075\n"
     ]
    }
   ],
   "source": [
    "eds = [8, 16, 32, 64, 128]\n",
    "hs = []\n",
    "epochs = 50\n",
    "for ed in eds:\n",
    "    embedding_dim = ed\n",
    "    word2vec = Word2Vec(vocab_size, embedding_dim, num_ns)\n",
    "    word2vec.compile(optimizer='adam',\n",
    "                  loss=tf.keras.losses.CategoricalCrossentropy(from_logits=True),\n",
    "                  metrics=['accuracy'])\n",
    "\n",
    "    h = word2vec.fit(dataset_train, epochs=epochs, validation_data=dataset_val)\n",
    "    hs.append(h)"
   ]
  },
  {
   "cell_type": "code",
   "execution_count": 66,
   "metadata": {},
   "outputs": [
    {
     "data": {
      "text/plain": [
       "<matplotlib.legend.Legend at 0x7f2b5ea2cb80>"
      ]
     },
     "execution_count": 66,
     "metadata": {},
     "output_type": "execute_result"
    },
    {
     "data": {
      "image/png": "[encoded data removed]",
      "text/plain": [
       "<Figure size 900x540 with 1 Axes>"
      ]
     },
     "metadata": {
      "needs_background": "light"
     },
     "output_type": "display_data"
    }
   ],
   "source": [
    "plt.figure(figsize = (12.5, 7.5))\n",
    "for ed, h in zip(eds, hs):\n",
    "    plt.plot(np.arange(epochs), h.history[\"val_accuracy\"], label = str(ed))\n",
    "    plt.text(epochs, h.history[\"val_accuracy\"][-1], str(h.history[\"val_accuracy\"][-1])[:4])\n",
    "plt.grid(\"both\")\n",
    "plt.legend()"
   ]
  },
  {
   "cell_type": "markdown",
   "metadata": {},
   "source": [
    "### Train final model"
   ]
  },
  {
   "cell_type": "code",
   "execution_count": 69,
   "metadata": {},
   "outputs": [
    {
     "name": "stdout",
     "output_type": "stream",
     "text": [
      "num_ns:  12\n",
      "embedding dim:  32\n",
      "vocab_size:  6815\n",
      "Epoch 1/55\n",
      "157/157 [==============================] - 1s 4ms/step - loss: 2.5549 - accuracy: 0.3121\n",
      "Epoch 2/55\n",
      "157/157 [==============================] - 1s 4ms/step - loss: 2.3013 - accuracy: 0.7288\n",
      "Epoch 3/55\n",
      "157/157 [==============================] - 1s 3ms/step - loss: 1.5522 - accuracy: 0.7306\n",
      "Epoch 4/55\n",
      "157/157 [==============================] - 1s 3ms/step - loss: 1.0168 - accuracy: 0.7463\n",
      "Epoch 5/55\n",
      "157/157 [==============================] - 1s 4ms/step - loss: 0.8314 - accuracy: 0.7616\n",
      "Epoch 6/55\n",
      "157/157 [==============================] - 1s 4ms/step - loss: 0.7481 - accuracy: 0.7727\n",
      "Epoch 7/55\n",
      "157/157 [==============================] - 1s 4ms/step - loss: 0.6992 - accuracy: 0.7804\n",
      "Epoch 8/55\n",
      "157/157 [==============================] - 1s 3ms/step - loss: 0.6664 - accuracy: 0.7857\n",
      "Epoch 9/55\n",
      "157/157 [==============================] - 1s 4ms/step - loss: 0.6424 - accuracy: 0.7897\n",
      "Epoch 10/55\n",
      "157/157 [==============================] - 1s 4ms/step - loss: 0.6231 - accuracy: 0.7932\n",
      "Epoch 11/55\n",
      "157/157 [==============================] - 1s 3ms/step - loss: 0.6063 - accuracy: 0.7970\n",
      "Epoch 12/55\n",
      "157/157 [==============================] - 1s 4ms/step - loss: 0.5904 - accuracy: 0.8015\n",
      "Epoch 13/55\n",
      "157/157 [==============================] - 1s 3ms/step - loss: 0.5742 - accuracy: 0.8063\n",
      "Epoch 14/55\n",
      "157/157 [==============================] - 1s 4ms/step - loss: 0.5569 - accuracy: 0.8118\n",
      "Epoch 15/55\n",
      "157/157 [==============================] - 1s 4ms/step - loss: 0.5378 - accuracy: 0.8185\n",
      "Epoch 16/55\n",
      "157/157 [==============================] - 1s 4ms/step - loss: 0.5168 - accuracy: 0.8260\n",
      "Epoch 17/55\n",
      "157/157 [==============================] - 1s 4ms/step - loss: 0.4941 - accuracy: 0.8343\n",
      "Epoch 18/55\n",
      "157/157 [==============================] - 1s 4ms/step - loss: 0.4702 - accuracy: 0.8430\n",
      "Epoch 19/55\n",
      "157/157 [==============================] - 1s 4ms/step - loss: 0.4460 - accuracy: 0.8517\n",
      "Epoch 20/55\n",
      "157/157 [==============================] - 1s 4ms/step - loss: 0.4220 - accuracy: 0.8611\n",
      "Epoch 21/55\n",
      "157/157 [==============================] - 1s 4ms/step - loss: 0.3987 - accuracy: 0.8695\n",
      "Epoch 22/55\n",
      "157/157 [==============================] - 1s 4ms/step - loss: 0.3762 - accuracy: 0.8780\n",
      "Epoch 23/55\n",
      "157/157 [==============================] - 1s 4ms/step - loss: 0.3546 - accuracy: 0.8859\n",
      "Epoch 24/55\n",
      "157/157 [==============================] - 1s 4ms/step - loss: 0.3339 - accuracy: 0.8930\n",
      "Epoch 25/55\n",
      "157/157 [==============================] - 1s 4ms/step - loss: 0.3143 - accuracy: 0.9002\n",
      "Epoch 26/55\n",
      "157/157 [==============================] - 1s 4ms/step - loss: 0.2955 - accuracy: 0.9068\n",
      "Epoch 27/55\n",
      "157/157 [==============================] - 1s 4ms/step - loss: 0.2778 - accuracy: 0.9134\n",
      "Epoch 28/55\n",
      "157/157 [==============================] - 1s 4ms/step - loss: 0.2612 - accuracy: 0.9195\n",
      "Epoch 29/55\n",
      "157/157 [==============================] - 1s 4ms/step - loss: 0.2456 - accuracy: 0.9249\n",
      "Epoch 30/55\n",
      "157/157 [==============================] - 1s 4ms/step - loss: 0.2310 - accuracy: 0.9304\n",
      "Epoch 31/55\n",
      "157/157 [==============================] - 1s 4ms/step - loss: 0.2174 - accuracy: 0.9354\n",
      "Epoch 32/55\n",
      "157/157 [==============================] - 1s 4ms/step - loss: 0.2047 - accuracy: 0.9397\n",
      "Epoch 33/55\n",
      "157/157 [==============================] - 1s 4ms/step - loss: 0.1929 - accuracy: 0.9444\n",
      "Epoch 34/55\n",
      "157/157 [==============================] - 1s 4ms/step - loss: 0.1819 - accuracy: 0.9485\n",
      "Epoch 35/55\n",
      "157/157 [==============================] - 1s 4ms/step - loss: 0.1715 - accuracy: 0.9522\n",
      "Epoch 36/55\n",
      "157/157 [==============================] - 1s 4ms/step - loss: 0.1618 - accuracy: 0.9558\n",
      "Epoch 37/55\n",
      "157/157 [==============================] - 1s 4ms/step - loss: 0.1526 - accuracy: 0.9590\n",
      "Epoch 38/55\n",
      "157/157 [==============================] - 1s 4ms/step - loss: 0.1439 - accuracy: 0.9621\n",
      "Epoch 39/55\n",
      "157/157 [==============================] - 1s 4ms/step - loss: 0.1358 - accuracy: 0.9649\n",
      "Epoch 40/55\n",
      "157/157 [==============================] - 1s 4ms/step - loss: 0.1281 - accuracy: 0.9677\n",
      "Epoch 41/55\n",
      "157/157 [==============================] - 1s 4ms/step - loss: 0.1207 - accuracy: 0.9704\n",
      "Epoch 42/55\n",
      "157/157 [==============================] - 1s 4ms/step - loss: 0.1138 - accuracy: 0.9727\n",
      "Epoch 43/55\n",
      "157/157 [==============================] - 1s 4ms/step - loss: 0.1073 - accuracy: 0.9751\n",
      "Epoch 44/55\n",
      "157/157 [==============================] - 1s 4ms/step - loss: 0.1011 - accuracy: 0.9772\n",
      "Epoch 45/55\n",
      "157/157 [==============================] - 1s 4ms/step - loss: 0.0952 - accuracy: 0.9792\n",
      "Epoch 46/55\n",
      "157/157 [==============================] - 1s 4ms/step - loss: 0.0897 - accuracy: 0.9810\n",
      "Epoch 47/55\n",
      "157/157 [==============================] - 1s 4ms/step - loss: 0.0844 - accuracy: 0.9830\n",
      "Epoch 48/55\n",
      "157/157 [==============================] - 1s 4ms/step - loss: 0.0794 - accuracy: 0.9845\n",
      "Epoch 49/55\n",
      "157/157 [==============================] - 1s 3ms/step - loss: 0.0747 - accuracy: 0.9860\n",
      "Epoch 50/55\n",
      "157/157 [==============================] - 1s 3ms/step - loss: 0.0703 - accuracy: 0.9873\n",
      "Epoch 51/55\n",
      "157/157 [==============================] - 1s 3ms/step - loss: 0.0661 - accuracy: 0.9886\n",
      "Epoch 52/55\n",
      "157/157 [==============================] - 1s 3ms/step - loss: 0.0621 - accuracy: 0.9897\n",
      "Epoch 53/55\n",
      "157/157 [==============================] - 1s 4ms/step - loss: 0.0584 - accuracy: 0.9909\n",
      "Epoch 54/55\n",
      "157/157 [==============================] - 1s 4ms/step - loss: 0.0549 - accuracy: 0.9919\n",
      "Epoch 55/55\n",
      "157/157 [==============================] - 1s 3ms/step - loss: 0.0515 - accuracy: 0.9928\n"
     ]
    }
   ],
   "source": [
    "epochs = 55\n",
    "embedding_dim = 32\n",
    "word2vec = Word2Vec(vocab_size, embedding_dim, num_ns)\n",
    "word2vec.compile(optimizer='adam',\n",
    "              loss=tf.keras.losses.CategoricalCrossentropy(from_logits=True),\n",
    "              metrics=['accuracy'])\n",
    "\n",
    "h = word2vec.fit(dataset, epochs=epochs)"
   ]
  },
  {
   "cell_type": "code",
   "execution_count": 70,
   "metadata": {},
   "outputs": [],
   "source": [
    "weights = word2vec.get_layer('w2v_embedding').get_weights()[0]"
   ]
  },
  {
   "cell_type": "code",
   "execution_count": 72,
   "metadata": {},
   "outputs": [],
   "source": [
    "out_v = io.open('vectors_cat.tsv', 'w', encoding='utf-8')\n",
    "out_m = io.open('meta_cat.tsv', 'w', encoding='utf-8')\n",
    "\n",
    "for indx in range(vocab_size):\n",
    "    cat = inv_vocab[indx]\n",
    "    vec = weights[indx]\n",
    "    out_v.write('\\t'.join([str(x) for x in vec]) + \"\\n\")\n",
    "    if cat is not None:\n",
    "        out_m.write(cat + \"\\n\")\n",
    "    else:\n",
    "        out_m.write(\"None\\n\")\n",
    "    \n",
    "out_v.close()\n",
    "out_m.close()"
   ]
  },
  {
   "cell_type": "code",
   "execution_count": 73,
   "metadata": {},
   "outputs": [],
   "source": [
    "import pickle\n",
    "a_file = open(\"imput_cat.pkl\", \"wb\")\n",
    "pickle.dump(imput_keys, a_file)\n",
    "a_file.close()"
   ]
  },
  {
   "cell_type": "code",
   "execution_count": 74,
   "metadata": {},
   "outputs": [
    {
     "name": "stdout",
     "output_type": "stream",
     "text": [
      "cat2vec.ipynb  imput_cat.pkl  meta_cat.tsv  vectors_cat.tsv\r\n"
     ]
    }
   ],
   "source": [
    "!ls"
   ]
  },
  {
   "cell_type": "code",
   "execution_count": 75,
   "metadata": {},
   "outputs": [
    {
     "data": {
      "text/plain": [
       "True"
      ]
     },
     "execution_count": 75,
     "metadata": {},
     "output_type": "execute_result"
    }
   ],
   "source": [
    "a_file = open(\"imput_cat.pkl\", \"rb\")\n",
    "output = pickle.load(a_file)\n",
    "output == imput_keys"
   ]
  },
  {
   "cell_type": "code",
   "execution_count": 76,
   "metadata": {},
   "outputs": [
    {
     "data": {
      "text/plain": [
       "False"
      ]
     },
     "execution_count": 76,
     "metadata": {},
     "output_type": "execute_result"
    }
   ],
   "source": [
    "None in imput_keys"
   ]
  },
  {
   "cell_type": "code",
   "execution_count": 77,
   "metadata": {},
   "outputs": [
    {
     "name": "stdout",
     "output_type": "stream",
     "text": [
      "cat2vec.ipynb  imput_cat.pkl  meta_cat.tsv  vectors_cat.tsv\r\n"
     ]
    }
   ],
   "source": [
    "!ls"
   ]
  }
 ],
 "metadata": {
  "kernelspec": {
   "display_name": "Python 3",
   "language": "python",
   "name": "python3"
  },
  "language_info": {
   "codemirror_mode": {
    "name": "ipython",
    "version": 3
   },
   "file_extension": ".py",
   "mimetype": "text/x-python",
   "name": "python",
   "nbconvert_exporter": "python",
   "pygments_lexer": "ipython3",
   "version": "3.8.5"
  }
 },
 "nbformat": 4,
 "nbformat_minor": 4
}
