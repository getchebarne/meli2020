{
 "cells": [
  {
   "cell_type": "code",
   "execution_count": 1,
   "metadata": {},
   "outputs": [],
   "source": [
    "import gzip\n",
    "import gc\n",
    "import math\n",
    "import json\n",
    "from collections import Counter, defaultdict\n",
    "import random\n",
    "from tqdm.notebook import tqdm\n",
    "import numpy as np\n",
    "import sys\n",
    "from sklearn.preprocessing import OneHotEncoder\n",
    "\n",
    "from sklearn.model_selection import train_test_split\n",
    "from collections import Counter\n",
    "import matplotlib.pyplot as plt\n",
    "\n",
    "def jl_to_list(fname):\n",
    "    output = []\n",
    "    with gzip.open(fname, \"rb\") as f:\n",
    "        for line in f:\n",
    "            output.append(json.loads(line))\n",
    "    return output"
   ]
  },
  {
   "cell_type": "markdown",
   "metadata": {},
   "source": [
    "### Load user data"
   ]
  },
  {
   "cell_type": "code",
   "execution_count": 3,
   "metadata": {},
   "outputs": [],
   "source": [
    "samples = None\n",
    "test_size = .2\n",
    "rows = jl_to_list(\"../data/train_dataset.jl.gz\")\n",
    "if samples:\n",
    "    rows = rows[:samples]"
   ]
  },
  {
   "cell_type": "markdown",
   "metadata": {},
   "source": [
    "### Train-test split"
   ]
  },
  {
   "cell_type": "code",
   "execution_count": 4,
   "metadata": {},
   "outputs": [
    {
     "name": "stdout",
     "output_type": "stream",
     "text": [
      "Train data: 330530.\n",
      "Test data: 82633.\n"
     ]
    }
   ],
   "source": [
    "val_size = .15\n",
    "rows_train, rows_test = train_test_split(rows, test_size = test_size, random_state = 42)\n",
    "print(f\"Train data: {len(rows_train)}.\")\n",
    "print(f\"Test data: {len(rows_test)}.\")"
   ]
  },
  {
   "cell_type": "markdown",
   "metadata": {},
   "source": [
    "### Load items"
   ]
  },
  {
   "cell_type": "code",
   "execution_count": null,
   "metadata": {},
   "outputs": [],
   "source": [
    "item_data = jl_to_list(\"../data/item_data.jl.gz\")"
   ]
  },
  {
   "cell_type": "markdown",
   "metadata": {},
   "source": [
    "### Save item title strings"
   ]
  },
  {
   "cell_type": "code",
   "execution_count": 7,
   "metadata": {},
   "outputs": [
    {
     "data": {
      "application/vnd.jupyter.widget-view+json": {
       "model_id": "15bccd1aadc04a369196ec7029671f35",
       "version_major": 2,
       "version_minor": 0
      },
      "text/plain": [
       "HBox(children=(HTML(value=''), FloatProgress(value=0.0, max=2102277.0), HTML(value='')))"
      ]
     },
     "metadata": {},
     "output_type": "display_data"
    },
    {
     "name": "stdout",
     "output_type": "stream",
     "text": [
      "\n",
      "Max tokens: 15.\n",
      "Se Vende Hotel Boutique De 5 Estrellas, Con 37 Suites Con Vistas Al Mar Caribe\n",
      "Number of unique words:  623405\n"
     ]
    }
   ],
   "source": [
    "file = open(\"titles.txt\", \"wt\")\n",
    "max_tok = 0\n",
    "max_title = None\n",
    "tokens_hist = []\n",
    "words_ = []\n",
    "word_counter = Counter()\n",
    "for item in tqdm(item_data):\n",
    "    title = item[\"title\"]\n",
    "    words = list(title.lower().split())\n",
    "    words_ += words\n",
    "    for w in words:\n",
    "        word_counter[w] += 1\n",
    "    tokens = len(words)\n",
    "    tokens_hist.append(tokens)\n",
    "    if tokens > max_tok and tokens <= 15:\n",
    "        max_tok = tokens\n",
    "        max_title = title\n",
    "    file.write(title + \"\\n\")\n",
    "    \n",
    "print(f\"Max tokens: {max_tok}.\")\n",
    "print(max_title)\n",
    "print(\"Number of unique words: \", len(set(words_)))"
   ]
  },
  {
   "cell_type": "markdown",
   "metadata": {},
   "source": [
    "### Save user query strings"
   ]
  },
  {
   "cell_type": "code",
   "execution_count": 12,
   "metadata": {},
   "outputs": [
    {
     "data": {
      "application/vnd.jupyter.widget-view+json": {
       "model_id": "673c58d7292c4ab186d7b55308141584",
       "version_major": 2,
       "version_minor": 0
      },
      "text/plain": [
       "HBox(children=(HTML(value=''), FloatProgress(value=0.0, max=330530.0), HTML(value='')))"
      ]
     },
     "metadata": {},
     "output_type": "display_data"
    },
    {
     "name": "stdout",
     "output_type": "stream",
     "text": [
      "\n"
     ]
    }
   ],
   "source": [
    "for row in tqdm(rows_train):\n",
    "    queries = [item[\"event_info\"] for item in row[\"user_history\"]\n",
    "                  if item[\"event_type\"] == \"search\"]\n",
    "    \n",
    "    for q in queries:\n",
    "        file.write(q + \"\\n\")"
   ]
  },
  {
   "cell_type": "code",
   "execution_count": 13,
   "metadata": {},
   "outputs": [],
   "source": [
    "file.close()"
   ]
  },
  {
   "cell_type": "code",
   "execution_count": 55,
   "metadata": {},
   "outputs": [],
   "source": [
    "def crop_word(word_counter, thresh = .7):\n",
    "    s = sum([v for v in word_counter.values()])\n",
    "    aux = word_counter.most_common()\n",
    "    i = 0\n",
    "    buf = 0\n",
    "    while buf < thresh*s:\n",
    "        buf += aux[i][1]\n",
    "        i += 1\n",
    "    return i"
   ]
  },
  {
   "cell_type": "code",
   "execution_count": 56,
   "metadata": {},
   "outputs": [
    {
     "data": {
      "text/plain": [
       "3443"
      ]
     },
     "execution_count": 56,
     "metadata": {},
     "output_type": "execute_result"
    }
   ],
   "source": [
    "crop_word(word_counter)"
   ]
  },
  {
   "cell_type": "code",
   "execution_count": 18,
   "metadata": {},
   "outputs": [
    {
     "data": {
      "image/png": "[encoded data removed]",
      "text/plain": [
       "<Figure size 900x540 with 1 Axes>"
      ]
     },
     "metadata": {
      "needs_background": "light"
     },
     "output_type": "display_data"
    }
   ],
   "source": [
    "plt.figure(figsize = (12.5, 7.5))\n",
    "plt.xticks(np.arange(20))\n",
    "plt.hist(tokens_hist, bins = 20, density = True)\n",
    "plt.grid(\"y\")"
   ]
  },
  {
   "cell_type": "markdown",
   "metadata": {},
   "source": [
    "# Lets begin"
   ]
  },
  {
   "cell_type": "code",
   "execution_count": 18,
   "metadata": {},
   "outputs": [],
   "source": [
    "import io\n",
    "import itertools\n",
    "import numpy as np\n",
    "import os\n",
    "import re\n",
    "import string\n",
    "import tensorflow as tf\n",
    "import tqdm\n",
    "\n",
    "from tensorflow.keras import Model, Sequential\n",
    "from tensorflow.keras.layers import Activation, Dense, Dot, Embedding, Flatten, GlobalAveragePooling1D, Reshape\n",
    "from tensorflow.keras.layers.experimental.preprocessing import TextVectorization"
   ]
  },
  {
   "cell_type": "code",
   "execution_count": 19,
   "metadata": {},
   "outputs": [],
   "source": [
    "SEED = 42 \n",
    "AUTOTUNE = tf.data.experimental.AUTOTUNE"
   ]
  },
  {
   "cell_type": "code",
   "execution_count": 20,
   "metadata": {},
   "outputs": [],
   "source": [
    "# Generates skip-gram pairs with negative sampling for a list of sequences\n",
    "# (int-encoded sentences) based on window size, number of negative samples\n",
    "# and vocabulary size.\n",
    "def generate_training_data(sequences, window_size, num_ns, vocab_size, seed):\n",
    "  # Elements of each training example are appended to these lists.\n",
    "    targets, contexts, labels = [], [], []\n",
    "\n",
    "    # Build the sampling table for vocab_size tokens.\n",
    "    sampling_table = tf.keras.preprocessing.sequence.make_sampling_table(vocab_size)\n",
    "\n",
    "    # Iterate over all sequences (sentences) in dataset.\n",
    "    for sequence in tqdm.tqdm(sequences):\n",
    "        positive_skip_grams, _ = tf.keras.preprocessing.sequence.skipgrams(\n",
    "              sequence, \n",
    "              vocabulary_size=vocab_size,\n",
    "              sampling_table=sampling_table,\n",
    "              window_size=window_size,\n",
    "              negative_samples=0)\n",
    "\n",
    "    # Iterate over each positive skip-gram pair to produce training examples \n",
    "    # with positive context word and negative samples.\n",
    "        for target_word, context_word in positive_skip_grams:\n",
    "            context_class = tf.expand_dims(\n",
    "              tf.constant([context_word], dtype=\"int64\"), 1)\n",
    "            negative_sampling_candidates, _, _ = tf.random.log_uniform_candidate_sampler(\n",
    "              true_classes=context_class,\n",
    "              num_true=1, \n",
    "              num_sampled=num_ns, \n",
    "              unique=True, \n",
    "              range_max=vocab_size, \n",
    "              seed=SEED, \n",
    "              name=\"negative_sampling\")\n",
    "\n",
    "          # Build context and label vectors (for one target word)\n",
    "            negative_sampling_candidates = tf.expand_dims(\n",
    "              negative_sampling_candidates, 1)\n",
    "\n",
    "            context = tf.concat([context_class, negative_sampling_candidates], 0)\n",
    "            label = tf.constant([1] + [0]*num_ns, dtype=\"int64\")\n",
    "\n",
    "            # Append each element from the training example to global lists.\n",
    "            targets.append(target_word)\n",
    "            contexts.append(context)\n",
    "            labels.append(label)\n",
    "\n",
    "    return targets, contexts, labels"
   ]
  },
  {
   "cell_type": "code",
   "execution_count": 21,
   "metadata": {},
   "outputs": [],
   "source": [
    "text_ds = tf.data.TextLineDataset(\"titles.txt\").filter(lambda x: tf.cast(tf.strings.length(x), bool))"
   ]
  },
  {
   "cell_type": "markdown",
   "metadata": {},
   "source": [
    "## Vectorize sentences from the corpus"
   ]
  },
  {
   "cell_type": "code",
   "execution_count": 28,
   "metadata": {},
   "outputs": [],
   "source": [
    "# We create a custom standardization function to lowercase the text and \n",
    "# remove punctuation.\n",
    "def custom_standardization(input_data):\n",
    "    lowercase = tf.strings.lower(input_data)\n",
    "    return tf.strings.regex_replace(lowercase,\n",
    "                                  '[%s]' % re.escape(string.punctuation), '')\n",
    "\n",
    "# Define the vocabulary size and number of words in a sequence.\n",
    "vocab_size = 8192 + 4096\n",
    "sequence_length = 12\n",
    "\n",
    "# Use the text vectorization layer to normalize, split, and map strings to\n",
    "# integers. Set output_sequence_length length to pad all samples to same length.\n",
    "vectorize_layer = TextVectorization(\n",
    "    standardize=custom_standardization,\n",
    "    max_tokens=vocab_size,\n",
    "    output_mode='int',\n",
    "    output_sequence_length=sequence_length)"
   ]
  },
  {
   "cell_type": "code",
   "execution_count": 29,
   "metadata": {},
   "outputs": [],
   "source": [
    "vectorize_layer.adapt(text_ds.batch(1024))"
   ]
  },
  {
   "cell_type": "code",
   "execution_count": 30,
   "metadata": {},
   "outputs": [
    {
     "name": "stdout",
     "output_type": "stream",
     "text": [
      "['', '[UNK]', 'de', 'kit', 'para', 'tenis', 'com', 'infantil', 'e', 'feminino', 'masculino', '2', 'celular', '4', 'original', 'xiaomi', 'led', '3', 'samsung', '10']\n"
     ]
    }
   ],
   "source": [
    "# Save the created vocabulary for reference.\n",
    "inverse_vocab = vectorize_layer.get_vocabulary()\n",
    "print(inverse_vocab[:20])"
   ]
  },
  {
   "cell_type": "code",
   "execution_count": 31,
   "metadata": {},
   "outputs": [],
   "source": [
    "def vectorize_text(text):\n",
    "    text = tf.expand_dims(text, -1)\n",
    "    return tf.squeeze(vectorize_layer(text))\n",
    "\n",
    "# Vectorize the data in text_ds.\n",
    "text_vector_ds = text_ds.batch(1024).prefetch(AUTOTUNE).map(vectorize_layer).unbatch()"
   ]
  },
  {
   "cell_type": "code",
   "execution_count": 32,
   "metadata": {},
   "outputs": [
    {
     "name": "stdout",
     "output_type": "stream",
     "text": [
      "6967053\n"
     ]
    }
   ],
   "source": [
    "sequences = list(text_vector_ds.as_numpy_iterator())\n",
    "print(len(sequences))"
   ]
  },
  {
   "cell_type": "code",
   "execution_count": 33,
   "metadata": {},
   "outputs": [
    {
     "name": "stdout",
     "output_type": "stream",
     "text": [
      "[ 184 2766  393 3726  123 2280    1 2248 4092    2    1    0] => ['casa', 'sola', 'en', 'venta', 'con', 'gran', '[UNK]', 'solo', 'pago', 'de', '[UNK]', '']\n",
      "[ 4692  4227 11247  3426   462   564   393     1     0     0     0     0] => ['resident', 'evil', 'origins', 'collection', 'nintendo', 'switch', 'en', '[UNK]', '', '', '', '']\n",
      "[4787    2    1  880  638    0    0    0    0    0    0    0] => ['falda', 'de', '[UNK]', 'piel', 'negra', '', '', '', '', '', '', '']\n",
      "[    1   578 10402  4455  2620  5897   618  7807     0     0     0     0] => ['[UNK]', 'red', 'devil', 'radeon', 'rx', '580', '8gb', 'gddr5', '', '', '', '']\n",
      "[ 672  291    1  567 2036  123 8657    1 1573   25    0    0] => ['laptop', 'hp', '[UNK]', 'core', 'duo', 'con', 'puerto', '[UNK]', 'windows', '7', '', '']\n"
     ]
    }
   ],
   "source": [
    "for seq in sequences[:5]:\n",
    "    print(f\"{seq} => {[inverse_vocab[i] for i in seq]}\")"
   ]
  },
  {
   "cell_type": "code",
   "execution_count": 34,
   "metadata": {},
   "outputs": [
    {
     "name": "stderr",
     "output_type": "stream",
     "text": [
      "100%|██████████| 6967053/6967053 [29:30<00:00, 3934.66it/s]  "
     ]
    },
    {
     "name": "stdout",
     "output_type": "stream",
     "text": [
      "20606275 20606275 20606275\n"
     ]
    },
    {
     "name": "stderr",
     "output_type": "stream",
     "text": [
      "\n"
     ]
    }
   ],
   "source": [
    "num_ns = 4\n",
    "targets, contexts, labels = generate_training_data(\n",
    "    sequences=sequences, \n",
    "    window_size=2, \n",
    "    num_ns=num_ns, \n",
    "    vocab_size=vocab_size, \n",
    "    seed=SEED)\n",
    "\n",
    "print(len(targets), len(contexts), len(labels))"
   ]
  },
  {
   "cell_type": "markdown",
   "metadata": {},
   "source": [
    "### Train - test splits"
   ]
  },
  {
   "cell_type": "code",
   "execution_count": 73,
   "metadata": {},
   "outputs": [
    {
     "name": "stdout",
     "output_type": "stream",
     "text": [
      "6052252\n",
      "2017418\n"
     ]
    }
   ],
   "source": [
    "N = len(targets)\n",
    "val_size = .25\n",
    "train_indxs, val_indxs = train_test_split(np.arange(N).astype(np.int), test_size = val_size)\n",
    "print(train_indxs.size)\n",
    "print(val_indxs.size)"
   ]
  },
  {
   "cell_type": "code",
   "execution_count": 74,
   "metadata": {},
   "outputs": [
    {
     "name": "stdout",
     "output_type": "stream",
     "text": [
      "<PrefetchDataset shapes: (((1024,), (1024, 6, 1)), (1024, 6)), types: ((tf.int32, tf.int64), tf.int64)>\n"
     ]
    }
   ],
   "source": [
    "BATCH_SIZE = 1024\n",
    "BUFFER_SIZE = 10000\n",
    "\n",
    "targets_train = [targets[i] for i in train_indxs]\n",
    "contexts_train = [contexts[i] for i in train_indxs]\n",
    "labels_train = [labels[i] for i in train_indxs]\n",
    "\n",
    "dataset_train = tf.data.Dataset.from_tensor_slices(((targets_train, contexts_train), labels_train))\n",
    "dataset_train = dataset_train.shuffle(BUFFER_SIZE).batch(BATCH_SIZE, drop_remainder=True)\n",
    "\n",
    "AUTOTUNE = tf.data.experimental.AUTOTUNE\n",
    "dataset_train = dataset_train.cache().prefetch(buffer_size=AUTOTUNE)\n",
    "print(dataset_train)"
   ]
  },
  {
   "cell_type": "code",
   "execution_count": 75,
   "metadata": {},
   "outputs": [
    {
     "name": "stdout",
     "output_type": "stream",
     "text": [
      "<PrefetchDataset shapes: (((1024,), (1024, 6, 1)), (1024, 6)), types: ((tf.int32, tf.int64), tf.int64)>\n"
     ]
    }
   ],
   "source": [
    "targets_val = [targets[i] for i in val_indxs]\n",
    "contexts_val = [contexts[i] for i in val_indxs]\n",
    "labels_val = [labels[i] for i in val_indxs]\n",
    "\n",
    "dataset_val = tf.data.Dataset.from_tensor_slices(((targets_val, contexts_val), labels_val))\n",
    "dataset_val = dataset_val.shuffle(BUFFER_SIZE).batch(BATCH_SIZE, drop_remainder=True)\n",
    "\n",
    "AUTOTUNE = tf.data.experimental.AUTOTUNE\n",
    "dataset_val = dataset_val.cache().prefetch(buffer_size=AUTOTUNE)\n",
    "print(dataset_val)"
   ]
  },
  {
   "cell_type": "markdown",
   "metadata": {},
   "source": [
    "### Whole dataset (for final training)"
   ]
  },
  {
   "cell_type": "code",
   "execution_count": 35,
   "metadata": {},
   "outputs": [
    {
     "name": "stdout",
     "output_type": "stream",
     "text": [
      "<BatchDataset shapes: (((1024,), (1024, 5, 1)), (1024, 5)), types: ((tf.int32, tf.int64), tf.int64)>\n"
     ]
    }
   ],
   "source": [
    "BATCH_SIZE = 1024\n",
    "BUFFER_SIZE = 10000\n",
    "dataset = tf.data.Dataset.from_tensor_slices(((targets, contexts), labels))\n",
    "dataset = dataset.shuffle(BUFFER_SIZE).batch(BATCH_SIZE, drop_remainder=True)\n",
    "print(dataset)"
   ]
  },
  {
   "cell_type": "code",
   "execution_count": 36,
   "metadata": {},
   "outputs": [
    {
     "name": "stdout",
     "output_type": "stream",
     "text": [
      "<PrefetchDataset shapes: (((1024,), (1024, 5, 1)), (1024, 5)), types: ((tf.int32, tf.int64), tf.int64)>\n"
     ]
    }
   ],
   "source": [
    "dataset = dataset.cache().prefetch(buffer_size=AUTOTUNE)\n",
    "print(dataset)"
   ]
  },
  {
   "cell_type": "markdown",
   "metadata": {},
   "source": [
    "## Model and training"
   ]
  },
  {
   "cell_type": "code",
   "execution_count": 37,
   "metadata": {},
   "outputs": [],
   "source": [
    "class Word2Vec(Model):\n",
    "    def __init__(self, vocab_size, embedding_dim, num_ns):\n",
    "        super(Word2Vec, self).__init__()\n",
    "        self.target_embedding = Embedding(vocab_size, \n",
    "                                          embedding_dim,\n",
    "                                          input_length=1,\n",
    "                                          name=\"w2v_embedding\", )\n",
    "        self.context_embedding = Embedding(vocab_size, \n",
    "                                           embedding_dim, \n",
    "                                           input_length=num_ns+1)\n",
    "        self.dots = Dot(axes=(3,2))\n",
    "        self.flatten = Flatten()\n",
    "        #sanity check\n",
    "        print(\"num_ns: \", num_ns)\n",
    "        print(\"embedding dim: \", embedding_dim)\n",
    "        print(\"vocab_size: \", vocab_size)\n",
    "\n",
    "    def call(self, pair):\n",
    "        target, context = pair\n",
    "        we = self.target_embedding(target)\n",
    "        ce = self.context_embedding(context)\n",
    "        dots = self.dots([ce, we])\n",
    "        return self.flatten(dots)"
   ]
  },
  {
   "cell_type": "markdown",
   "metadata": {},
   "source": [
    "### Train final model"
   ]
  },
  {
   "cell_type": "code",
   "execution_count": 42,
   "metadata": {
    "scrolled": false
   },
   "outputs": [
    {
     "name": "stdout",
     "output_type": "stream",
     "text": [
      "num_ns:  4\n",
      "embedding dim:  16\n",
      "vocab_size:  12288\n",
      "Epoch 1/15\n",
      "20123/20123 [==============================] - 78s 4ms/step - loss: 0.9455 - accuracy: 0.6308\n",
      "Epoch 2/15\n",
      "20123/20123 [==============================] - 78s 4ms/step - loss: 0.7563 - accuracy: 0.7158\n",
      "Epoch 3/15\n",
      "20123/20123 [==============================] - 78s 4ms/step - loss: 0.7270 - accuracy: 0.7273\n",
      "Epoch 4/15\n",
      "20123/20123 [==============================] - 78s 4ms/step - loss: 0.7170 - accuracy: 0.7312\n",
      "Epoch 5/15\n",
      "20123/20123 [==============================] - 78s 4ms/step - loss: 0.7119 - accuracy: 0.7331\n",
      "Epoch 6/15\n",
      "20123/20123 [==============================] - 78s 4ms/step - loss: 0.7085 - accuracy: 0.7344\n",
      "Epoch 7/15\n",
      "20123/20123 [==============================] - 78s 4ms/step - loss: 0.7062 - accuracy: 0.7353\n",
      "Epoch 8/15\n",
      "20123/20123 [==============================] - 78s 4ms/step - loss: 0.7044 - accuracy: 0.7359\n",
      "Epoch 9/15\n",
      "20123/20123 [==============================] - 78s 4ms/step - loss: 0.7030 - accuracy: 0.7364\n",
      "Epoch 10/15\n",
      "20123/20123 [==============================] - 78s 4ms/step - loss: 0.7019 - accuracy: 0.7368\n",
      "Epoch 11/15\n",
      "20123/20123 [==============================] - 78s 4ms/step - loss: 0.7010 - accuracy: 0.7372\n",
      "Epoch 12/15\n",
      "20123/20123 [==============================] - 78s 4ms/step - loss: 0.7002 - accuracy: 0.7374\n",
      "Epoch 13/15\n",
      "20123/20123 [==============================] - 78s 4ms/step - loss: 0.6996 - accuracy: 0.7377\n",
      "Epoch 14/15\n",
      "20123/20123 [==============================] - 78s 4ms/step - loss: 0.6990 - accuracy: 0.7379\n",
      "Epoch 15/15\n",
      "20123/20123 [==============================] - 77s 4ms/step - loss: 0.6985 - accuracy: 0.7380\n"
     ]
    }
   ],
   "source": [
    "epochs = 15\n",
    "embedding_dim = 16\n",
    "word2vec = Word2Vec(vocab_size, embedding_dim, num_ns)\n",
    "word2vec.compile(optimizer='adam',\n",
    "              loss=tf.keras.losses.CategoricalCrossentropy(from_logits=True),\n",
    "              metrics=['accuracy'])\n",
    "\n",
    "h = word2vec.fit(dataset, epochs=epochs)"
   ]
  },
  {
   "cell_type": "code",
   "execution_count": 43,
   "metadata": {},
   "outputs": [],
   "source": [
    "weights = word2vec.get_layer('w2v_embedding').get_weights()[0]\n",
    "vocab = vectorize_layer.get_vocabulary()"
   ]
  },
  {
   "cell_type": "code",
   "execution_count": 44,
   "metadata": {},
   "outputs": [],
   "source": [
    "out_v = io.open('vectors_q_16.tsv', 'w', encoding='utf-8')\n",
    "out_m = io.open('meta_q_16.tsv', 'w', encoding='utf-8')\n",
    "\n",
    "for index, word in enumerate(vocab):\n",
    "    if  index == 0: continue # skip 0, it's padding.\n",
    "    vec = weights[index] \n",
    "    out_v.write('\\t'.join([str(x) for x in vec]) + \"\\n\")\n",
    "    out_m.write(word + \"\\n\")\n",
    "out_v.close()\n",
    "out_m.close()"
   ]
  },
  {
   "cell_type": "code",
   "execution_count": 41,
   "metadata": {},
   "outputs": [
    {
     "name": "stdout",
     "output_type": "stream",
     "text": [
      "total 203M\r\n",
      "-rw-rw-r--. 1 guillermo.etchebarne guillermo.etchebarne   1M Nov 25 20:05 meta_q.tsv\r\n",
      "-rw-rw-r--. 1 guillermo.etchebarne guillermo.etchebarne   1M Nov 24 14:58 meta_tit_32.tsv\r\n",
      "-rw-rw-r--. 1 guillermo.etchebarne guillermo.etchebarne 197M Nov 25 18:38 titles.txt\r\n",
      "-rw-rw-r--. 1 guillermo.etchebarne guillermo.etchebarne   5M Nov 25 20:05 vectors_q.tsv\r\n",
      "-rw-rw-r--. 1 guillermo.etchebarne guillermo.etchebarne   2M Nov 24 14:58 vectors_tit_32.tsv\r\n",
      "-rw-r--r--. 1 guillermo.etchebarne guillermo.etchebarne   1M Nov 23 18:47 word2vec.ipynb\r\n",
      "-rw-rw-r--. 1 guillermo.etchebarne guillermo.etchebarne   1M Nov 25 20:04 word2vec_items.ipynb\r\n"
     ]
    }
   ],
   "source": [
    "!ls -l --block-size=M"
   ]
  }
 ],
 "metadata": {
  "kernelspec": {
   "display_name": "Python 3",
   "language": "python",
   "name": "python3"
  },
  "language_info": {
   "codemirror_mode": {
    "name": "ipython",
    "version": 3
   },
   "file_extension": ".py",
   "mimetype": "text/x-python",
   "name": "python",
   "nbconvert_exporter": "python",
   "pygments_lexer": "ipython3",
   "version": "3.8.5"
  }
 },
 "nbformat": 4,
 "nbformat_minor": 4
}
