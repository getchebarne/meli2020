{
 "cells": [
  {
   "cell_type": "code",
   "execution_count": 1,
   "metadata": {},
   "outputs": [],
   "source": [
    "import gzip\n",
    "import gc\n",
    "import math\n",
    "import json\n",
    "from collections import Counter, defaultdict\n",
    "import random\n",
    "from tqdm.notebook import tqdm\n",
    "import numpy as np\n",
    "\n",
    "from sklearn.model_selection import train_test_split\n",
    "import matplotlib.pyplot as plt\n",
    "\n",
    "def jl_to_list(fname):\n",
    "    output = []\n",
    "    with gzip.open(fname, \"rb\") as f:\n",
    "        for line in f:\n",
    "            output.append(json.loads(line))\n",
    "    return output"
   ]
  },
  {
   "cell_type": "markdown",
   "metadata": {},
   "source": [
    "### Load user data"
   ]
  },
  {
   "cell_type": "code",
   "execution_count": 2,
   "metadata": {},
   "outputs": [],
   "source": [
    "samples = None\n",
    "test_size = .2\n",
    "rows = jl_to_list(\"../data/train_dataset.jl.gz\")\n",
    "if samples:\n",
    "    rows = rows[:samples]"
   ]
  },
  {
   "cell_type": "markdown",
   "metadata": {},
   "source": [
    "## Train-test split"
   ]
  },
  {
   "cell_type": "code",
   "execution_count": 3,
   "metadata": {},
   "outputs": [
    {
     "name": "stdout",
     "output_type": "stream",
     "text": [
      "Train data: 330530.\n",
      "Test data: 82633.\n"
     ]
    }
   ],
   "source": [
    "val_size = .15\n",
    "rows_train, rows_test = train_test_split(rows, test_size = test_size, random_state = 42)\n",
    "print(f\"Train data: {len(rows_train)}.\")\n",
    "print(f\"Test data: {len(rows_test)}.\")"
   ]
  },
  {
   "cell_type": "markdown",
   "metadata": {},
   "source": [
    "### Load items"
   ]
  },
  {
   "cell_type": "code",
   "execution_count": 13,
   "metadata": {},
   "outputs": [],
   "source": [
    "item_data = jl_to_list(\"../data/item_data.jl.gz\")\n",
    "metadata = {x[\"item_id\"] : x for x in item_data}"
   ]
  },
  {
   "cell_type": "markdown",
   "metadata": {},
   "source": [
    "### Count domains across items"
   ]
  },
  {
   "cell_type": "code",
   "execution_count": 5,
   "metadata": {},
   "outputs": [
    {
     "data": {
      "application/vnd.jupyter.widget-view+json": {
       "model_id": "be743846c47647199c657fc46a29fe2f",
       "version_major": 2,
       "version_minor": 0
      },
      "text/plain": [
       "HBox(children=(HTML(value=''), FloatProgress(value=0.0, max=2102277.0), HTML(value='')))"
      ]
     },
     "metadata": {},
     "output_type": "display_data"
    },
    {
     "name": "stdout",
     "output_type": "stream",
     "text": [
      "\n"
     ]
    }
   ],
   "source": [
    "domains = []\n",
    "domains_counter = Counter()\n",
    "for item in tqdm(item_data):\n",
    "    domains.append(item[\"domain_id\"])\n",
    "    domains_counter[item[\"domain_id\"]] += 1"
   ]
  },
  {
   "cell_type": "markdown",
   "metadata": {},
   "source": [
    "### Remove domains with very low frequency"
   ]
  },
  {
   "cell_type": "code",
   "execution_count": 6,
   "metadata": {},
   "outputs": [],
   "source": [
    "def crop_domains(domains_counter, thresh = .99):\n",
    "    s = sum([v for v in domains_counter.values()])\n",
    "    aux = domains_counter.most_common()\n",
    "    i = 0\n",
    "    buf = 0\n",
    "    while buf < thresh*s:\n",
    "        buf += aux[i][1]\n",
    "        i += 1\n",
    "        \n",
    "    res = sum([aux[j][1] for j in range(i, len(aux))])    #resto\n",
    "    \n",
    "    new_counter = Counter()\n",
    "    for a in aux[:i+1]:\n",
    "        new_counter[a[0]] = a[1]\n",
    "    new_counter[None] = domains_counter[None] + res    #casi no cambia\n",
    "    \n",
    "    imput_keys = [a[0] for a in aux[i+1:]]            #domains lost\n",
    "    \n",
    "    return i, res, new_counter, imput_keys"
   ]
  },
  {
   "cell_type": "code",
   "execution_count": 9,
   "metadata": {},
   "outputs": [
    {
     "name": "stdout",
     "output_type": "stream",
     "text": [
      "Cantidad nueva de dominios : 4803.\n",
      "Total de items que perdieron su dominio: 21018.\n"
     ]
    }
   ],
   "source": [
    "t = .99\n",
    "i, r, new_counter, imput_keys = crop_domains(domains_counter, thresh = t)\n",
    "print(f\"Cantidad nueva de dominios : {i + 1}.\")\n",
    "print(f\"Total de items que perdieron su dominio: {r}.\")"
   ]
  },
  {
   "cell_type": "markdown",
   "metadata": {},
   "source": [
    "### New counter, used to create vocab and verify Zipfs"
   ]
  },
  {
   "cell_type": "code",
   "execution_count": 8,
   "metadata": {},
   "outputs": [
    {
     "data": {
      "text/plain": [
       "4803"
      ]
     },
     "execution_count": 8,
     "metadata": {},
     "output_type": "execute_result"
    }
   ],
   "source": [
    "domains_set = [k[0] for k in new_counter.most_common()]; len(domains_set)    #new counter, sorted from high to low freq"
   ]
  },
  {
   "cell_type": "markdown",
   "metadata": {},
   "source": [
    "### Create vocabulary"
   ]
  },
  {
   "cell_type": "code",
   "execution_count": 10,
   "metadata": {},
   "outputs": [
    {
     "data": {
      "application/vnd.jupyter.widget-view+json": {
       "model_id": "9b5c2e838d2a4b978abfcdb08e456153",
       "version_major": 2,
       "version_minor": 0
      },
      "text/plain": [
       "HBox(children=(HTML(value=''), FloatProgress(value=1.0, bar_style='info', layout=Layout(width='20px'), max=1.0…"
      ]
     },
     "metadata": {},
     "output_type": "display_data"
    },
    {
     "name": "stdout",
     "output_type": "stream",
     "text": [
      "\n"
     ]
    }
   ],
   "source": [
    "vocab = {}\n",
    "for i, d in tqdm(enumerate(domains_set, start = 0)):\n",
    "    vocab[d] = i\n",
    "\n",
    "inv_vocab = {v : k for k, v in vocab.items()}\n",
    "vocab_size = len(vocab.keys())"
   ]
  },
  {
   "cell_type": "markdown",
   "metadata": {},
   "source": [
    "### Plot PDF, compare to Zipf's"
   ]
  },
  {
   "cell_type": "code",
   "execution_count": 22,
   "metadata": {},
   "outputs": [
    {
     "data": {
      "application/vnd.jupyter.widget-view+json": {
       "model_id": "ceebfedbe46f4cb4a3121e24a603b214",
       "version_major": 2,
       "version_minor": 0
      },
      "text/plain": [
       "HBox(children=(HTML(value=''), FloatProgress(value=1.0, bar_style='info', layout=Layout(width='20px'), max=1.0…"
      ]
     },
     "metadata": {},
     "output_type": "display_data"
    },
    {
     "name": "stdout",
     "output_type": "stream",
     "text": [
      "\n"
     ]
    },
    {
     "data": {
      "application/vnd.jupyter.widget-view+json": {
       "model_id": "aec606583e09488db6b1884043c92971",
       "version_major": 2,
       "version_minor": 0
      },
      "text/plain": [
       "HBox(children=(HTML(value=''), FloatProgress(value=0.0, max=4802.0), HTML(value='')))"
      ]
     },
     "metadata": {},
     "output_type": "display_data"
    },
    {
     "name": "stdout",
     "output_type": "stream",
     "text": [
      "\n"
     ]
    },
    {
     "name": "stderr",
     "output_type": "stream",
     "text": [
      "<ipython-input-22-8aab8995f35d>:16: RuntimeWarning: divide by zero encountered in log10\n",
      "  plt.scatter(np.log10(np.arange(len(counts))), np.log10(counts))\n",
      "<ipython-input-22-8aab8995f35d>:17: RuntimeWarning: divide by zero encountered in log10\n",
      "  plt.plot(np.log10(np.arange(len(ps))), np.log10(ps), c = \"orange\")\n"
     ]
    },
    {
     "data": {
      "image/png": "[encoded data removed]",
      "text/plain": [
       "<Figure size 900x540 with 1 Axes>"
      ]
     },
     "metadata": {
      "needs_background": "light"
     },
     "output_type": "display_data"
    }
   ],
   "source": [
    "# domains\n",
    "counts = []\n",
    "for i, (k, v) in tqdm(enumerate(new_counter.items())):\n",
    "    counts.append(v)\n",
    "counts = np.array(sorted(counts, reverse = True))/sum(counts)\n",
    "\n",
    "# Zipfs\n",
    "s = 1\n",
    "ps = []\n",
    "den = sum([1/(n**s) for n in range(1, counts.size)])\n",
    "for k in tqdm(range(1, counts.size)):\n",
    "    p = (1/(k**s))/den\n",
    "    ps.append(p)\n",
    "\n",
    "plt.figure(figsize = (12.5, 7.5))\n",
    "plt.scatter(np.log10(np.arange(len(counts))), np.log10(counts))\n",
    "plt.plot(np.log10(np.arange(len(ps))), np.log10(ps), c = \"orange\")\n",
    "plt.grid(\"both\")"
   ]
  },
  {
   "cell_type": "markdown",
   "metadata": {},
   "source": [
    "### Determine domain x domain visit counts"
   ]
  },
  {
   "cell_type": "code",
   "execution_count": 14,
   "metadata": {},
   "outputs": [],
   "source": [
    "def create_dict(rows, meta, vocab, imput_keys):\n",
    "    N = len(vocab.keys())\n",
    "    dom_x_dom = np.zeros((N, N)).astype(np.int)\n",
    "    for i, row in tqdm(enumerate(rows)):\n",
    "        viewed = [meta[item[\"event_info\"]][\"domain_id\"] for item in row[\"user_history\"]\n",
    "                  if item[\"event_type\"] == \"view\"]\n",
    "        \n",
    "        viewed = list(set(viewed))\n",
    "        for i, v1 in enumerate(viewed):\n",
    "            if v1 in imput_keys: v1 = None\n",
    "            for v2 in viewed[i + 1:]:\n",
    "                if v2 in imput_keys: v2 = None\n",
    "                dom_x_dom[vocab[v1], vocab[v2]] += 1\n",
    "                dom_x_dom[vocab[v2], vocab[v1]] += 1\n",
    "    \n",
    "    return dom_x_dom"
   ]
  },
  {
   "cell_type": "code",
   "execution_count": 15,
   "metadata": {
    "scrolled": true
   },
   "outputs": [
    {
     "data": {
      "application/vnd.jupyter.widget-view+json": {
       "model_id": "d455fe3d5b2043d09925fd972fcf149a",
       "version_major": 2,
       "version_minor": 0
      },
      "text/plain": [
       "HBox(children=(HTML(value=''), FloatProgress(value=1.0, bar_style='info', layout=Layout(width='20px'), max=1.0…"
      ]
     },
     "metadata": {},
     "output_type": "display_data"
    },
    {
     "name": "stdout",
     "output_type": "stream",
     "text": [
      "\n"
     ]
    }
   ],
   "source": [
    "dom_x_dom = create_dict(rows_train, metadata, vocab, imput_keys)"
   ]
  },
  {
   "cell_type": "code",
   "execution_count": 16,
   "metadata": {},
   "outputs": [
    {
     "name": "stdout",
     "output_type": "stream",
     "text": [
      "(4803, 4803)\n",
      "La cantidad de elementos no-nulos es: 1591247.\n",
      "La cantidad de elementos nulos es: 21477562.\n"
     ]
    }
   ],
   "source": [
    "print(dom_x_dom.shape)\n",
    "print(f\"La cantidad de elementos no-nulos es: {np.count_nonzero(dom_x_dom)}.\")\n",
    "print(f\"La cantidad de elementos nulos es: {dom_x_dom.shape[0]*dom_x_dom.shape[1] - np.count_nonzero(dom_x_dom)}.\")"
   ]
  },
  {
   "cell_type": "markdown",
   "metadata": {},
   "source": [
    "### Get related domains (edges)"
   ]
  },
  {
   "cell_type": "code",
   "execution_count": 17,
   "metadata": {
    "scrolled": true
   },
   "outputs": [],
   "source": [
    "def binarize(dom_x_dom, thresh = 2):\n",
    "    aux = dom_x_dom.copy()\n",
    "    aux[aux < thresh] = 0\n",
    "    aux[aux >= thresh] = 1\n",
    "    return aux"
   ]
  },
  {
   "cell_type": "code",
   "execution_count": 18,
   "metadata": {},
   "outputs": [
    {
     "name": "stdout",
     "output_type": "stream",
     "text": [
      "La cantidad de elementos no-nulos es: 232901.\n",
      "La cantidad de elementos nulos es: 22835908.\n"
     ]
    }
   ],
   "source": [
    "dom_x_dom_b = binarize(dom_x_dom, thresh = 5)\n",
    "print(f\"La cantidad de elementos no-nulos es: {np.count_nonzero(dom_x_dom_b)}.\")\n",
    "print(f\"La cantidad de elementos nulos es: {dom_x_dom_b.shape[0]*dom_x_dom_b.shape[1] - np.count_nonzero(dom_x_dom_b)}.\")"
   ]
  },
  {
   "cell_type": "markdown",
   "metadata": {},
   "source": [
    "### Lets copy word2vec gen"
   ]
  },
  {
   "cell_type": "code",
   "execution_count": 19,
   "metadata": {},
   "outputs": [],
   "source": [
    "import io\n",
    "import itertools\n",
    "import tensorflow as tf\n",
    "\n",
    "from tensorflow.keras import Model, Sequential\n",
    "from tensorflow.keras.layers import Activation, Dense, Dot, Embedding, Flatten, GlobalAveragePooling1D, Reshape"
   ]
  },
  {
   "cell_type": "markdown",
   "metadata": {},
   "source": [
    "### Function to generate positive and negative training examples"
   ]
  },
  {
   "cell_type": "code",
   "execution_count": 20,
   "metadata": {},
   "outputs": [],
   "source": [
    "def generate_training_data(dom_x_dom_b, num_ns, vocab_size, seed):\n",
    "    targets, contexts, labels = [], [], []\n",
    "    sampling_table = tf.keras.preprocessing.sequence.make_sampling_table(vocab_size)\n",
    "    # iterate over all domains\n",
    "    for i, dom in enumerate(tqdm(dom_x_dom_b)):\n",
    "        #positive samples\n",
    "        positives = []\n",
    "        false_candidates = []\n",
    "        for j, st in enumerate(sampling_table):\n",
    "            if dom[j] == 1:\n",
    "                if np.random.rand() < st:\n",
    "                    positives.append(j)\n",
    "            else:\n",
    "                false_candidates.append((j, st))\n",
    "        #for each positive example \n",
    "        for p in positives:\n",
    "            # get negatvies\n",
    "            nega = []\n",
    "            for f in false_candidates:\n",
    "                if np.random.rand() < f[1]:\n",
    "                    nega.append(f[0])\n",
    "            \n",
    "            negatives_p = np.random.choice(nega, size = num_ns)\n",
    "            #save them\n",
    "            context = tf.constant([p] + negatives_p.tolist(), dtype = \"int64\")\n",
    "            label = tf.constant([1] + [0]*num_ns, dtype=\"int64\") \n",
    "            \n",
    "            targets.append(i)\n",
    "            contexts.append(tf.reshape(context, (1 + num_ns, 1)))\n",
    "            labels.append(label)\n",
    "    \n",
    "    return targets, contexts, labels"
   ]
  },
  {
   "cell_type": "code",
   "execution_count": 34,
   "metadata": {},
   "outputs": [],
   "source": [
    "def generate_training_data_v2(dom_x_dom_b, num_ns, vocab_size, seed):\n",
    "    targets, contexts, labels = [], [], []\n",
    "    sampling_table = tf.keras.preprocessing.sequence.make_sampling_table(vocab_size)\n",
    "    # iterate over all domains\n",
    "    for i, dom in enumerate(tqdm(dom_x_dom_b)):\n",
    "        #positive samples\n",
    "        positives = []\n",
    "        false_candidates = []\n",
    "        for j, st in enumerate(sampling_table):\n",
    "            if dom[j] == 1:\n",
    "                positives.append(j)\n",
    "            else:\n",
    "                false_candidates.append((j, st))\n",
    "        #for each positive example \n",
    "        for p in positives:\n",
    "            # get negatvies\n",
    "            nega = []\n",
    "            for f in false_candidates:\n",
    "                nega.append(f[0])\n",
    "            \n",
    "            negatives_p = np.random.choice(nega, size = num_ns)\n",
    "            #save them\n",
    "            context = tf.constant([p] + negatives_p.tolist(), dtype = \"int64\")\n",
    "            label = tf.constant([1] + [0]*num_ns, dtype=\"int64\") \n",
    "            \n",
    "            targets.append(i)\n",
    "            contexts.append(tf.reshape(context, (1 + num_ns, 1)))\n",
    "            labels.append(label)\n",
    "    \n",
    "    return targets, contexts, labels"
   ]
  },
  {
   "cell_type": "code",
   "execution_count": 36,
   "metadata": {
    "scrolled": false
   },
   "outputs": [
    {
     "data": {
      "application/vnd.jupyter.widget-view+json": {
       "model_id": "7ebcb45e1f3241a9a9e2b2636ef13765",
       "version_major": 2,
       "version_minor": 0
      },
      "text/plain": [
       "HBox(children=(HTML(value=''), FloatProgress(value=0.0, max=4803.0), HTML(value='')))"
      ]
     },
     "metadata": {},
     "output_type": "display_data"
    },
    {
     "name": "stdout",
     "output_type": "stream",
     "text": [
      "\n",
      "232901 232901 232901\n"
     ]
    }
   ],
   "source": [
    "num_ns = 12\n",
    "targets, contexts, labels = generate_training_data_v2(\n",
    "    dom_x_dom_b,  \n",
    "    num_ns=num_ns,\n",
    "    vocab_size=vocab_size, \n",
    "    seed=42)\n",
    "print(len(targets), len(contexts), len(labels))"
   ]
  },
  {
   "cell_type": "markdown",
   "metadata": {},
   "source": [
    "### Train-test splits"
   ]
  },
  {
   "cell_type": "code",
   "execution_count": 47,
   "metadata": {},
   "outputs": [],
   "source": [
    "N = len(targets)\n",
    "val_size = .2\n",
    "train_indxs, val_indxs = train_test_split(np.arange(N).astype(np.int), test_size = val_size)"
   ]
  },
  {
   "cell_type": "code",
   "execution_count": 55,
   "metadata": {},
   "outputs": [
    {
     "name": "stdout",
     "output_type": "stream",
     "text": [
      "<PrefetchDataset shapes: (((1024,), (1024, 13, 1)), (1024, 13)), types: ((tf.int32, tf.int64), tf.int64)>\n"
     ]
    }
   ],
   "source": [
    "targets_train = [targets[i] for i in train_indxs]\n",
    "contexts_train = [contexts[i] for i in train_indxs]\n",
    "labels_train = [labels[i] for i in train_indxs]\n",
    "\n",
    "dataset_train = tf.data.Dataset.from_tensor_slices(((targets_train, contexts_train), labels_train))\n",
    "dataset_train = dataset_train.shuffle(BUFFER_SIZE).batch(BATCH_SIZE, drop_remainder=True)\n",
    "\n",
    "AUTOTUNE = tf.data.experimental.AUTOTUNE\n",
    "dataset_train = dataset_train.cache().prefetch(buffer_size=AUTOTUNE)\n",
    "print(dataset_train)"
   ]
  },
  {
   "cell_type": "code",
   "execution_count": 56,
   "metadata": {},
   "outputs": [
    {
     "name": "stdout",
     "output_type": "stream",
     "text": [
      "<PrefetchDataset shapes: (((1024,), (1024, 13, 1)), (1024, 13)), types: ((tf.int32, tf.int64), tf.int64)>\n"
     ]
    }
   ],
   "source": [
    "targets_val = [targets[i] for i in val_indxs]\n",
    "contexts_val = [contexts[i] for i in val_indxs]\n",
    "labels_val = [labels[i] for i in val_indxs]\n",
    "\n",
    "dataset_val = tf.data.Dataset.from_tensor_slices(((targets_val, contexts_val), labels_val))\n",
    "dataset_val = dataset_val.shuffle(BUFFER_SIZE).batch(BATCH_SIZE, drop_remainder=True)\n",
    "\n",
    "AUTOTUNE = tf.data.experimental.AUTOTUNE\n",
    "dataset_val = dataset_val.cache().prefetch(buffer_size=AUTOTUNE)\n",
    "print(dataset_val)"
   ]
  },
  {
   "cell_type": "markdown",
   "metadata": {},
   "source": [
    "### Keep copying, now for performance"
   ]
  },
  {
   "cell_type": "code",
   "execution_count": 37,
   "metadata": {},
   "outputs": [
    {
     "name": "stdout",
     "output_type": "stream",
     "text": [
      "<BatchDataset shapes: (((1024,), (1024, 13, 1)), (1024, 13)), types: ((tf.int32, tf.int64), tf.int64)>\n"
     ]
    }
   ],
   "source": [
    "BATCH_SIZE = 1024\n",
    "BUFFER_SIZE = 10000\n",
    "dataset = tf.data.Dataset.from_tensor_slices(((targets, contexts), labels))\n",
    "dataset = dataset.shuffle(BUFFER_SIZE).batch(BATCH_SIZE, drop_remainder=True)\n",
    "print(dataset)"
   ]
  },
  {
   "cell_type": "code",
   "execution_count": 38,
   "metadata": {},
   "outputs": [
    {
     "name": "stdout",
     "output_type": "stream",
     "text": [
      "<PrefetchDataset shapes: (((1024,), (1024, 13, 1)), (1024, 13)), types: ((tf.int32, tf.int64), tf.int64)>\n"
     ]
    }
   ],
   "source": [
    "AUTOTUNE = tf.data.experimental.AUTOTUNE\n",
    "dataset = dataset.cache().prefetch(buffer_size=AUTOTUNE)\n",
    "print(dataset)"
   ]
  },
  {
   "cell_type": "markdown",
   "metadata": {},
   "source": [
    "### Define model"
   ]
  },
  {
   "cell_type": "code",
   "execution_count": 57,
   "metadata": {},
   "outputs": [],
   "source": [
    "class Word2Vec(Model):\n",
    "    def __init__(self, vocab_size, embedding_dim, num_ns):\n",
    "        super(Word2Vec, self).__init__()\n",
    "        self.target_embedding = Embedding(vocab_size, \n",
    "                                          embedding_dim,\n",
    "                                          input_length=1,\n",
    "                                          name=\"w2v_embedding\", )\n",
    "        self.context_embedding = Embedding(vocab_size, \n",
    "                                           embedding_dim, \n",
    "                                           input_length=num_ns+1)\n",
    "        self.dots = Dot(axes=(3,2))\n",
    "        self.flatten = Flatten()\n",
    "        #sanity check\n",
    "        print(\"num_ns: \", num_ns)\n",
    "        print(\"embedding dim: \", embedding_dim)\n",
    "        print(\"vocab_size: \", vocab_size)\n",
    "\n",
    "    def call(self, pair):\n",
    "        target, context = pair\n",
    "        we = self.target_embedding(target)\n",
    "        ce = self.context_embedding(context)\n",
    "        dots = self.dots([ce, we])\n",
    "        return self.flatten(dots)"
   ]
  },
  {
   "cell_type": "code",
   "execution_count": 66,
   "metadata": {},
   "outputs": [
    {
     "name": "stdout",
     "output_type": "stream",
     "text": [
      "num_ns:  12\n",
      "embedding dim:  8\n",
      "vocab_size:  4803\n",
      "Epoch 1/50\n",
      "181/181 [==============================] - 1s 6ms/step - loss: 2.5568 - accuracy: 0.2676 - val_loss: 2.5137 - val_accuracy: 0.6195\n",
      "Epoch 2/50\n",
      "181/181 [==============================] - 1s 5ms/step - loss: 2.2371 - accuracy: 0.6880 - val_loss: 1.8631 - val_accuracy: 0.7288\n",
      "Epoch 3/50\n",
      "181/181 [==============================] - 1s 5ms/step - loss: 1.5230 - accuracy: 0.7568 - val_loss: 1.2732 - val_accuracy: 0.7633\n",
      "Epoch 4/50\n",
      "181/181 [==============================] - 1s 5ms/step - loss: 1.1054 - accuracy: 0.7752 - val_loss: 1.0013 - val_accuracy: 0.7719\n",
      "Epoch 5/50\n",
      "181/181 [==============================] - 1s 5ms/step - loss: 0.9030 - accuracy: 0.7810 - val_loss: 0.8630 - val_accuracy: 0.7755\n",
      "Epoch 6/50\n",
      "181/181 [==============================] - 1s 5ms/step - loss: 0.7968 - accuracy: 0.7844 - val_loss: 0.7895 - val_accuracy: 0.7780\n",
      "Epoch 7/50\n",
      "181/181 [==============================] - 1s 5ms/step - loss: 0.7371 - accuracy: 0.7866 - val_loss: 0.7467 - val_accuracy: 0.7797\n",
      "Epoch 8/50\n",
      "181/181 [==============================] - 1s 5ms/step - loss: 0.7001 - accuracy: 0.7883 - val_loss: 0.7195 - val_accuracy: 0.7815\n",
      "Epoch 9/50\n",
      "181/181 [==============================] - 1s 5ms/step - loss: 0.6750 - accuracy: 0.7899 - val_loss: 0.7009 - val_accuracy: 0.7828\n",
      "Epoch 10/50\n",
      "181/181 [==============================] - 1s 5ms/step - loss: 0.6566 - accuracy: 0.7915 - val_loss: 0.6871 - val_accuracy: 0.7840\n",
      "Epoch 11/50\n",
      "181/181 [==============================] - 1s 5ms/step - loss: 0.6423 - accuracy: 0.7933 - val_loss: 0.6763 - val_accuracy: 0.7854\n",
      "Epoch 12/50\n",
      "181/181 [==============================] - 1s 5ms/step - loss: 0.6303 - accuracy: 0.7949 - val_loss: 0.6672 - val_accuracy: 0.7866\n",
      "Epoch 13/50\n",
      "181/181 [==============================] - 1s 5ms/step - loss: 0.6197 - accuracy: 0.7967 - val_loss: 0.6590 - val_accuracy: 0.7882\n",
      "Epoch 14/50\n",
      "181/181 [==============================] - 1s 5ms/step - loss: 0.6097 - accuracy: 0.7987 - val_loss: 0.6509 - val_accuracy: 0.7898\n",
      "Epoch 15/50\n",
      "181/181 [==============================] - 1s 5ms/step - loss: 0.5996 - accuracy: 0.8008 - val_loss: 0.6426 - val_accuracy: 0.7923\n",
      "Epoch 16/50\n",
      "181/181 [==============================] - 1s 5ms/step - loss: 0.5890 - accuracy: 0.8037 - val_loss: 0.6337 - val_accuracy: 0.7950\n",
      "Epoch 17/50\n",
      "181/181 [==============================] - 1s 5ms/step - loss: 0.5778 - accuracy: 0.8070 - val_loss: 0.6240 - val_accuracy: 0.7983\n",
      "Epoch 18/50\n",
      "181/181 [==============================] - 1s 5ms/step - loss: 0.5658 - accuracy: 0.8107 - val_loss: 0.6137 - val_accuracy: 0.8018\n",
      "Epoch 19/50\n",
      "181/181 [==============================] - ETA: 0s - loss: 0.5534 - accuracy: 0.81 - 1s 5ms/step - loss: 0.5532 - accuracy: 0.8151 - val_loss: 0.6030 - val_accuracy: 0.8059\n",
      "Epoch 20/50\n",
      "181/181 [==============================] - 1s 5ms/step - loss: 0.5404 - accuracy: 0.8192 - val_loss: 0.5923 - val_accuracy: 0.8100\n",
      "Epoch 21/50\n",
      "181/181 [==============================] - 1s 5ms/step - loss: 0.5278 - accuracy: 0.8234 - val_loss: 0.5820 - val_accuracy: 0.8134\n",
      "Epoch 22/50\n",
      "181/181 [==============================] - 1s 5ms/step - loss: 0.5158 - accuracy: 0.8278 - val_loss: 0.5725 - val_accuracy: 0.8165\n",
      "Epoch 23/50\n",
      "181/181 [==============================] - 1s 5ms/step - loss: 0.5046 - accuracy: 0.8316 - val_loss: 0.5638 - val_accuracy: 0.8196\n",
      "Epoch 24/50\n",
      "181/181 [==============================] - 1s 5ms/step - loss: 0.4943 - accuracy: 0.8347 - val_loss: 0.5560 - val_accuracy: 0.8223\n",
      "Epoch 25/50\n",
      "181/181 [==============================] - 1s 5ms/step - loss: 0.4848 - accuracy: 0.8376 - val_loss: 0.5490 - val_accuracy: 0.8246\n",
      "Epoch 26/50\n",
      "181/181 [==============================] - 1s 5ms/step - loss: 0.4761 - accuracy: 0.8402 - val_loss: 0.5428 - val_accuracy: 0.8268\n",
      "Epoch 27/50\n",
      "181/181 [==============================] - 1s 5ms/step - loss: 0.4680 - accuracy: 0.8426 - val_loss: 0.5372 - val_accuracy: 0.8285\n",
      "Epoch 28/50\n",
      "181/181 [==============================] - 1s 5ms/step - loss: 0.4605 - accuracy: 0.8448 - val_loss: 0.5321 - val_accuracy: 0.8301\n",
      "Epoch 29/50\n",
      "181/181 [==============================] - 1s 5ms/step - loss: 0.4534 - accuracy: 0.8470 - val_loss: 0.5274 - val_accuracy: 0.8317\n",
      "Epoch 30/50\n",
      "181/181 [==============================] - 1s 5ms/step - loss: 0.4465 - accuracy: 0.8489 - val_loss: 0.5229 - val_accuracy: 0.8329\n",
      "Epoch 31/50\n",
      "181/181 [==============================] - 1s 5ms/step - loss: 0.4399 - accuracy: 0.8509 - val_loss: 0.5187 - val_accuracy: 0.8345\n",
      "Epoch 32/50\n",
      "181/181 [==============================] - 1s 5ms/step - loss: 0.4334 - accuracy: 0.8528 - val_loss: 0.5145 - val_accuracy: 0.8354\n",
      "Epoch 33/50\n",
      "181/181 [==============================] - 1s 5ms/step - loss: 0.4270 - accuracy: 0.8551 - val_loss: 0.5105 - val_accuracy: 0.8370\n",
      "Epoch 34/50\n",
      "181/181 [==============================] - 1s 5ms/step - loss: 0.4206 - accuracy: 0.8572 - val_loss: 0.5065 - val_accuracy: 0.8387\n",
      "Epoch 35/50\n",
      "181/181 [==============================] - 1s 5ms/step - loss: 0.4142 - accuracy: 0.8591 - val_loss: 0.5026 - val_accuracy: 0.8402\n",
      "Epoch 36/50\n",
      "181/181 [==============================] - 1s 5ms/step - loss: 0.4077 - accuracy: 0.8614 - val_loss: 0.4986 - val_accuracy: 0.8416\n",
      "Epoch 37/50\n",
      "181/181 [==============================] - 1s 5ms/step - loss: 0.4013 - accuracy: 0.8635 - val_loss: 0.4948 - val_accuracy: 0.8435\n",
      "Epoch 38/50\n",
      "181/181 [==============================] - 1s 5ms/step - loss: 0.3949 - accuracy: 0.8659 - val_loss: 0.4909 - val_accuracy: 0.8447\n",
      "Epoch 39/50\n",
      "181/181 [==============================] - 1s 5ms/step - loss: 0.3884 - accuracy: 0.8681 - val_loss: 0.4871 - val_accuracy: 0.8463\n",
      "Epoch 40/50\n",
      "181/181 [==============================] - 1s 5ms/step - loss: 0.3820 - accuracy: 0.8705 - val_loss: 0.4834 - val_accuracy: 0.8472\n",
      "Epoch 41/50\n",
      "181/181 [==============================] - 1s 5ms/step - loss: 0.3756 - accuracy: 0.8728 - val_loss: 0.4799 - val_accuracy: 0.8483\n",
      "Epoch 42/50\n",
      "181/181 [==============================] - 1s 5ms/step - loss: 0.3693 - accuracy: 0.8750 - val_loss: 0.4764 - val_accuracy: 0.8498\n",
      "Epoch 43/50\n",
      "181/181 [==============================] - 1s 5ms/step - loss: 0.3631 - accuracy: 0.8770 - val_loss: 0.4731 - val_accuracy: 0.8510\n",
      "Epoch 44/50\n",
      "181/181 [==============================] - 1s 5ms/step - loss: 0.3570 - accuracy: 0.8789 - val_loss: 0.4700 - val_accuracy: 0.8523\n",
      "Epoch 45/50\n",
      "181/181 [==============================] - 1s 5ms/step - loss: 0.3511 - accuracy: 0.8809 - val_loss: 0.4670 - val_accuracy: 0.8534\n",
      "Epoch 46/50\n",
      "181/181 [==============================] - 1s 5ms/step - loss: 0.3453 - accuracy: 0.8828 - val_loss: 0.4643 - val_accuracy: 0.8548\n",
      "Epoch 47/50\n",
      "181/181 [==============================] - 1s 5ms/step - loss: 0.3396 - accuracy: 0.8852 - val_loss: 0.4617 - val_accuracy: 0.8559\n",
      "Epoch 48/50\n",
      "181/181 [==============================] - 1s 5ms/step - loss: 0.3341 - accuracy: 0.8870 - val_loss: 0.4593 - val_accuracy: 0.8567\n",
      "Epoch 49/50\n",
      "181/181 [==============================] - 1s 5ms/step - loss: 0.3287 - accuracy: 0.8889 - val_loss: 0.4572 - val_accuracy: 0.8581\n",
      "Epoch 50/50\n",
      "181/181 [==============================] - 1s 5ms/step - loss: 0.3235 - accuracy: 0.8907 - val_loss: 0.4552 - val_accuracy: 0.8593\n",
      "num_ns:  12\n",
      "embedding dim:  16\n",
      "vocab_size:  4803\n",
      "Epoch 1/50\n",
      "181/181 [==============================] - 1s 5ms/step - loss: 2.5480 - accuracy: 0.2986 - val_loss: 2.4504 - val_accuracy: 0.6521\n",
      "Epoch 2/50\n",
      "181/181 [==============================] - 1s 5ms/step - loss: 1.9563 - accuracy: 0.6914 - val_loss: 1.4509 - val_accuracy: 0.7284\n",
      "Epoch 3/50\n",
      "181/181 [==============================] - 1s 5ms/step - loss: 1.1700 - accuracy: 0.7608 - val_loss: 0.9961 - val_accuracy: 0.7669\n",
      "Epoch 4/50\n",
      "181/181 [==============================] - 1s 5ms/step - loss: 0.8755 - accuracy: 0.7791 - val_loss: 0.8243 - val_accuracy: 0.7750\n",
      "Epoch 5/50\n",
      "181/181 [==============================] - 1s 5ms/step - loss: 0.7557 - accuracy: 0.7848 - val_loss: 0.7509 - val_accuracy: 0.7789\n",
      "Epoch 6/50\n",
      "181/181 [==============================] - 1s 4ms/step - loss: 0.6988 - accuracy: 0.7878 - val_loss: 0.7133 - val_accuracy: 0.7816\n",
      "Epoch 7/50\n"
     ]
    },
    {
     "name": "stdout",
     "output_type": "stream",
     "text": [
      "181/181 [==============================] - 1s 5ms/step - loss: 0.6660 - accuracy: 0.7904 - val_loss: 0.6905 - val_accuracy: 0.7834\n",
      "Epoch 8/50\n",
      "181/181 [==============================] - 1s 4ms/step - loss: 0.6438 - accuracy: 0.7927 - val_loss: 0.6746 - val_accuracy: 0.7855\n",
      "Epoch 9/50\n",
      "181/181 [==============================] - 1s 5ms/step - loss: 0.6266 - accuracy: 0.7955 - val_loss: 0.6616 - val_accuracy: 0.7876\n",
      "Epoch 10/50\n",
      "181/181 [==============================] - 1s 5ms/step - loss: 0.6113 - accuracy: 0.7987 - val_loss: 0.6494 - val_accuracy: 0.7901\n",
      "Epoch 11/50\n",
      "181/181 [==============================] - 1s 5ms/step - loss: 0.5959 - accuracy: 0.8023 - val_loss: 0.6363 - val_accuracy: 0.7939\n",
      "Epoch 12/50\n",
      "181/181 [==============================] - 1s 4ms/step - loss: 0.5792 - accuracy: 0.8070 - val_loss: 0.6216 - val_accuracy: 0.7989\n",
      "Epoch 13/50\n",
      "181/181 [==============================] - 1s 5ms/step - loss: 0.5607 - accuracy: 0.8129 - val_loss: 0.6052 - val_accuracy: 0.8045\n",
      "Epoch 14/50\n",
      "181/181 [==============================] - 1s 4ms/step - loss: 0.5408 - accuracy: 0.8198 - val_loss: 0.5882 - val_accuracy: 0.8107\n",
      "Epoch 15/50\n",
      "181/181 [==============================] - 1s 5ms/step - loss: 0.5208 - accuracy: 0.8268 - val_loss: 0.5717 - val_accuracy: 0.8161\n",
      "Epoch 16/50\n",
      "181/181 [==============================] - 1s 5ms/step - loss: 0.5018 - accuracy: 0.8331 - val_loss: 0.5566 - val_accuracy: 0.8217\n",
      "Epoch 17/50\n",
      "181/181 [==============================] - 1s 5ms/step - loss: 0.4843 - accuracy: 0.8389 - val_loss: 0.5432 - val_accuracy: 0.8261\n",
      "Epoch 18/50\n",
      "181/181 [==============================] - 1s 5ms/step - loss: 0.4685 - accuracy: 0.8441 - val_loss: 0.5313 - val_accuracy: 0.8301\n",
      "Epoch 19/50\n",
      "181/181 [==============================] - 1s 4ms/step - loss: 0.4540 - accuracy: 0.8489 - val_loss: 0.5206 - val_accuracy: 0.8334\n",
      "Epoch 20/50\n",
      "181/181 [==============================] - 1s 5ms/step - loss: 0.4405 - accuracy: 0.8536 - val_loss: 0.5109 - val_accuracy: 0.8375\n",
      "Epoch 21/50\n",
      "181/181 [==============================] - 1s 5ms/step - loss: 0.4277 - accuracy: 0.8576 - val_loss: 0.5018 - val_accuracy: 0.8402\n",
      "Epoch 22/50\n",
      "181/181 [==============================] - 1s 5ms/step - loss: 0.4154 - accuracy: 0.8613 - val_loss: 0.4932 - val_accuracy: 0.8431\n",
      "Epoch 23/50\n",
      "181/181 [==============================] - 1s 5ms/step - loss: 0.4035 - accuracy: 0.8653 - val_loss: 0.4851 - val_accuracy: 0.8454\n",
      "Epoch 24/50\n",
      "181/181 [==============================] - 1s 5ms/step - loss: 0.3920 - accuracy: 0.8691 - val_loss: 0.4773 - val_accuracy: 0.8478\n",
      "Epoch 25/50\n",
      "181/181 [==============================] - 1s 5ms/step - loss: 0.3808 - accuracy: 0.8730 - val_loss: 0.4700 - val_accuracy: 0.8505\n",
      "Epoch 26/50\n",
      "181/181 [==============================] - 1s 5ms/step - loss: 0.3699 - accuracy: 0.8768 - val_loss: 0.4630 - val_accuracy: 0.8528\n",
      "Epoch 27/50\n",
      "181/181 [==============================] - 1s 4ms/step - loss: 0.3593 - accuracy: 0.8805 - val_loss: 0.4564 - val_accuracy: 0.8552\n",
      "Epoch 28/50\n",
      "181/181 [==============================] - 1s 4ms/step - loss: 0.3491 - accuracy: 0.8841 - val_loss: 0.4503 - val_accuracy: 0.8574\n",
      "Epoch 29/50\n",
      "181/181 [==============================] - 1s 4ms/step - loss: 0.3391 - accuracy: 0.8876 - val_loss: 0.4445 - val_accuracy: 0.8595\n",
      "Epoch 30/50\n",
      "181/181 [==============================] - 1s 4ms/step - loss: 0.3294 - accuracy: 0.8908 - val_loss: 0.4391 - val_accuracy: 0.8616\n",
      "Epoch 31/50\n",
      "181/181 [==============================] - 1s 5ms/step - loss: 0.3201 - accuracy: 0.8941 - val_loss: 0.4342 - val_accuracy: 0.8634\n",
      "Epoch 32/50\n",
      "181/181 [==============================] - 1s 4ms/step - loss: 0.3110 - accuracy: 0.8972 - val_loss: 0.4296 - val_accuracy: 0.8651\n",
      "Epoch 33/50\n",
      "181/181 [==============================] - 1s 4ms/step - loss: 0.3023 - accuracy: 0.9002 - val_loss: 0.4255 - val_accuracy: 0.8667\n",
      "Epoch 34/50\n",
      "181/181 [==============================] - 1s 4ms/step - loss: 0.2940 - accuracy: 0.9034 - val_loss: 0.4217 - val_accuracy: 0.8683\n",
      "Epoch 35/50\n",
      "181/181 [==============================] - 1s 5ms/step - loss: 0.2859 - accuracy: 0.9062 - val_loss: 0.4183 - val_accuracy: 0.8695\n",
      "Epoch 36/50\n",
      "181/181 [==============================] - 1s 4ms/step - loss: 0.2781 - accuracy: 0.9091 - val_loss: 0.4153 - val_accuracy: 0.8709\n",
      "Epoch 37/50\n",
      "181/181 [==============================] - 1s 4ms/step - loss: 0.2706 - accuracy: 0.9119 - val_loss: 0.4126 - val_accuracy: 0.8715\n",
      "Epoch 38/50\n",
      "181/181 [==============================] - 1s 4ms/step - loss: 0.2634 - accuracy: 0.9147 - val_loss: 0.4102 - val_accuracy: 0.8725\n",
      "Epoch 39/50\n",
      "181/181 [==============================] - 1s 4ms/step - loss: 0.2564 - accuracy: 0.9169 - val_loss: 0.4080 - val_accuracy: 0.8735\n",
      "Epoch 40/50\n",
      "181/181 [==============================] - 1s 4ms/step - loss: 0.2496 - accuracy: 0.9193 - val_loss: 0.4062 - val_accuracy: 0.8748\n",
      "Epoch 41/50\n",
      "181/181 [==============================] - 1s 5ms/step - loss: 0.2431 - accuracy: 0.9219 - val_loss: 0.4045 - val_accuracy: 0.8758\n",
      "Epoch 42/50\n",
      "181/181 [==============================] - 1s 4ms/step - loss: 0.2368 - accuracy: 0.9244 - val_loss: 0.4031 - val_accuracy: 0.8765\n",
      "Epoch 43/50\n",
      "181/181 [==============================] - 1s 4ms/step - loss: 0.2306 - accuracy: 0.9266 - val_loss: 0.4019 - val_accuracy: 0.8768\n",
      "Epoch 44/50\n",
      "181/181 [==============================] - 1s 4ms/step - loss: 0.2246 - accuracy: 0.9288 - val_loss: 0.4009 - val_accuracy: 0.8771\n",
      "Epoch 45/50\n",
      "181/181 [==============================] - 1s 5ms/step - loss: 0.2189 - accuracy: 0.9309 - val_loss: 0.4001 - val_accuracy: 0.8773\n",
      "Epoch 46/50\n",
      "181/181 [==============================] - 1s 4ms/step - loss: 0.2132 - accuracy: 0.9331 - val_loss: 0.3995 - val_accuracy: 0.8780\n",
      "Epoch 47/50\n",
      "181/181 [==============================] - 1s 4ms/step - loss: 0.2078 - accuracy: 0.9353 - val_loss: 0.3990 - val_accuracy: 0.8786\n",
      "Epoch 48/50\n",
      "181/181 [==============================] - 1s 4ms/step - loss: 0.2025 - accuracy: 0.9373 - val_loss: 0.3988 - val_accuracy: 0.8788\n",
      "Epoch 49/50\n",
      "181/181 [==============================] - 1s 5ms/step - loss: 0.1973 - accuracy: 0.9393 - val_loss: 0.3986 - val_accuracy: 0.8789\n",
      "Epoch 50/50\n",
      "181/181 [==============================] - 1s 5ms/step - loss: 0.1923 - accuracy: 0.9411 - val_loss: 0.3987 - val_accuracy: 0.8791\n",
      "num_ns:  12\n",
      "embedding dim:  32\n",
      "vocab_size:  4803\n",
      "Epoch 1/50\n",
      "181/181 [==============================] - 1s 5ms/step - loss: 2.5274 - accuracy: 0.3558 - val_loss: 2.3391 - val_accuracy: 0.6888\n",
      "Epoch 2/50\n",
      "181/181 [==============================] - 1s 5ms/step - loss: 1.6757 - accuracy: 0.7369 - val_loss: 1.1568 - val_accuracy: 0.7655\n",
      "Epoch 3/50\n",
      "181/181 [==============================] - 1s 4ms/step - loss: 0.9341 - accuracy: 0.7815 - val_loss: 0.8174 - val_accuracy: 0.7802\n",
      "Epoch 4/50\n",
      "181/181 [==============================] - 1s 4ms/step - loss: 0.7278 - accuracy: 0.7921 - val_loss: 0.7112 - val_accuracy: 0.7887\n",
      "Epoch 5/50\n",
      "181/181 [==============================] - 1s 5ms/step - loss: 0.6477 - accuracy: 0.8012 - val_loss: 0.6589 - val_accuracy: 0.7965\n",
      "Epoch 6/50\n",
      "181/181 [==============================] - 1s 4ms/step - loss: 0.5986 - accuracy: 0.8107 - val_loss: 0.6224 - val_accuracy: 0.8047\n",
      "Epoch 7/50\n",
      "181/181 [==============================] - 1s 4ms/step - loss: 0.5611 - accuracy: 0.8204 - val_loss: 0.5936 - val_accuracy: 0.8120\n",
      "Epoch 8/50\n",
      "181/181 [==============================] - 1s 4ms/step - loss: 0.5304 - accuracy: 0.8288 - val_loss: 0.5703 - val_accuracy: 0.8190\n",
      "Epoch 9/50\n",
      "181/181 [==============================] - 1s 4ms/step - loss: 0.5049 - accuracy: 0.8353 - val_loss: 0.5513 - val_accuracy: 0.8244\n",
      "Epoch 10/50\n",
      "181/181 [==============================] - ETA: 0s - loss: 0.4833 - accuracy: 0.84 - 1s 4ms/step - loss: 0.4830 - accuracy: 0.8417 - val_loss: 0.5353 - val_accuracy: 0.8298\n",
      "Epoch 11/50\n",
      "181/181 [==============================] - 1s 4ms/step - loss: 0.4637 - accuracy: 0.8472 - val_loss: 0.5213 - val_accuracy: 0.8332\n",
      "Epoch 12/50\n",
      "181/181 [==============================] - 1s 4ms/step - loss: 0.4459 - accuracy: 0.8523 - val_loss: 0.5086 - val_accuracy: 0.8373\n",
      "Epoch 13/50\n",
      "181/181 [==============================] - 1s 4ms/step - loss: 0.4288 - accuracy: 0.8577 - val_loss: 0.4966 - val_accuracy: 0.8410\n"
     ]
    },
    {
     "name": "stdout",
     "output_type": "stream",
     "text": [
      "Epoch 14/50\n",
      "181/181 [==============================] - 1s 4ms/step - loss: 0.4122 - accuracy: 0.8628 - val_loss: 0.4851 - val_accuracy: 0.8446\n",
      "Epoch 15/50\n",
      "181/181 [==============================] - 1s 4ms/step - loss: 0.3958 - accuracy: 0.8679 - val_loss: 0.4740 - val_accuracy: 0.8478\n",
      "Epoch 16/50\n",
      "181/181 [==============================] - 1s 4ms/step - loss: 0.3796 - accuracy: 0.8735 - val_loss: 0.4632 - val_accuracy: 0.8513\n",
      "Epoch 17/50\n",
      "181/181 [==============================] - 1s 4ms/step - loss: 0.3635 - accuracy: 0.8792 - val_loss: 0.4529 - val_accuracy: 0.8544\n",
      "Epoch 18/50\n",
      "181/181 [==============================] - 1s 5ms/step - loss: 0.3478 - accuracy: 0.8848 - val_loss: 0.4432 - val_accuracy: 0.8583\n",
      "Epoch 19/50\n",
      "181/181 [==============================] - 1s 4ms/step - loss: 0.3325 - accuracy: 0.8904 - val_loss: 0.4342 - val_accuracy: 0.8617\n",
      "Epoch 20/50\n",
      "181/181 [==============================] - 1s 4ms/step - loss: 0.3177 - accuracy: 0.8958 - val_loss: 0.4259 - val_accuracy: 0.8649\n",
      "Epoch 21/50\n",
      "181/181 [==============================] - 1s 4ms/step - loss: 0.3035 - accuracy: 0.9009 - val_loss: 0.4184 - val_accuracy: 0.8674\n",
      "Epoch 22/50\n",
      "181/181 [==============================] - 1s 5ms/step - loss: 0.2898 - accuracy: 0.9059 - val_loss: 0.4116 - val_accuracy: 0.8705\n",
      "Epoch 23/50\n",
      "181/181 [==============================] - 1s 4ms/step - loss: 0.2768 - accuracy: 0.9109 - val_loss: 0.4055 - val_accuracy: 0.8723\n",
      "Epoch 24/50\n",
      "181/181 [==============================] - 1s 4ms/step - loss: 0.2642 - accuracy: 0.9153 - val_loss: 0.4000 - val_accuracy: 0.8744\n",
      "Epoch 25/50\n",
      "181/181 [==============================] - 1s 5ms/step - loss: 0.2522 - accuracy: 0.9200 - val_loss: 0.3951 - val_accuracy: 0.8758\n",
      "Epoch 26/50\n",
      "181/181 [==============================] - 1s 4ms/step - loss: 0.2406 - accuracy: 0.9241 - val_loss: 0.3907 - val_accuracy: 0.8777\n",
      "Epoch 27/50\n",
      "181/181 [==============================] - 1s 5ms/step - loss: 0.2294 - accuracy: 0.9284 - val_loss: 0.3868 - val_accuracy: 0.8789\n",
      "Epoch 28/50\n",
      "181/181 [==============================] - 1s 4ms/step - loss: 0.2187 - accuracy: 0.9326 - val_loss: 0.3834 - val_accuracy: 0.8800\n",
      "Epoch 29/50\n",
      "181/181 [==============================] - 1s 4ms/step - loss: 0.2084 - accuracy: 0.9366 - val_loss: 0.3805 - val_accuracy: 0.8814\n",
      "Epoch 30/50\n",
      "181/181 [==============================] - 1s 5ms/step - loss: 0.1985 - accuracy: 0.9406 - val_loss: 0.3779 - val_accuracy: 0.8827\n",
      "Epoch 31/50\n",
      "181/181 [==============================] - 1s 4ms/step - loss: 0.1889 - accuracy: 0.9442 - val_loss: 0.3757 - val_accuracy: 0.8834\n",
      "Epoch 32/50\n",
      "181/181 [==============================] - 1s 5ms/step - loss: 0.1798 - accuracy: 0.9479 - val_loss: 0.3739 - val_accuracy: 0.8840\n",
      "Epoch 33/50\n",
      "181/181 [==============================] - 1s 4ms/step - loss: 0.1710 - accuracy: 0.9512 - val_loss: 0.3725 - val_accuracy: 0.8847\n",
      "Epoch 34/50\n",
      "181/181 [==============================] - 1s 4ms/step - loss: 0.1625 - accuracy: 0.9544 - val_loss: 0.3713 - val_accuracy: 0.8859\n",
      "Epoch 35/50\n",
      "181/181 [==============================] - 1s 4ms/step - loss: 0.1544 - accuracy: 0.9574 - val_loss: 0.3705 - val_accuracy: 0.8866\n",
      "Epoch 36/50\n",
      "181/181 [==============================] - 1s 5ms/step - loss: 0.1466 - accuracy: 0.9604 - val_loss: 0.3700 - val_accuracy: 0.8871\n",
      "Epoch 37/50\n",
      "181/181 [==============================] - 1s 4ms/step - loss: 0.1391 - accuracy: 0.9633 - val_loss: 0.3697 - val_accuracy: 0.8879\n",
      "Epoch 38/50\n",
      "181/181 [==============================] - 1s 4ms/step - loss: 0.1320 - accuracy: 0.9659 - val_loss: 0.3697 - val_accuracy: 0.8886\n",
      "Epoch 39/50\n",
      "181/181 [==============================] - 1s 4ms/step - loss: 0.1251 - accuracy: 0.9683 - val_loss: 0.3700 - val_accuracy: 0.8889\n",
      "Epoch 40/50\n",
      "181/181 [==============================] - 1s 4ms/step - loss: 0.1186 - accuracy: 0.9707 - val_loss: 0.3706 - val_accuracy: 0.8893\n",
      "Epoch 41/50\n",
      "181/181 [==============================] - 1s 5ms/step - loss: 0.1124 - accuracy: 0.9729 - val_loss: 0.3713 - val_accuracy: 0.8896\n",
      "Epoch 42/50\n",
      "181/181 [==============================] - 1s 4ms/step - loss: 0.1065 - accuracy: 0.9752 - val_loss: 0.3723 - val_accuracy: 0.8894\n",
      "Epoch 43/50\n",
      "181/181 [==============================] - 1s 4ms/step - loss: 0.1008 - accuracy: 0.9773 - val_loss: 0.3735 - val_accuracy: 0.8894\n",
      "Epoch 44/50\n",
      "181/181 [==============================] - 1s 5ms/step - loss: 0.0954 - accuracy: 0.9792 - val_loss: 0.3749 - val_accuracy: 0.8896\n",
      "Epoch 45/50\n",
      "181/181 [==============================] - 1s 4ms/step - loss: 0.0903 - accuracy: 0.9810 - val_loss: 0.3765 - val_accuracy: 0.8898\n",
      "Epoch 46/50\n",
      "181/181 [==============================] - 1s 4ms/step - loss: 0.0855 - accuracy: 0.9827 - val_loss: 0.3783 - val_accuracy: 0.8898\n",
      "Epoch 47/50\n",
      "181/181 [==============================] - 1s 5ms/step - loss: 0.0808 - accuracy: 0.9843 - val_loss: 0.3802 - val_accuracy: 0.8896\n",
      "Epoch 48/50\n",
      "181/181 [==============================] - 1s 4ms/step - loss: 0.0765 - accuracy: 0.9857 - val_loss: 0.3824 - val_accuracy: 0.8893\n",
      "Epoch 49/50\n",
      "181/181 [==============================] - 1s 4ms/step - loss: 0.0723 - accuracy: 0.9871 - val_loss: 0.3847 - val_accuracy: 0.8889\n",
      "Epoch 50/50\n",
      "181/181 [==============================] - 1s 5ms/step - loss: 0.0684 - accuracy: 0.9881 - val_loss: 0.3871 - val_accuracy: 0.8886\n",
      "num_ns:  12\n",
      "embedding dim:  64\n",
      "vocab_size:  4803\n",
      "Epoch 1/50\n",
      "181/181 [==============================] - 1s 6ms/step - loss: 2.4814 - accuracy: 0.3820 - val_loss: 2.0725 - val_accuracy: 0.6924\n",
      "Epoch 2/50\n",
      "181/181 [==============================] - 1s 5ms/step - loss: 1.3251 - accuracy: 0.7458 - val_loss: 0.9242 - val_accuracy: 0.7732\n",
      "Epoch 3/50\n",
      "181/181 [==============================] - 1s 5ms/step - loss: 0.7701 - accuracy: 0.7889 - val_loss: 0.7145 - val_accuracy: 0.7874\n",
      "Epoch 4/50\n",
      "181/181 [==============================] - 1s 5ms/step - loss: 0.6370 - accuracy: 0.8040 - val_loss: 0.6375 - val_accuracy: 0.8014\n",
      "Epoch 5/50\n",
      "181/181 [==============================] - 1s 5ms/step - loss: 0.5645 - accuracy: 0.8213 - val_loss: 0.5852 - val_accuracy: 0.8162\n",
      "Epoch 6/50\n",
      "181/181 [==============================] - 1s 5ms/step - loss: 0.5121 - accuracy: 0.8358 - val_loss: 0.5489 - val_accuracy: 0.8268\n",
      "Epoch 7/50\n",
      "181/181 [==============================] - 1s 5ms/step - loss: 0.4737 - accuracy: 0.8464 - val_loss: 0.5230 - val_accuracy: 0.8342\n",
      "Epoch 8/50\n",
      "181/181 [==============================] - 1s 5ms/step - loss: 0.4430 - accuracy: 0.8550 - val_loss: 0.5024 - val_accuracy: 0.8394\n",
      "Epoch 9/50\n",
      "181/181 [==============================] - 1s 5ms/step - loss: 0.4161 - accuracy: 0.8632 - val_loss: 0.4844 - val_accuracy: 0.8452\n",
      "Epoch 10/50\n",
      "181/181 [==============================] - 1s 5ms/step - loss: 0.3910 - accuracy: 0.8716 - val_loss: 0.4682 - val_accuracy: 0.8505\n",
      "Epoch 11/50\n",
      "181/181 [==============================] - 1s 5ms/step - loss: 0.3672 - accuracy: 0.8797 - val_loss: 0.4532 - val_accuracy: 0.8557\n",
      "Epoch 12/50\n",
      "181/181 [==============================] - 1s 5ms/step - loss: 0.3443 - accuracy: 0.8876 - val_loss: 0.4395 - val_accuracy: 0.8608\n",
      "Epoch 13/50\n",
      "181/181 [==============================] - 1s 5ms/step - loss: 0.3222 - accuracy: 0.8954 - val_loss: 0.4269 - val_accuracy: 0.8650\n",
      "Epoch 14/50\n",
      "181/181 [==============================] - 1s 5ms/step - loss: 0.3010 - accuracy: 0.9031 - val_loss: 0.4154 - val_accuracy: 0.8689\n",
      "Epoch 15/50\n",
      "181/181 [==============================] - 1s 5ms/step - loss: 0.2806 - accuracy: 0.9103 - val_loss: 0.4050 - val_accuracy: 0.8727\n",
      "Epoch 16/50\n",
      "181/181 [==============================] - 1s 5ms/step - loss: 0.2611 - accuracy: 0.9178 - val_loss: 0.3957 - val_accuracy: 0.8758\n",
      "Epoch 17/50\n",
      "181/181 [==============================] - 1s 5ms/step - loss: 0.2425 - accuracy: 0.9251 - val_loss: 0.3874 - val_accuracy: 0.8790\n",
      "Epoch 18/50\n",
      "181/181 [==============================] - 1s 5ms/step - loss: 0.2248 - accuracy: 0.9320 - val_loss: 0.3801 - val_accuracy: 0.8816\n",
      "Epoch 19/50\n",
      "181/181 [==============================] - 1s 5ms/step - loss: 0.2080 - accuracy: 0.9385 - val_loss: 0.3738 - val_accuracy: 0.8842\n",
      "Epoch 20/50\n",
      "181/181 [==============================] - 1s 5ms/step - loss: 0.1921 - accuracy: 0.9446 - val_loss: 0.3682 - val_accuracy: 0.8860\n",
      "Epoch 21/50\n"
     ]
    },
    {
     "name": "stdout",
     "output_type": "stream",
     "text": [
      "181/181 [==============================] - 1s 5ms/step - loss: 0.1770 - accuracy: 0.9501 - val_loss: 0.3635 - val_accuracy: 0.8875\n",
      "Epoch 22/50\n",
      "181/181 [==============================] - 1s 5ms/step - loss: 0.1628 - accuracy: 0.9554 - val_loss: 0.3594 - val_accuracy: 0.8889\n",
      "Epoch 23/50\n",
      "181/181 [==============================] - 1s 5ms/step - loss: 0.1494 - accuracy: 0.9603 - val_loss: 0.3561 - val_accuracy: 0.8899\n",
      "Epoch 24/50\n",
      "181/181 [==============================] - 1s 5ms/step - loss: 0.1369 - accuracy: 0.9650 - val_loss: 0.3533 - val_accuracy: 0.8908\n",
      "Epoch 25/50\n",
      "181/181 [==============================] - 1s 5ms/step - loss: 0.1251 - accuracy: 0.9693 - val_loss: 0.3511 - val_accuracy: 0.8918\n",
      "Epoch 26/50\n",
      "181/181 [==============================] - 1s 5ms/step - loss: 0.1141 - accuracy: 0.9737 - val_loss: 0.3495 - val_accuracy: 0.8928\n",
      "Epoch 27/50\n",
      "181/181 [==============================] - 1s 5ms/step - loss: 0.1039 - accuracy: 0.9776 - val_loss: 0.3483 - val_accuracy: 0.8938\n",
      "Epoch 28/50\n",
      "181/181 [==============================] - 1s 5ms/step - loss: 0.0944 - accuracy: 0.9810 - val_loss: 0.3476 - val_accuracy: 0.8947\n",
      "Epoch 29/50\n",
      "181/181 [==============================] - 1s 5ms/step - loss: 0.0856 - accuracy: 0.9840 - val_loss: 0.3474 - val_accuracy: 0.8953\n",
      "Epoch 30/50\n",
      "181/181 [==============================] - 1s 5ms/step - loss: 0.0776 - accuracy: 0.9866 - val_loss: 0.3475 - val_accuracy: 0.8955\n",
      "Epoch 31/50\n",
      "181/181 [==============================] - 1s 5ms/step - loss: 0.0702 - accuracy: 0.9891 - val_loss: 0.3480 - val_accuracy: 0.8957\n",
      "Epoch 32/50\n",
      "181/181 [==============================] - 1s 5ms/step - loss: 0.0634 - accuracy: 0.9911 - val_loss: 0.3489 - val_accuracy: 0.8965\n",
      "Epoch 33/50\n",
      "181/181 [==============================] - 1s 5ms/step - loss: 0.0572 - accuracy: 0.9928 - val_loss: 0.3500 - val_accuracy: 0.8965\n",
      "Epoch 34/50\n",
      "181/181 [==============================] - 1s 5ms/step - loss: 0.0516 - accuracy: 0.9944 - val_loss: 0.3514 - val_accuracy: 0.8967\n",
      "Epoch 35/50\n",
      "181/181 [==============================] - 1s 5ms/step - loss: 0.0465 - accuracy: 0.9954 - val_loss: 0.3531 - val_accuracy: 0.8970\n",
      "Epoch 36/50\n",
      "181/181 [==============================] - 1s 5ms/step - loss: 0.0419 - accuracy: 0.9964 - val_loss: 0.3550 - val_accuracy: 0.8967\n",
      "Epoch 37/50\n",
      "181/181 [==============================] - 1s 5ms/step - loss: 0.0377 - accuracy: 0.9973 - val_loss: 0.3571 - val_accuracy: 0.8969\n",
      "Epoch 38/50\n",
      "181/181 [==============================] - 1s 5ms/step - loss: 0.0339 - accuracy: 0.9980 - val_loss: 0.3593 - val_accuracy: 0.8964\n",
      "Epoch 39/50\n",
      "181/181 [==============================] - 1s 5ms/step - loss: 0.0305 - accuracy: 0.9984 - val_loss: 0.3617 - val_accuracy: 0.8966\n",
      "Epoch 40/50\n",
      "181/181 [==============================] - 1s 5ms/step - loss: 0.0275 - accuracy: 0.9990 - val_loss: 0.3643 - val_accuracy: 0.8965\n",
      "Epoch 41/50\n",
      "181/181 [==============================] - 1s 5ms/step - loss: 0.0247 - accuracy: 0.9993 - val_loss: 0.3670 - val_accuracy: 0.8962\n",
      "Epoch 42/50\n",
      "181/181 [==============================] - 1s 5ms/step - loss: 0.0222 - accuracy: 0.9995 - val_loss: 0.3698 - val_accuracy: 0.8961\n",
      "Epoch 43/50\n",
      "181/181 [==============================] - 1s 5ms/step - loss: 0.0200 - accuracy: 0.9996 - val_loss: 0.3727 - val_accuracy: 0.8962\n",
      "Epoch 44/50\n",
      "181/181 [==============================] - 1s 5ms/step - loss: 0.0180 - accuracy: 0.9997 - val_loss: 0.3758 - val_accuracy: 0.8960\n",
      "Epoch 45/50\n",
      "181/181 [==============================] - 1s 5ms/step - loss: 0.0162 - accuracy: 0.9998 - val_loss: 0.3789 - val_accuracy: 0.8959\n",
      "Epoch 46/50\n",
      "181/181 [==============================] - 1s 5ms/step - loss: 0.0146 - accuracy: 0.9999 - val_loss: 0.3820 - val_accuracy: 0.8960\n",
      "Epoch 47/50\n",
      "181/181 [==============================] - 1s 5ms/step - loss: 0.0132 - accuracy: 0.9999 - val_loss: 0.3853 - val_accuracy: 0.8960\n",
      "Epoch 48/50\n",
      "181/181 [==============================] - 1s 5ms/step - loss: 0.0119 - accuracy: 1.0000 - val_loss: 0.3886 - val_accuracy: 0.8958\n",
      "Epoch 49/50\n",
      "181/181 [==============================] - 1s 5ms/step - loss: 0.0107 - accuracy: 1.0000 - val_loss: 0.3919 - val_accuracy: 0.8956\n",
      "Epoch 50/50\n",
      "181/181 [==============================] - 1s 5ms/step - loss: 0.0097 - accuracy: 1.0000 - val_loss: 0.3953 - val_accuracy: 0.8956\n",
      "num_ns:  12\n",
      "embedding dim:  128\n",
      "vocab_size:  4803\n",
      "Epoch 1/50\n",
      "181/181 [==============================] - 1s 7ms/step - loss: 2.4334 - accuracy: 0.3977 - val_loss: 1.8196 - val_accuracy: 0.7206\n",
      "Epoch 2/50\n",
      "181/181 [==============================] - 1s 7ms/step - loss: 1.1019 - accuracy: 0.7729 - val_loss: 0.7811 - val_accuracy: 0.7829\n",
      "Epoch 3/50\n",
      "181/181 [==============================] - 1s 6ms/step - loss: 0.6644 - accuracy: 0.8015 - val_loss: 0.6368 - val_accuracy: 0.8028\n",
      "Epoch 4/50\n",
      "181/181 [==============================] - 1s 7ms/step - loss: 0.5491 - accuracy: 0.8266 - val_loss: 0.5617 - val_accuracy: 0.8234\n",
      "Epoch 5/50\n",
      "181/181 [==============================] - 1s 6ms/step - loss: 0.4776 - accuracy: 0.8459 - val_loss: 0.5164 - val_accuracy: 0.8361\n",
      "Epoch 6/50\n",
      "181/181 [==============================] - 1s 6ms/step - loss: 0.4272 - accuracy: 0.8607 - val_loss: 0.4832 - val_accuracy: 0.8457\n",
      "Epoch 7/50\n",
      "181/181 [==============================] - 1s 7ms/step - loss: 0.3837 - accuracy: 0.8753 - val_loss: 0.4546 - val_accuracy: 0.8549\n",
      "Epoch 8/50\n",
      "181/181 [==============================] - 1s 6ms/step - loss: 0.3436 - accuracy: 0.8895 - val_loss: 0.4299 - val_accuracy: 0.8630\n",
      "Epoch 9/50\n",
      "181/181 [==============================] - 1s 6ms/step - loss: 0.3071 - accuracy: 0.9026 - val_loss: 0.4093 - val_accuracy: 0.8703\n",
      "Epoch 10/50\n",
      "181/181 [==============================] - 1s 7ms/step - loss: 0.2740 - accuracy: 0.9148 - val_loss: 0.3923 - val_accuracy: 0.8763\n",
      "Epoch 11/50\n",
      "181/181 [==============================] - 1s 6ms/step - loss: 0.2442 - accuracy: 0.9259 - val_loss: 0.3785 - val_accuracy: 0.8809\n",
      "Epoch 12/50\n",
      "181/181 [==============================] - 1s 6ms/step - loss: 0.2171 - accuracy: 0.9362 - val_loss: 0.3671 - val_accuracy: 0.8843\n",
      "Epoch 13/50\n",
      "181/181 [==============================] - 1s 7ms/step - loss: 0.1923 - accuracy: 0.9456 - val_loss: 0.3577 - val_accuracy: 0.8866\n",
      "Epoch 14/50\n",
      "181/181 [==============================] - 1s 6ms/step - loss: 0.1697 - accuracy: 0.9546 - val_loss: 0.3500 - val_accuracy: 0.8892\n",
      "Epoch 15/50\n",
      "181/181 [==============================] - 1s 6ms/step - loss: 0.1491 - accuracy: 0.9622 - val_loss: 0.3437 - val_accuracy: 0.8914\n",
      "Epoch 16/50\n",
      "181/181 [==============================] - 1s 7ms/step - loss: 0.1305 - accuracy: 0.9693 - val_loss: 0.3386 - val_accuracy: 0.8934\n",
      "Epoch 17/50\n",
      "181/181 [==============================] - 1s 6ms/step - loss: 0.1136 - accuracy: 0.9756 - val_loss: 0.3347 - val_accuracy: 0.8952\n",
      "Epoch 18/50\n",
      "181/181 [==============================] - 1s 6ms/step - loss: 0.0986 - accuracy: 0.9810 - val_loss: 0.3317 - val_accuracy: 0.8963\n",
      "Epoch 19/50\n",
      "181/181 [==============================] - 1s 6ms/step - loss: 0.0852 - accuracy: 0.9856 - val_loss: 0.3296 - val_accuracy: 0.8968\n",
      "Epoch 20/50\n",
      "181/181 [==============================] - 1s 6ms/step - loss: 0.0733 - accuracy: 0.9894 - val_loss: 0.3283 - val_accuracy: 0.8973\n",
      "Epoch 21/50\n",
      "181/181 [==============================] - 1s 6ms/step - loss: 0.0630 - accuracy: 0.9924 - val_loss: 0.3276 - val_accuracy: 0.8978\n",
      "Epoch 22/50\n",
      "181/181 [==============================] - 1s 7ms/step - loss: 0.0540 - accuracy: 0.9945 - val_loss: 0.3275 - val_accuracy: 0.8983\n",
      "Epoch 23/50\n",
      "181/181 [==============================] - 1s 7ms/step - loss: 0.0462 - accuracy: 0.9963 - val_loss: 0.3278 - val_accuracy: 0.8984\n",
      "Epoch 24/50\n",
      "181/181 [==============================] - 1s 6ms/step - loss: 0.0396 - accuracy: 0.9976 - val_loss: 0.3286 - val_accuracy: 0.8987\n",
      "Epoch 25/50\n",
      "181/181 [==============================] - 1s 6ms/step - loss: 0.0339 - accuracy: 0.9985 - val_loss: 0.3296 - val_accuracy: 0.8987\n",
      "Epoch 26/50\n",
      "181/181 [==============================] - 1s 7ms/step - loss: 0.0290 - accuracy: 0.9991 - val_loss: 0.3310 - val_accuracy: 0.8988\n",
      "Epoch 27/50\n",
      "181/181 [==============================] - 1s 6ms/step - loss: 0.0249 - accuracy: 0.9994 - val_loss: 0.3325 - val_accuracy: 0.8992\n",
      "Epoch 28/50\n"
     ]
    },
    {
     "name": "stdout",
     "output_type": "stream",
     "text": [
      "181/181 [==============================] - 1s 6ms/step - loss: 0.0214 - accuracy: 0.9996 - val_loss: 0.3342 - val_accuracy: 0.8994\n",
      "Epoch 29/50\n",
      "181/181 [==============================] - 1s 7ms/step - loss: 0.0184 - accuracy: 0.9998 - val_loss: 0.3361 - val_accuracy: 0.8997\n",
      "Epoch 30/50\n",
      "181/181 [==============================] - 1s 6ms/step - loss: 0.0160 - accuracy: 0.9999 - val_loss: 0.3381 - val_accuracy: 0.9000\n",
      "Epoch 31/50\n",
      "181/181 [==============================] - 1s 6ms/step - loss: 0.0138 - accuracy: 1.0000 - val_loss: 0.3402 - val_accuracy: 0.9003\n",
      "Epoch 32/50\n",
      "181/181 [==============================] - 1s 7ms/step - loss: 0.0120 - accuracy: 1.0000 - val_loss: 0.3425 - val_accuracy: 0.9003\n",
      "Epoch 33/50\n",
      "181/181 [==============================] - 1s 6ms/step - loss: 0.0105 - accuracy: 1.0000 - val_loss: 0.3448 - val_accuracy: 0.9003\n",
      "Epoch 34/50\n",
      "181/181 [==============================] - 1s 6ms/step - loss: 0.0092 - accuracy: 1.0000 - val_loss: 0.3471 - val_accuracy: 0.9003\n",
      "Epoch 35/50\n",
      "181/181 [==============================] - 1s 7ms/step - loss: 0.0081 - accuracy: 1.0000 - val_loss: 0.3496 - val_accuracy: 0.9002\n",
      "Epoch 36/50\n",
      "181/181 [==============================] - 1s 6ms/step - loss: 0.0071 - accuracy: 1.0000 - val_loss: 0.3520 - val_accuracy: 0.9000\n",
      "Epoch 37/50\n",
      "181/181 [==============================] - 1s 6ms/step - loss: 0.0063 - accuracy: 1.0000 - val_loss: 0.3546 - val_accuracy: 0.9002\n",
      "Epoch 38/50\n",
      "181/181 [==============================] - 1s 7ms/step - loss: 0.0055 - accuracy: 1.0000 - val_loss: 0.3571 - val_accuracy: 0.9002\n",
      "Epoch 39/50\n",
      "181/181 [==============================] - 1s 6ms/step - loss: 0.0049 - accuracy: 1.0000 - val_loss: 0.3597 - val_accuracy: 0.9002\n",
      "Epoch 40/50\n",
      "181/181 [==============================] - 1s 6ms/step - loss: 0.0044 - accuracy: 1.0000 - val_loss: 0.3623 - val_accuracy: 0.9002\n",
      "Epoch 41/50\n",
      "181/181 [==============================] - 1s 6ms/step - loss: 0.0039 - accuracy: 1.0000 - val_loss: 0.3649 - val_accuracy: 0.9004\n",
      "Epoch 42/50\n",
      "181/181 [==============================] - 1s 7ms/step - loss: 0.0034 - accuracy: 1.0000 - val_loss: 0.3675 - val_accuracy: 0.9004\n",
      "Epoch 43/50\n",
      "181/181 [==============================] - 1s 7ms/step - loss: 0.0031 - accuracy: 1.0000 - val_loss: 0.3701 - val_accuracy: 0.9004\n",
      "Epoch 44/50\n",
      "181/181 [==============================] - 1s 7ms/step - loss: 0.0027 - accuracy: 1.0000 - val_loss: 0.3728 - val_accuracy: 0.9006\n",
      "Epoch 45/50\n",
      "181/181 [==============================] - 1s 6ms/step - loss: 0.0024 - accuracy: 1.0000 - val_loss: 0.3754 - val_accuracy: 0.9005\n",
      "Epoch 46/50\n",
      "181/181 [==============================] - 1s 6ms/step - loss: 0.0022 - accuracy: 1.0000 - val_loss: 0.3781 - val_accuracy: 0.9007\n",
      "Epoch 47/50\n",
      "181/181 [==============================] - 1s 6ms/step - loss: 0.0020 - accuracy: 1.0000 - val_loss: 0.3808 - val_accuracy: 0.9007\n",
      "Epoch 48/50\n",
      "181/181 [==============================] - 1s 7ms/step - loss: 0.0018 - accuracy: 1.0000 - val_loss: 0.3835 - val_accuracy: 0.9007\n",
      "Epoch 49/50\n",
      "181/181 [==============================] - 1s 6ms/step - loss: 0.0016 - accuracy: 1.0000 - val_loss: 0.3861 - val_accuracy: 0.9008\n",
      "Epoch 50/50\n",
      "181/181 [==============================] - 1s 6ms/step - loss: 0.0014 - accuracy: 1.0000 - val_loss: 0.3888 - val_accuracy: 0.9009\n"
     ]
    }
   ],
   "source": [
    "eds = [8, 16, 32, 64, 128]\n",
    "hs = []\n",
    "epochs = 50\n",
    "for ed in eds:\n",
    "    embedding_dim = ed\n",
    "    word2vec = Word2Vec(vocab_size, embedding_dim, num_ns)\n",
    "    word2vec.compile(optimizer='adam',\n",
    "                  loss=tf.keras.losses.CategoricalCrossentropy(from_logits=True),\n",
    "                  metrics=['accuracy'])\n",
    "\n",
    "    h = word2vec.fit(dataset_train, epochs=epochs, validation_data=dataset_val)\n",
    "    hs.append(h)"
   ]
  },
  {
   "cell_type": "code",
   "execution_count": 70,
   "metadata": {},
   "outputs": [
    {
     "data": {
      "text/plain": [
       "<matplotlib.legend.Legend at 0x7f2b66e539a0>"
      ]
     },
     "execution_count": 70,
     "metadata": {},
     "output_type": "execute_result"
    },
    {
     "data": {
      "image/png": "[encoded data removed]",
      "text/plain": [
       "<Figure size 900x540 with 1 Axes>"
      ]
     },
     "metadata": {
      "needs_background": "light"
     },
     "output_type": "display_data"
    }
   ],
   "source": [
    "plt.figure(figsize = (12.5, 7.5))\n",
    "for ed, h in zip(eds, hs):\n",
    "    plt.plot(np.arange(epochs), h.history[\"val_accuracy\"], label = str(ed))\n",
    "    plt.text(epochs, h.history[\"val_accuracy\"][-1], str(h.history[\"val_accuracy\"][-1])[:4])\n",
    "plt.grid(\"both\")\n",
    "plt.legend()"
   ]
  },
  {
   "cell_type": "markdown",
   "metadata": {},
   "source": [
    "### Train final model"
   ]
  },
  {
   "cell_type": "code",
   "execution_count": 72,
   "metadata": {},
   "outputs": [
    {
     "name": "stdout",
     "output_type": "stream",
     "text": [
      "num_ns:  12\n",
      "embedding dim:  32\n",
      "vocab_size:  4803\n",
      "Epoch 1/50\n",
      "227/227 [==============================] - 1s 4ms/step - loss: 2.5429 - accuracy: 0.3882\n",
      "Epoch 2/50\n",
      "227/227 [==============================] - 1s 4ms/step - loss: 2.0784 - accuracy: 0.7731\n",
      "Epoch 3/50\n",
      "227/227 [==============================] - 1s 4ms/step - loss: 1.1911 - accuracy: 0.7779\n",
      "Epoch 4/50\n",
      "227/227 [==============================] - 1s 4ms/step - loss: 0.8167 - accuracy: 0.7804\n",
      "Epoch 5/50\n",
      "227/227 [==============================] - 1s 4ms/step - loss: 0.7176 - accuracy: 0.7827\n",
      "Epoch 6/50\n",
      "227/227 [==============================] - 1s 4ms/step - loss: 0.6766 - accuracy: 0.7850\n",
      "Epoch 7/50\n",
      "227/227 [==============================] - 1s 4ms/step - loss: 0.6534 - accuracy: 0.7870\n",
      "Epoch 8/50\n",
      "227/227 [==============================] - 1s 4ms/step - loss: 0.6374 - accuracy: 0.7892\n",
      "Epoch 9/50\n",
      "227/227 [==============================] - 1s 4ms/step - loss: 0.6247 - accuracy: 0.7915\n",
      "Epoch 10/50\n",
      "227/227 [==============================] - 1s 4ms/step - loss: 0.6129 - accuracy: 0.7940\n",
      "Epoch 11/50\n",
      "227/227 [==============================] - 1s 4ms/step - loss: 0.6002 - accuracy: 0.7971\n",
      "Epoch 12/50\n",
      "227/227 [==============================] - 1s 4ms/step - loss: 0.5851 - accuracy: 0.8019\n",
      "Epoch 13/50\n",
      "227/227 [==============================] - 1s 4ms/step - loss: 0.5661 - accuracy: 0.8084\n",
      "Epoch 14/50\n",
      "227/227 [==============================] - 1s 4ms/step - loss: 0.5429 - accuracy: 0.8171\n",
      "Epoch 15/50\n",
      "227/227 [==============================] - 1s 4ms/step - loss: 0.5165 - accuracy: 0.8267\n",
      "Epoch 16/50\n",
      "227/227 [==============================] - 1s 4ms/step - loss: 0.4893 - accuracy: 0.8370\n",
      "Epoch 17/50\n",
      "227/227 [==============================] - 1s 4ms/step - loss: 0.4631 - accuracy: 0.8462\n",
      "Epoch 18/50\n",
      "227/227 [==============================] - 1s 4ms/step - loss: 0.4390 - accuracy: 0.8544\n",
      "Epoch 19/50\n",
      "227/227 [==============================] - 1s 4ms/step - loss: 0.4165 - accuracy: 0.8623\n",
      "Epoch 20/50\n",
      "227/227 [==============================] - 1s 4ms/step - loss: 0.3954 - accuracy: 0.8693\n",
      "Epoch 21/50\n",
      "227/227 [==============================] - 1s 4ms/step - loss: 0.3752 - accuracy: 0.8763\n",
      "Epoch 22/50\n",
      "227/227 [==============================] - 1s 4ms/step - loss: 0.3559 - accuracy: 0.8831\n",
      "Epoch 23/50\n",
      "227/227 [==============================] - 1s 4ms/step - loss: 0.3375 - accuracy: 0.8893\n",
      "Epoch 24/50\n",
      "227/227 [==============================] - 1s 4ms/step - loss: 0.3201 - accuracy: 0.8957\n",
      "Epoch 25/50\n",
      "227/227 [==============================] - 1s 4ms/step - loss: 0.3037 - accuracy: 0.9018\n",
      "Epoch 26/50\n",
      "227/227 [==============================] - 1s 4ms/step - loss: 0.2882 - accuracy: 0.9075\n",
      "Epoch 27/50\n",
      "227/227 [==============================] - 1s 4ms/step - loss: 0.2735 - accuracy: 0.9129\n",
      "Epoch 28/50\n",
      "227/227 [==============================] - 1s 4ms/step - loss: 0.2597 - accuracy: 0.9181\n",
      "Epoch 29/50\n",
      "227/227 [==============================] - 1s 4ms/step - loss: 0.2466 - accuracy: 0.9228\n",
      "Epoch 30/50\n",
      "227/227 [==============================] - 1s 4ms/step - loss: 0.2342 - accuracy: 0.9275\n",
      "Epoch 31/50\n",
      "227/227 [==============================] - 1s 4ms/step - loss: 0.2224 - accuracy: 0.9319\n",
      "Epoch 32/50\n",
      "227/227 [==============================] - 1s 4ms/step - loss: 0.2113 - accuracy: 0.9360\n",
      "Epoch 33/50\n",
      "227/227 [==============================] - 1s 4ms/step - loss: 0.2007 - accuracy: 0.9400\n",
      "Epoch 34/50\n",
      "227/227 [==============================] - 1s 4ms/step - loss: 0.1906 - accuracy: 0.9440\n",
      "Epoch 35/50\n",
      "227/227 [==============================] - 1s 4ms/step - loss: 0.1810 - accuracy: 0.9476\n",
      "Epoch 36/50\n",
      "227/227 [==============================] - 1s 4ms/step - loss: 0.1719 - accuracy: 0.9510\n",
      "Epoch 37/50\n",
      "227/227 [==============================] - 1s 4ms/step - loss: 0.1633 - accuracy: 0.9542\n",
      "Epoch 38/50\n",
      "227/227 [==============================] - 1s 4ms/step - loss: 0.1550 - accuracy: 0.9571\n",
      "Epoch 39/50\n",
      "227/227 [==============================] - 1s 4ms/step - loss: 0.1472 - accuracy: 0.9601\n",
      "Epoch 40/50\n",
      "227/227 [==============================] - 1s 4ms/step - loss: 0.1398 - accuracy: 0.9630\n",
      "Epoch 41/50\n",
      "227/227 [==============================] - 1s 4ms/step - loss: 0.1327 - accuracy: 0.9654\n",
      "Epoch 42/50\n",
      "227/227 [==============================] - 1s 4ms/step - loss: 0.1260 - accuracy: 0.9677\n",
      "Epoch 43/50\n",
      "227/227 [==============================] - 1s 4ms/step - loss: 0.1196 - accuracy: 0.9699\n",
      "Epoch 44/50\n",
      "227/227 [==============================] - 1s 4ms/step - loss: 0.1135 - accuracy: 0.9720\n",
      "Epoch 45/50\n",
      "227/227 [==============================] - 1s 4ms/step - loss: 0.1077 - accuracy: 0.9740\n",
      "Epoch 46/50\n",
      "227/227 [==============================] - 1s 4ms/step - loss: 0.1022 - accuracy: 0.9760\n",
      "Epoch 47/50\n",
      "227/227 [==============================] - 1s 4ms/step - loss: 0.0970 - accuracy: 0.9777\n",
      "Epoch 48/50\n",
      "227/227 [==============================] - 1s 4ms/step - loss: 0.0920 - accuracy: 0.9794\n",
      "Epoch 49/50\n",
      "227/227 [==============================] - 1s 4ms/step - loss: 0.0873 - accuracy: 0.9810\n",
      "Epoch 50/50\n",
      "227/227 [==============================] - 1s 4ms/step - loss: 0.0828 - accuracy: 0.9824\n"
     ]
    }
   ],
   "source": [
    "epochs = 50\n",
    "embedding_dim = 32\n",
    "word2vec = Word2Vec(vocab_size, embedding_dim, num_ns)\n",
    "word2vec.compile(optimizer='adam',\n",
    "              loss=tf.keras.losses.CategoricalCrossentropy(from_logits=True),\n",
    "              metrics=['accuracy'])\n",
    "\n",
    "h = word2vec.fit(dataset, epochs=epochs)"
   ]
  },
  {
   "cell_type": "code",
   "execution_count": 73,
   "metadata": {},
   "outputs": [],
   "source": [
    "weights = word2vec.get_layer('w2v_embedding').get_weights()[0]"
   ]
  },
  {
   "cell_type": "code",
   "execution_count": 82,
   "metadata": {},
   "outputs": [],
   "source": [
    "out_v = io.open('vectors_dom.tsv', 'w', encoding='utf-8')\n",
    "out_m = io.open('meta_dom.tsv', 'w', encoding='utf-8')\n",
    "\n",
    "for indx in range(vocab_size):\n",
    "    dom = inv_vocab[indx]\n",
    "    vec = weights[indx]\n",
    "    out_v.write('\\t'.join([str(x) for x in vec]) + \"\\n\")\n",
    "    if dom is not None:\n",
    "        out_m.write(dom + \"\\n\")\n",
    "    else:\n",
    "        out_m.write(\"None\\n\")\n",
    "    \n",
    "out_v.close()\n",
    "out_m.close()"
   ]
  },
  {
   "cell_type": "code",
   "execution_count": 84,
   "metadata": {},
   "outputs": [],
   "source": [
    "import pickle\n",
    "a_file = open(\"imput.pkl\", \"wb\")\n",
    "pickle.dump(imput_keys, a_file)\n",
    "a_file.close()"
   ]
  },
  {
   "cell_type": "code",
   "execution_count": 85,
   "metadata": {},
   "outputs": [
    {
     "name": "stdout",
     "output_type": "stream",
     "text": [
      "dom2vec.ipynb  imput.pkl  meta_dom.tsv\tvectors_dom.tsv\r\n"
     ]
    }
   ],
   "source": [
    "!ls"
   ]
  },
  {
   "cell_type": "code",
   "execution_count": 88,
   "metadata": {},
   "outputs": [
    {
     "data": {
      "text/plain": [
       "True"
      ]
     },
     "execution_count": 88,
     "metadata": {},
     "output_type": "execute_result"
    }
   ],
   "source": [
    "a_file = open(\"imput.pkl\", \"rb\")\n",
    "output = pickle.load(a_file)\n",
    "output == imput_keys"
   ]
  },
  {
   "cell_type": "code",
   "execution_count": 89,
   "metadata": {},
   "outputs": [
    {
     "data": {
      "text/plain": [
       "False"
      ]
     },
     "execution_count": 89,
     "metadata": {},
     "output_type": "execute_result"
    }
   ],
   "source": [
    "None in imput_keys"
   ]
  },
  {
   "cell_type": "code",
   "execution_count": null,
   "metadata": {},
   "outputs": [],
   "source": []
  }
 ],
 "metadata": {
  "kernelspec": {
   "display_name": "Python 3",
   "language": "python",
   "name": "python3"
  },
  "language_info": {
   "codemirror_mode": {
    "name": "ipython",
    "version": 3
   },
   "file_extension": ".py",
   "mimetype": "text/x-python",
   "name": "python",
   "nbconvert_exporter": "python",
   "pygments_lexer": "ipython3",
   "version": "3.8.5"
  }
 },
 "nbformat": 4,
 "nbformat_minor": 4
}
