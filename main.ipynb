{
 "cells": [
  {
   "cell_type": "code",
   "execution_count": 1,
   "metadata": {},
   "outputs": [],
   "source": [
    "import gzip\n",
    "import gc\n",
    "import math\n",
    "import json\n",
    "from collections import Counter, defaultdict\n",
    "import random\n",
    "from tqdm.notebook import tqdm\n",
    "import numpy as np\n",
    "\n",
    "from sklearn.model_selection import train_test_split\n",
    "import matplotlib.pyplot as plt\n",
    "\n",
    "def jl_to_list(fname):\n",
    "    output = []\n",
    "    with gzip.open(fname, \"rb\") as f:\n",
    "        for line in f:\n",
    "            output.append(json.loads(line))\n",
    "    return output"
   ]
  },
  {
   "cell_type": "markdown",
   "metadata": {},
   "source": [
    "### Load user data"
   ]
  },
  {
   "cell_type": "code",
   "execution_count": 2,
   "metadata": {},
   "outputs": [],
   "source": [
    "samples = None\n",
    "test_size = .2\n",
    "rows = jl_to_list(\"data/train_dataset.jl.gz\")\n",
    "if samples:\n",
    "    rows = rows[:samples]"
   ]
  },
  {
   "cell_type": "markdown",
   "metadata": {},
   "source": [
    "### Train - test split"
   ]
  },
  {
   "cell_type": "code",
   "execution_count": 3,
   "metadata": {},
   "outputs": [
    {
     "name": "stdout",
     "output_type": "stream",
     "text": [
      "Train data: 330530.\n",
      "Test data: 82633.\n"
     ]
    }
   ],
   "source": [
    "val_size = .15\n",
    "rows_train, rows_test = train_test_split(rows, test_size = test_size, random_state = 42)\n",
    "print(f\"Train data: {len(rows_train)}.\")\n",
    "print(f\"Test data: {len(rows_test)}.\")"
   ]
  },
  {
   "cell_type": "markdown",
   "metadata": {},
   "source": [
    "### Load items"
   ]
  },
  {
   "cell_type": "code",
   "execution_count": 4,
   "metadata": {},
   "outputs": [],
   "source": [
    "item_data = jl_to_list(\"data/item_data.jl.gz\")\n",
    "metadata = {x[\"item_id\"] : x for x in item_data}\n",
    "all_items = list(metadata.keys())"
   ]
  },
  {
   "cell_type": "markdown",
   "metadata": {},
   "source": [
    "### Map each item to an integer id"
   ]
  },
  {
   "cell_type": "code",
   "execution_count": 5,
   "metadata": {},
   "outputs": [],
   "source": [
    "item_dict = {}\n",
    "for i, item in enumerate(item_data):\n",
    "    item_dict[item[\"item_id\"]] = i"
   ]
  },
  {
   "cell_type": "markdown",
   "metadata": {},
   "source": [
    "### Load item array"
   ]
  },
  {
   "cell_type": "code",
   "execution_count": 6,
   "metadata": {},
   "outputs": [],
   "source": [
    "item_arr = np.load(\"items.npy\")"
   ]
  },
  {
   "cell_type": "code",
   "execution_count": 7,
   "metadata": {},
   "outputs": [],
   "source": [
    "item_dim = item_arr.shape[1]"
   ]
  },
  {
   "cell_type": "markdown",
   "metadata": {},
   "source": [
    "### Candidate generator (workshop)"
   ]
  },
  {
   "cell_type": "code",
   "execution_count": 8,
   "metadata": {},
   "outputs": [
    {
     "data": {
      "application/vnd.jupyter.widget-view+json": {
       "model_id": "7efda39d2d724926b732089bdf207a3f",
       "version_major": 2,
       "version_minor": 0
      },
      "text/plain": [
       "HBox(children=(HTML(value=''), FloatProgress(value=0.0, max=330530.0), HTML(value='')))"
      ]
     },
     "metadata": {},
     "output_type": "display_data"
    },
    {
     "name": "stdout",
     "output_type": "stream",
     "text": [
      "\n"
     ]
    }
   ],
   "source": [
    "sales_x_domain = defaultdict(lambda: defaultdict(int))\n",
    "\n",
    "for row in tqdm(rows_train):\n",
    "    #viewed = [ev['event_info'] for ev in row['user_history'] if ev['event_type']=='view']\n",
    "    items = [row['item_bought']]\n",
    "    for item in items:\n",
    "        domain = metadata[item]['domain_id']\n",
    "        sales_x_domain[domain][item]+=1"
   ]
  },
  {
   "cell_type": "code",
   "execution_count": 9,
   "metadata": {},
   "outputs": [],
   "source": [
    "def domains_visited(row, max_views=15):\n",
    "    \"\"\"\n",
    "    For a given user story (row), returns a Counter \n",
    "    of the domains visited by the user.\n",
    "    \"\"\"\n",
    "    \n",
    "    domains = Counter()\n",
    "    \n",
    "    viewed = [ev['event_info'] for ev in row['user_history'] \n",
    "              if ev['event_type']=='view']\n",
    "    \n",
    "    if len(viewed) > max_views:\n",
    "        viewed = viewed[:15]\n",
    "        \n",
    "    for item in viewed:\n",
    "        domain = metadata[item]['domain_id']\n",
    "        domains[domain] += 1\n",
    "        \n",
    "    return domains"
   ]
  },
  {
   "cell_type": "code",
   "execution_count": 10,
   "metadata": {},
   "outputs": [],
   "source": [
    "def top_items(domain,k=10):\n",
    "    \"\"\"\n",
    "    Given the sales_x_domain info and a certain domain, \n",
    "    returns the top k selling items in that domain.\n",
    "    \"\"\"\n",
    "    \n",
    "    top = sales_x_domain[domain]\n",
    "    top = Counter(top)\n",
    "    top = top.most_common(k)\n",
    "    \n",
    "    return [x[0] for x in top]"
   ]
  },
  {
   "cell_type": "code",
   "execution_count": 11,
   "metadata": {},
   "outputs": [],
   "source": [
    "def top_by_best_domain(row, k=10):\n",
    "    \"\"\"\n",
    "    For a given user story (row) it returns the top k selling\n",
    "    items of the most visited domain.\n",
    "    \"\"\"\n",
    "    \n",
    "    views = [ev['event_info'] for ev in row['user_history'] if ev['event_type']=='view']\n",
    "    if len(views) == 0:\n",
    "        return []\n",
    "    domain = domains_visited(row)    \n",
    "    domain = domain.most_common(1)[0][0]\n",
    "    return top_items(domain, k=k)"
   ]
  },
  {
   "cell_type": "markdown",
   "metadata": {},
   "source": [
    "### Get candidates (function)"
   ]
  },
  {
   "cell_type": "code",
   "execution_count": 12,
   "metadata": {},
   "outputs": [],
   "source": [
    "def get_candidates(row, num = 100, train = False):\n",
    "    candidates = []\n",
    "    if train:\n",
    "        candidates += [row[\"item_bought\"]]\n",
    "    views = [ev['event_info'] for ev in row['user_history'] if ev['event_type']=='view']\n",
    "    if len(views) == 0:\n",
    "        return candidates + random.choices(all_items, k = num - len(candidates))\n",
    "    \n",
    "    candidates += views\n",
    "    candidates = candidates[:num]\n",
    "    if len(candidates) < num:\n",
    "        candidates += top_by_best_domain(row, k = num - len(candidates))\n",
    "    \n",
    "    candidates = list(set(candidates))            # candidates repetidos?\n",
    "    if len(candidates) < num:\n",
    "        candidates += random.choices(all_items, k = num - len(candidates))\n",
    "    \n",
    "    return candidates"
   ]
  },
  {
   "cell_type": "code",
   "execution_count": 13,
   "metadata": {},
   "outputs": [
    {
     "data": {
      "application/vnd.jupyter.widget-view+json": {
       "model_id": "7c74dc93168c49259394da46435d829a",
       "version_major": 2,
       "version_minor": 0
      },
      "text/plain": [
       "HBox(children=(HTML(value=''), FloatProgress(value=0.0, max=2.0), HTML(value='')))"
      ]
     },
     "metadata": {},
     "output_type": "display_data"
    },
    {
     "name": "stdout",
     "output_type": "stream",
     "text": [
      "\n"
     ]
    },
    {
     "ename": "KeyboardInterrupt",
     "evalue": "",
     "output_type": "error",
     "traceback": [
      "\u001b[0;31m---------------------------------------------------------------------------\u001b[0m",
      "\u001b[0;31mKeyboardInterrupt\u001b[0m                         Traceback (most recent call last)",
      "\u001b[0;32m<ipython-input-13-4cf16ad223ed>\u001b[0m in \u001b[0;36m<module>\u001b[0;34m\u001b[0m\n\u001b[1;32m      4\u001b[0m     \u001b[0mn_succ\u001b[0m \u001b[0;34m=\u001b[0m \u001b[0;36m0\u001b[0m\u001b[0;34m\u001b[0m\u001b[0;34m\u001b[0m\u001b[0m\n\u001b[1;32m      5\u001b[0m     \u001b[0;32mfor\u001b[0m \u001b[0mr\u001b[0m \u001b[0;32min\u001b[0m \u001b[0mrows_train\u001b[0m\u001b[0;34m:\u001b[0m\u001b[0;34m\u001b[0m\u001b[0;34m\u001b[0m\u001b[0m\n\u001b[0;32m----> 6\u001b[0;31m         \u001b[0mcandidates\u001b[0m \u001b[0;34m=\u001b[0m \u001b[0mget_candidates\u001b[0m\u001b[0;34m(\u001b[0m\u001b[0mr\u001b[0m\u001b[0;34m,\u001b[0m \u001b[0mnum\u001b[0m \u001b[0;34m=\u001b[0m \u001b[0mk\u001b[0m\u001b[0;34m,\u001b[0m \u001b[0mtrain\u001b[0m \u001b[0;34m=\u001b[0m \u001b[0;32mTrue\u001b[0m\u001b[0;34m)\u001b[0m\u001b[0;34m\u001b[0m\u001b[0;34m\u001b[0m\u001b[0m\n\u001b[0m\u001b[1;32m      7\u001b[0m         \u001b[0;32mif\u001b[0m \u001b[0mr\u001b[0m\u001b[0;34m[\u001b[0m\u001b[0;34m\"item_bought\"\u001b[0m\u001b[0;34m]\u001b[0m \u001b[0;32min\u001b[0m \u001b[0mcandidates\u001b[0m\u001b[0;34m:\u001b[0m \u001b[0mn_succ\u001b[0m \u001b[0;34m+=\u001b[0m \u001b[0;36m1\u001b[0m\u001b[0;34m\u001b[0m\u001b[0;34m\u001b[0m\u001b[0m\n\u001b[1;32m      8\u001b[0m \u001b[0;34m\u001b[0m\u001b[0m\n",
      "\u001b[0;32m<ipython-input-12-3278e9a433b6>\u001b[0m in \u001b[0;36mget_candidates\u001b[0;34m(row, num, train)\u001b[0m\n\u001b[1;32m     10\u001b[0m     \u001b[0mcandidates\u001b[0m \u001b[0;34m=\u001b[0m \u001b[0mcandidates\u001b[0m\u001b[0;34m[\u001b[0m\u001b[0;34m:\u001b[0m\u001b[0mnum\u001b[0m\u001b[0;34m]\u001b[0m\u001b[0;34m\u001b[0m\u001b[0;34m\u001b[0m\u001b[0m\n\u001b[1;32m     11\u001b[0m     \u001b[0;32mif\u001b[0m \u001b[0mlen\u001b[0m\u001b[0;34m(\u001b[0m\u001b[0mcandidates\u001b[0m\u001b[0;34m)\u001b[0m \u001b[0;34m<\u001b[0m \u001b[0mnum\u001b[0m\u001b[0;34m:\u001b[0m\u001b[0;34m\u001b[0m\u001b[0;34m\u001b[0m\u001b[0m\n\u001b[0;32m---> 12\u001b[0;31m         \u001b[0mcandidates\u001b[0m \u001b[0;34m+=\u001b[0m \u001b[0mtop_by_best_domain\u001b[0m\u001b[0;34m(\u001b[0m\u001b[0mrow\u001b[0m\u001b[0;34m,\u001b[0m \u001b[0mk\u001b[0m \u001b[0;34m=\u001b[0m \u001b[0mnum\u001b[0m \u001b[0;34m-\u001b[0m \u001b[0mlen\u001b[0m\u001b[0;34m(\u001b[0m\u001b[0mcandidates\u001b[0m\u001b[0;34m)\u001b[0m\u001b[0;34m)\u001b[0m\u001b[0;34m\u001b[0m\u001b[0;34m\u001b[0m\u001b[0m\n\u001b[0m\u001b[1;32m     13\u001b[0m \u001b[0;34m\u001b[0m\u001b[0m\n\u001b[1;32m     14\u001b[0m     \u001b[0mcandidates\u001b[0m \u001b[0;34m=\u001b[0m \u001b[0mlist\u001b[0m\u001b[0;34m(\u001b[0m\u001b[0mset\u001b[0m\u001b[0;34m(\u001b[0m\u001b[0mcandidates\u001b[0m\u001b[0;34m)\u001b[0m\u001b[0;34m)\u001b[0m            \u001b[0;31m# candidates repetidos?\u001b[0m\u001b[0;34m\u001b[0m\u001b[0;34m\u001b[0m\u001b[0m\n",
      "\u001b[0;32m<ipython-input-11-3db89cde4c18>\u001b[0m in \u001b[0;36mtop_by_best_domain\u001b[0;34m(row, k)\u001b[0m\n\u001b[1;32m     10\u001b[0m     \u001b[0mdomain\u001b[0m \u001b[0;34m=\u001b[0m \u001b[0mdomains_visited\u001b[0m\u001b[0;34m(\u001b[0m\u001b[0mrow\u001b[0m\u001b[0;34m)\u001b[0m\u001b[0;34m\u001b[0m\u001b[0;34m\u001b[0m\u001b[0m\n\u001b[1;32m     11\u001b[0m     \u001b[0mdomain\u001b[0m \u001b[0;34m=\u001b[0m \u001b[0mdomain\u001b[0m\u001b[0;34m.\u001b[0m\u001b[0mmost_common\u001b[0m\u001b[0;34m(\u001b[0m\u001b[0;36m1\u001b[0m\u001b[0;34m)\u001b[0m\u001b[0;34m[\u001b[0m\u001b[0;36m0\u001b[0m\u001b[0;34m]\u001b[0m\u001b[0;34m[\u001b[0m\u001b[0;36m0\u001b[0m\u001b[0;34m]\u001b[0m\u001b[0;34m\u001b[0m\u001b[0;34m\u001b[0m\u001b[0m\n\u001b[0;32m---> 12\u001b[0;31m     \u001b[0;32mreturn\u001b[0m \u001b[0mtop_items\u001b[0m\u001b[0;34m(\u001b[0m\u001b[0mdomain\u001b[0m\u001b[0;34m,\u001b[0m \u001b[0mk\u001b[0m\u001b[0;34m=\u001b[0m\u001b[0mk\u001b[0m\u001b[0;34m)\u001b[0m\u001b[0;34m\u001b[0m\u001b[0;34m\u001b[0m\u001b[0m\n\u001b[0m",
      "\u001b[0;32m<ipython-input-10-fc36c3d9d6b1>\u001b[0m in \u001b[0;36mtop_items\u001b[0;34m(domain, k)\u001b[0m\n\u001b[1;32m      6\u001b[0m \u001b[0;34m\u001b[0m\u001b[0m\n\u001b[1;32m      7\u001b[0m     \u001b[0mtop\u001b[0m \u001b[0;34m=\u001b[0m \u001b[0msales_x_domain\u001b[0m\u001b[0;34m[\u001b[0m\u001b[0mdomain\u001b[0m\u001b[0;34m]\u001b[0m\u001b[0;34m\u001b[0m\u001b[0;34m\u001b[0m\u001b[0m\n\u001b[0;32m----> 8\u001b[0;31m     \u001b[0mtop\u001b[0m \u001b[0;34m=\u001b[0m \u001b[0mCounter\u001b[0m\u001b[0;34m(\u001b[0m\u001b[0mtop\u001b[0m\u001b[0;34m)\u001b[0m\u001b[0;34m\u001b[0m\u001b[0;34m\u001b[0m\u001b[0m\n\u001b[0m\u001b[1;32m      9\u001b[0m     \u001b[0mtop\u001b[0m \u001b[0;34m=\u001b[0m \u001b[0mtop\u001b[0m\u001b[0;34m.\u001b[0m\u001b[0mmost_common\u001b[0m\u001b[0;34m(\u001b[0m\u001b[0mk\u001b[0m\u001b[0;34m)\u001b[0m\u001b[0;34m\u001b[0m\u001b[0;34m\u001b[0m\u001b[0m\n\u001b[1;32m     10\u001b[0m \u001b[0;34m\u001b[0m\u001b[0m\n",
      "\u001b[0;32m~/miniconda3/envs/stellar/lib/python3.8/collections/__init__.py\u001b[0m in \u001b[0;36m__init__\u001b[0;34m(self, iterable, **kwds)\u001b[0m\n\u001b[1;32m    550\u001b[0m         '''\n\u001b[1;32m    551\u001b[0m         \u001b[0msuper\u001b[0m\u001b[0;34m(\u001b[0m\u001b[0mCounter\u001b[0m\u001b[0;34m,\u001b[0m \u001b[0mself\u001b[0m\u001b[0;34m)\u001b[0m\u001b[0;34m.\u001b[0m\u001b[0m__init__\u001b[0m\u001b[0;34m(\u001b[0m\u001b[0;34m)\u001b[0m\u001b[0;34m\u001b[0m\u001b[0;34m\u001b[0m\u001b[0m\n\u001b[0;32m--> 552\u001b[0;31m         \u001b[0mself\u001b[0m\u001b[0;34m.\u001b[0m\u001b[0mupdate\u001b[0m\u001b[0;34m(\u001b[0m\u001b[0miterable\u001b[0m\u001b[0;34m,\u001b[0m \u001b[0;34m**\u001b[0m\u001b[0mkwds\u001b[0m\u001b[0;34m)\u001b[0m\u001b[0;34m\u001b[0m\u001b[0;34m\u001b[0m\u001b[0m\n\u001b[0m\u001b[1;32m    553\u001b[0m \u001b[0;34m\u001b[0m\u001b[0m\n\u001b[1;32m    554\u001b[0m     \u001b[0;32mdef\u001b[0m \u001b[0m__missing__\u001b[0m\u001b[0;34m(\u001b[0m\u001b[0mself\u001b[0m\u001b[0;34m,\u001b[0m \u001b[0mkey\u001b[0m\u001b[0;34m)\u001b[0m\u001b[0;34m:\u001b[0m\u001b[0;34m\u001b[0m\u001b[0;34m\u001b[0m\u001b[0m\n",
      "\u001b[0;32m~/miniconda3/envs/stellar/lib/python3.8/collections/__init__.py\u001b[0m in \u001b[0;36mupdate\u001b[0;34m(self, iterable, **kwds)\u001b[0m\n\u001b[1;32m    633\u001b[0m                         \u001b[0mself\u001b[0m\u001b[0;34m[\u001b[0m\u001b[0melem\u001b[0m\u001b[0;34m]\u001b[0m \u001b[0;34m=\u001b[0m \u001b[0mcount\u001b[0m \u001b[0;34m+\u001b[0m \u001b[0mself_get\u001b[0m\u001b[0;34m(\u001b[0m\u001b[0melem\u001b[0m\u001b[0;34m,\u001b[0m \u001b[0;36m0\u001b[0m\u001b[0;34m)\u001b[0m\u001b[0;34m\u001b[0m\u001b[0;34m\u001b[0m\u001b[0m\n\u001b[1;32m    634\u001b[0m                 \u001b[0;32melse\u001b[0m\u001b[0;34m:\u001b[0m\u001b[0;34m\u001b[0m\u001b[0;34m\u001b[0m\u001b[0m\n\u001b[0;32m--> 635\u001b[0;31m                     \u001b[0msuper\u001b[0m\u001b[0;34m(\u001b[0m\u001b[0mCounter\u001b[0m\u001b[0;34m,\u001b[0m \u001b[0mself\u001b[0m\u001b[0;34m)\u001b[0m\u001b[0;34m.\u001b[0m\u001b[0mupdate\u001b[0m\u001b[0;34m(\u001b[0m\u001b[0miterable\u001b[0m\u001b[0;34m)\u001b[0m \u001b[0;31m# fast path when counter is empty\u001b[0m\u001b[0;34m\u001b[0m\u001b[0;34m\u001b[0m\u001b[0m\n\u001b[0m\u001b[1;32m    636\u001b[0m             \u001b[0;32melse\u001b[0m\u001b[0;34m:\u001b[0m\u001b[0;34m\u001b[0m\u001b[0;34m\u001b[0m\u001b[0m\n\u001b[1;32m    637\u001b[0m                 \u001b[0m_count_elements\u001b[0m\u001b[0;34m(\u001b[0m\u001b[0mself\u001b[0m\u001b[0;34m,\u001b[0m \u001b[0miterable\u001b[0m\u001b[0;34m)\u001b[0m\u001b[0;34m\u001b[0m\u001b[0;34m\u001b[0m\u001b[0m\n",
      "\u001b[0;31mKeyboardInterrupt\u001b[0m: "
     ]
    }
   ],
   "source": [
    "ks = [10, 20]\n",
    "n_succs = []\n",
    "for k in tqdm(ks):\n",
    "    n_succ = 0\n",
    "    for r in rows_train:\n",
    "        candidates = get_candidates(r, num = k, train = True)\n",
    "        if r[\"item_bought\"] in candidates: n_succ += 1\n",
    "            \n",
    "    n_succs.append(n_succ)\n",
    "\n",
    "plt.figure(figsize = (12.5, 7.5))\n",
    "plt.grid(\"both\")\n",
    "for i, k in enumerate(ks):\n",
    "    plt.scatter(k, n_succs[i]/len(rows_train))"
   ]
  },
  {
   "cell_type": "markdown",
   "metadata": {},
   "source": [
    "### Generate y matrix"
   ]
  },
  {
   "cell_type": "code",
   "execution_count": 14,
   "metadata": {},
   "outputs": [
    {
     "data": {
      "application/vnd.jupyter.widget-view+json": {
       "model_id": "1df77a1fd0ea4c2f9c506f077e45a8a5",
       "version_major": 2,
       "version_minor": 0
      },
      "text/plain": [
       "HBox(children=(HTML(value=''), FloatProgress(value=0.0, max=330530.0), HTML(value='')))"
      ]
     },
     "metadata": {},
     "output_type": "display_data"
    },
    {
     "name": "stdout",
     "output_type": "stream",
     "text": [
      "\n"
     ]
    }
   ],
   "source": [
    "k = 50\n",
    "train = True\n",
    "y_train = np.zeros((len(rows_train), k))\n",
    "cands_train = np.zeros((len(rows_train), k), dtype = np.int)\n",
    "for i, r in enumerate(tqdm(rows_train)):\n",
    "    bought_id = r[\"item_bought\"]\n",
    "    cands_train[i, :] = get_candidates(r, k, train = True)\n",
    "    for j, c in enumerate(cands_train[i]):\n",
    "        if c == bought_id:\n",
    "            y_train[i, j] = 1\n",
    "        #elif metadata[c][\"domain_id\"] == metadata[bought_id][\"domain_id\"]:\n",
    "            #y_train[i, j] = 0 #.5?"
   ]
  },
  {
   "cell_type": "code",
   "execution_count": 25,
   "metadata": {},
   "outputs": [
    {
     "data": {
      "application/vnd.jupyter.widget-view+json": {
       "model_id": "4ea718dc6842461f97dde177acf8bcc2",
       "version_major": 2,
       "version_minor": 0
      },
      "text/plain": [
       "HBox(children=(HTML(value=''), FloatProgress(value=0.0, max=330530.0), HTML(value='')))"
      ]
     },
     "metadata": {},
     "output_type": "display_data"
    },
    {
     "name": "stdout",
     "output_type": "stream",
     "text": [
      "\n",
      "1\n"
     ]
    }
   ],
   "source": [
    "n_fail = 0\n",
    "for y in tqdm(y_train):\n",
    "    c = np.count_nonzero(y)\n",
    "    if c > 1: n_fail += 1\n",
    "        \n",
    "print(c)"
   ]
  },
  {
   "cell_type": "code",
   "execution_count": 37,
   "metadata": {},
   "outputs": [
    {
     "data": {
      "application/vnd.jupyter.widget-view+json": {
       "model_id": "a594640ff4264fefb739ac87d148b6eb",
       "version_major": 2,
       "version_minor": 0
      },
      "text/plain": [
       "HBox(children=(HTML(value=''), FloatProgress(value=0.0, max=82633.0), HTML(value='')))"
      ]
     },
     "metadata": {},
     "output_type": "display_data"
    },
    {
     "name": "stdout",
     "output_type": "stream",
     "text": [
      "\n"
     ]
    }
   ],
   "source": [
    "k = 50\n",
    "train = False\n",
    "y_test = np.zeros((len(rows_test), k))\n",
    "cands_test = np.zeros((len(rows_test), k), dtype = np.int)\n",
    "for i, r in enumerate(tqdm(rows_test)):\n",
    "    bought_id = r[\"item_bought\"]\n",
    "    cands_test[i, :] = get_candidates(r, k, train = train)\n",
    "    for j, c in enumerate(cands_test[i]):\n",
    "        if c == bought_id:\n",
    "            y_test[i, j] = 1\n",
    "        #elif metadata[c][\"domain_id\"] == metadata[bought_id][\"domain_id\"]:\n",
    "            #y_test[i, j] = 0 #.5?"
   ]
  },
  {
   "cell_type": "code",
   "execution_count": 27,
   "metadata": {},
   "outputs": [
    {
     "data": {
      "application/vnd.jupyter.widget-view+json": {
       "model_id": "38500718b1f948498b55920a0f3a3803",
       "version_major": 2,
       "version_minor": 0
      },
      "text/plain": [
       "HBox(children=(HTML(value=''), FloatProgress(value=0.0, max=82633.0), HTML(value='')))"
      ]
     },
     "metadata": {},
     "output_type": "display_data"
    },
    {
     "name": "stdout",
     "output_type": "stream",
     "text": [
      "\n",
      "1\n"
     ]
    }
   ],
   "source": [
    "n_fail = 0\n",
    "fails = []\n",
    "for i, y in enumerate(tqdm(y_test)):\n",
    "    c = np.count_nonzero(y)\n",
    "    if c > 1: \n",
    "        n_fail += 1\n",
    "        fails.append(i)\n",
    "        \n",
    "print(n_fail)"
   ]
  },
  {
   "cell_type": "markdown",
   "metadata": {},
   "source": [
    "### Calculate maximum performance after candidate generator"
   ]
  },
  {
   "cell_type": "code",
   "execution_count": 45,
   "metadata": {},
   "outputs": [],
   "source": [
    "def best_ndcg(y):\n",
    "    y_sort = sorted(y.tolist(), reverse = True)\n",
    "    y_sort = y_sort[:10]\n",
    "    buf = 0\n",
    "    for i, ys in enumerate(y_sort):\n",
    "        den = 1/np.log(2+i)\n",
    "        rel = 0\n",
    "        if ys == .5:\n",
    "            rel = 1\n",
    "        if ys == 1:\n",
    "            rel = 12\n",
    "            \n",
    "        buf += rel/den\n",
    "    return buf/25.126926832033277"
   ]
  },
  {
   "cell_type": "code",
   "execution_count": 18,
   "metadata": {},
   "outputs": [
    {
     "data": {
      "text/plain": [
       "0.6011245495338303"
      ]
     },
     "execution_count": 18,
     "metadata": {},
     "output_type": "execute_result"
    }
   ],
   "source": [
    "best_ndcg(np.array([0.5]*9 + [0]))"
   ]
  },
  {
   "cell_type": "code",
   "execution_count": 46,
   "metadata": {},
   "outputs": [
    {
     "data": {
      "application/vnd.jupyter.widget-view+json": {
       "model_id": "37cb08fd288044f58f3d2d6426682260",
       "version_major": 2,
       "version_minor": 0
      },
      "text/plain": [
       "HBox(children=(HTML(value=''), FloatProgress(value=0.0, max=330530.0), HTML(value='')))"
      ]
     },
     "metadata": {},
     "output_type": "display_data"
    },
    {
     "name": "stdout",
     "output_type": "stream",
     "text": [
      "\n",
      "0.11766071314154836\n"
     ]
    }
   ],
   "source": [
    "s = 0\n",
    "for y in tqdm(y_train):\n",
    "    s += best_ndcg(y)\n",
    "\n",
    "print(s/len(y_train))"
   ]
  },
  {
   "cell_type": "markdown",
   "metadata": {},
   "source": [
    "### Load word vectors"
   ]
  },
  {
   "cell_type": "code",
   "execution_count": 16,
   "metadata": {},
   "outputs": [
    {
     "data": {
      "application/vnd.jupyter.widget-view+json": {
       "model_id": "60d64851d41843008ec03083cd89468e",
       "version_major": 2,
       "version_minor": 0
      },
      "text/plain": [
       "HBox(children=(HTML(value=''), FloatProgress(value=1.0, bar_style='info', layout=Layout(width='20px'), max=1.0…"
      ]
     },
     "metadata": {},
     "output_type": "display_data"
    },
    {
     "name": "stdout",
     "output_type": "stream",
     "text": [
      "\n"
     ]
    }
   ],
   "source": [
    "import csv\n",
    "# open vector file\n",
    "tsv_file = open(\"word2vec/vectors_q.tsv\")\n",
    "read_tsv = csv.reader(tsv_file, delimiter=\"\\t\")\n",
    "\n",
    "vectors_wrd = []\n",
    "for row in read_tsv:\n",
    "    vectors_wrd.append(row)\n",
    "tsv_file.close()\n",
    "\n",
    "v_wrd = np.zeros((len(vectors_wrd), 32), dtype = np.float64)\n",
    "for i, v in tqdm(enumerate(vectors_wrd)):\n",
    "    for j, vi in enumerate(v):\n",
    "        v_wrd[i,j] = float(vi)\n",
    "\n",
    "# open keys file\n",
    "tsv_file = open(\"word2vec/meta_q.tsv\")\n",
    "read_tsv = csv.reader(tsv_file, delimiter=\"\\t\")\n",
    "\n",
    "keys_wrd = []\n",
    "for key in read_tsv:\n",
    "    keys_wrd.append(key[0])\n",
    "tsv_file.close()\n",
    "\n",
    "assert len(keys_wrd) == v_wrd.shape[0]"
   ]
  },
  {
   "cell_type": "code",
   "execution_count": 17,
   "metadata": {},
   "outputs": [],
   "source": [
    "words_dict = {k : v for k, v in zip(keys_wrd, v_wrd)}\n",
    "wrd_counter = Counter()\n",
    "for i, wrd in enumerate(words_dict.keys()):\n",
    "    if i == 0: continue\n",
    "    wrd_counter[wrd] = i\n",
    "    \n",
    "word_dim = words_dict[\"de\"].size"
   ]
  },
  {
   "cell_type": "markdown",
   "metadata": {},
   "source": [
    "### Get sessions function"
   ]
  },
  {
   "cell_type": "code",
   "execution_count": 18,
   "metadata": {},
   "outputs": [],
   "source": [
    "mean_dom = np.mean(item_arr[:,0:32], axis = 0)\n",
    "mean_cat = np.mean(item_arr[:,32:64], axis = 0)"
   ]
  },
  {
   "cell_type": "code",
   "execution_count": 19,
   "metadata": {},
   "outputs": [],
   "source": [
    "def query_2_sess(row):\n",
    "    n_words = 4\n",
    "    queries = [ev['event_info'] for ev in row['user_history'] if ev['event_type']=='search']\n",
    "    arr = np.zeros((len(queries), item_dim))\n",
    "    for i, q in enumerate(queries): \n",
    "        words = list(q.lower().split())\n",
    "        ranks = []\n",
    "        for w in words:\n",
    "            ranks.append(wrd_counter[w])\n",
    "        top = np.argsort(ranks)[::-1][:n_words]\n",
    "        words_sort = [words[t] for t in top]\n",
    "        if len(words_sort) < n_words: words_sort += [\"[UNK]\"]*(n_words - len(words_sort))\n",
    "        word_vector = np.zeros((item_dim))\n",
    "        word_vector[:32] = mean_dom\n",
    "        word_vector[32:64] = mean_cat\n",
    "        for j, w in enumerate(words_sort):\n",
    "            try:\n",
    "                word_vector[64 + j*word_dim : 64 + (1+j)*word_dim] = words_dict[w]\n",
    "            except KeyError:\n",
    "                word_vector[j*word_dim : (1+j)*word_dim] =  words_dict['[UNK]']\n",
    "                \n",
    "        arr[i,:] = word_vector\n",
    "        \n",
    "    return arr"
   ]
  },
  {
   "cell_type": "code",
   "execution_count": 20,
   "metadata": {},
   "outputs": [],
   "source": [
    "def get_session(row, max_length = 15):\n",
    "    views = [ev['event_info'] for ev in row['user_history'] if ev['event_type']=='view']\n",
    "    views = views[-max_length:]\n",
    "    if len(views) == 0:\n",
    "        s_arr = query_2_sess(row)\n",
    "    else:\n",
    "        s_arr = np.zeros((len(views), item_arr.shape[1]))\n",
    "        for i, v in enumerate(views):\n",
    "            int_id = item_dict[v]\n",
    "            s_arr[i] = item_arr[int_id]\n",
    "    \n",
    "    mt = s_arr[-1, :]\n",
    "    ms = np.mean(s_arr, axis = 0)\n",
    "    \n",
    "    return mt, ms"
   ]
  },
  {
   "cell_type": "code",
   "execution_count": 21,
   "metadata": {},
   "outputs": [
    {
     "data": {
      "application/vnd.jupyter.widget-view+json": {
       "model_id": "07a7db41b7c84b559ca29cc7546ca403",
       "version_major": 2,
       "version_minor": 0
      },
      "text/plain": [
       "HBox(children=(HTML(value=''), FloatProgress(value=0.0, max=330530.0), HTML(value='')))"
      ]
     },
     "metadata": {},
     "output_type": "display_data"
    },
    {
     "name": "stdout",
     "output_type": "stream",
     "text": [
      "\n"
     ]
    },
    {
     "data": {
      "application/vnd.jupyter.widget-view+json": {
       "model_id": "8f2892be61424a79b7da1335066d19f1",
       "version_major": 2,
       "version_minor": 0
      },
      "text/plain": [
       "HBox(children=(HTML(value=''), FloatProgress(value=0.0, max=82633.0), HTML(value='')))"
      ]
     },
     "metadata": {},
     "output_type": "display_data"
    },
    {
     "name": "stdout",
     "output_type": "stream",
     "text": [
      "\n"
     ]
    }
   ],
   "source": [
    "mt_train = np.zeros((len(rows_train), item_arr.shape[1]))\n",
    "ms_train = mt_train.copy()\n",
    "\n",
    "mt_test = np.zeros((len(rows_test), item_arr.shape[1]))\n",
    "ms_test = mt_test.copy()\n",
    "\n",
    "for i, row in enumerate(tqdm(rows_train)):\n",
    "    mt, ms = get_session(row, max_length = 15)\n",
    "    mt_train[i, :] = mt\n",
    "    ms_train[i, :] = ms\n",
    "\n",
    "for i, row in enumerate(tqdm(rows_test)):\n",
    "    mt, ms = get_session(row, max_length = 15)\n",
    "    mt_test[i, :] = mt\n",
    "    ms_test[i, :] = ms"
   ]
  },
  {
   "cell_type": "markdown",
   "metadata": {},
   "source": [
    "### Vectorize candidates"
   ]
  },
  {
   "cell_type": "markdown",
   "metadata": {},
   "source": [
    "#### Train"
   ]
  },
  {
   "cell_type": "code",
   "execution_count": 22,
   "metadata": {},
   "outputs": [
    {
     "data": {
      "application/vnd.jupyter.widget-view+json": {
       "model_id": "237f172d448a4a4f8a15dd5190d9eb3c",
       "version_major": 2,
       "version_minor": 0
      },
      "text/plain": [
       "HBox(children=(HTML(value=''), FloatProgress(value=0.0, max=330530.0), HTML(value='')))"
      ]
     },
     "metadata": {},
     "output_type": "display_data"
    },
    {
     "name": "stdout",
     "output_type": "stream",
     "text": [
      "\n"
     ]
    }
   ],
   "source": [
    "cands_arr_train = np.zeros((len(rows_train), k, item_dim))\n",
    "for i, cands_int in enumerate(tqdm(cands_train)):\n",
    "    V = np.zeros((cands_int.size, item_dim))\n",
    "    for j, c in enumerate(cands_int):\n",
    "        int_id = item_dict[c]\n",
    "        V[j] = item_arr[int_id]\n",
    "    cands_arr_train[i] = V"
   ]
  },
  {
   "cell_type": "markdown",
   "metadata": {},
   "source": [
    "#### Test"
   ]
  },
  {
   "cell_type": "code",
   "execution_count": 38,
   "metadata": {},
   "outputs": [
    {
     "data": {
      "application/vnd.jupyter.widget-view+json": {
       "model_id": "3d98994b26c74acd9ea2cbd277a351c3",
       "version_major": 2,
       "version_minor": 0
      },
      "text/plain": [
       "HBox(children=(HTML(value=''), FloatProgress(value=0.0, max=82633.0), HTML(value='')))"
      ]
     },
     "metadata": {},
     "output_type": "display_data"
    },
    {
     "name": "stdout",
     "output_type": "stream",
     "text": [
      "\n"
     ]
    }
   ],
   "source": [
    "cands_arr_test = np.zeros((len(rows_test), k, item_dim))\n",
    "for i, cands_int in enumerate(tqdm(cands_test)):\n",
    "    V = np.zeros((cands_int.size, item_dim))\n",
    "    for j, c in enumerate(cands_int):\n",
    "        int_id = item_dict[c]\n",
    "        V[j] = item_arr[int_id]\n",
    "    cands_arr_test[i] = V"
   ]
  },
  {
   "cell_type": "code",
   "execution_count": 24,
   "metadata": {},
   "outputs": [],
   "source": [
    "#del item_arr\n",
    "#del metadata\n",
    "#del rows"
   ]
  },
  {
   "cell_type": "markdown",
   "metadata": {},
   "source": [
    "### Lets begin training (sigh)"
   ]
  },
  {
   "cell_type": "code",
   "execution_count": 24,
   "metadata": {},
   "outputs": [],
   "source": [
    "import tensorflow as tf\n",
    "from tensorflow import keras\n",
    "\n",
    "from tensorflow.keras.models import Sequential\n",
    "from tensorflow.keras.layers import BatchNormalization\n",
    "from tensorflow.keras.layers import Dropout\n",
    "from tensorflow.keras.layers import Dense\n",
    "from tensorflow.keras.layers import Permute\n",
    "from tensorflow.keras.layers import Input\n",
    "from tensorflow.keras.layers import Multiply\n",
    "from tensorflow.keras.layers import Reshape\n",
    "from tensorflow.keras.layers import Concatenate\n",
    "from tensorflow.keras.layers import Dot\n",
    "from tensorflow.keras.layers import Activation\n",
    "from tensorflow.keras.optimizers import Adam\n",
    "from tensorflow.keras.models import Model"
   ]
  },
  {
   "cell_type": "markdown",
   "metadata": {},
   "source": [
    "### Third try"
   ]
  },
  {
   "cell_type": "code",
   "execution_count": 25,
   "metadata": {},
   "outputs": [],
   "source": [
    "rate = .2\n",
    "hidden_dim = 128\n",
    "\n",
    "# inputs\n",
    "input_mt = Input(shape = (item_dim,))\n",
    "input_ms = Input(shape = (item_dim,))\n",
    "input_xi = Input(shape = (k, item_dim,))\n",
    "\n",
    "# transform item dim\n",
    "trans = Dense(hidden_dim, activation = \"tanh\")\n",
    "input_mt_T = trans(input_mt)\n",
    "input_ms_T = trans(input_ms)\n",
    "input_xi_T = trans(input_xi)\n",
    "\n",
    "# mlps\n",
    "hs = Dense(hidden_dim, activation = \"tanh\", name = \"MLP_A\")(input_ms_T)\n",
    "#hs = Dropout(rate = rate)(hs)\n",
    "hs = Reshape((1, hidden_dim))(hs)\n",
    "\n",
    "ht = Dense(hidden_dim, activation = \"tanh\", name = \"MLP_B\")(input_mt_T)\n",
    "#ht = Dropout(rate = rate)(ht)\n",
    "ht = Reshape((1, hidden_dim))(ht)\n",
    "\n",
    "# conc for products\n",
    "ht_conc = Concatenate(axis = 1)([ht]*k)    # batch dimension = 0!!\n",
    "#hs_conc = Concatenate(axis = 1)([hs]*k)\n",
    "\n",
    "# hadamard\n",
    "hadamard = Multiply()([ht_conc, input_xi_T])\n",
    "\n",
    "# transpose hadamard for dot\n",
    "had_T = Permute(dims = (2,1))(hadamard)\n",
    "\n",
    "# dot\n",
    "dot = Dot(axes = (2,1), name = \"DOT\")([hs, had_T])\n",
    "\n",
    "# softmax?\n",
    "smax = Activation(\"softmax\")(dot)\n",
    "\n",
    "# output\n",
    "output = Reshape((k,))(smax)"
   ]
  },
  {
   "cell_type": "code",
   "execution_count": 26,
   "metadata": {
    "scrolled": true
   },
   "outputs": [],
   "source": [
    "# compile model    \n",
    "model = Model(inputs=[input_mt, input_ms, input_xi], outputs=output)\n",
    "#model.summary()\n",
    "# optimizer\n",
    "opt = Adam(lr=1e-3, decay=2e-3 / 200)\n",
    "# loss\n",
    "loss = tf.keras.losses.categorical_crossentropy #mse\n",
    "# compile\n",
    "model.compile(loss=loss, \n",
    "              optimizer=opt,\n",
    "              metrics=[keras.metrics.categorical_accuracy])"
   ]
  },
  {
   "cell_type": "code",
   "execution_count": 27,
   "metadata": {},
   "outputs": [
    {
     "data": {
      "text/plain": [
       "TensorShape([None, 100])"
      ]
     },
     "execution_count": 27,
     "metadata": {},
     "output_type": "execute_result"
    }
   ],
   "source": [
    "model.output.shape"
   ]
  },
  {
   "cell_type": "markdown",
   "metadata": {},
   "source": [
    "### Train the model"
   ]
  },
  {
   "cell_type": "code",
   "execution_count": 44,
   "metadata": {
    "scrolled": false
   },
   "outputs": [
    {
     "name": "stdout",
     "output_type": "stream",
     "text": [
      "Epoch 1/50\n",
      "13773/13773 [==============================] - 91s 7ms/step - loss: 2.5169 - categorical_accuracy: 0.3350 - val_loss: 1.0096 - val_categorical_accuracy: 0.1094\n",
      "Epoch 2/50\n",
      "13773/13773 [==============================] - 83s 6ms/step - loss: 2.5144 - categorical_accuracy: 0.3358 - val_loss: 1.0031 - val_categorical_accuracy: 0.1116\n",
      "Epoch 3/50\n",
      "13773/13773 [==============================] - 84s 6ms/step - loss: 2.5125 - categorical_accuracy: 0.3363 - val_loss: 1.0107 - val_categorical_accuracy: 0.1095\n",
      "Epoch 4/50\n",
      "13773/13773 [==============================] - 85s 6ms/step - loss: 2.5108 - categorical_accuracy: 0.3366 - val_loss: 1.0082 - val_categorical_accuracy: 0.1099\n",
      "Epoch 5/50\n",
      "13773/13773 [==============================] - 84s 6ms/step - loss: 2.5087 - categorical_accuracy: 0.3371 - val_loss: 1.0079 - val_categorical_accuracy: 0.1108\n",
      "Epoch 6/50\n",
      "13773/13773 [==============================] - 84s 6ms/step - loss: 2.5066 - categorical_accuracy: 0.3376 - val_loss: 1.0126 - val_categorical_accuracy: 0.1098\n",
      "Epoch 7/50\n",
      "13773/13773 [==============================] - 84s 6ms/step - loss: 2.5048 - categorical_accuracy: 0.3385 - val_loss: 1.0080 - val_categorical_accuracy: 0.1105\n",
      "Epoch 8/50\n",
      "13773/13773 [==============================] - 84s 6ms/step - loss: 2.5036 - categorical_accuracy: 0.3381 - val_loss: 1.0130 - val_categorical_accuracy: 0.1088\n",
      "Epoch 9/50\n",
      "13773/13773 [==============================] - 85s 6ms/step - loss: 2.5012 - categorical_accuracy: 0.3388 - val_loss: 1.0197 - val_categorical_accuracy: 0.1077\n",
      "Epoch 10/50\n",
      "13773/13773 [==============================] - 85s 6ms/step - loss: 2.4998 - categorical_accuracy: 0.3396 - val_loss: 1.0031 - val_categorical_accuracy: 0.1113\n",
      "Epoch 11/50\n",
      "13773/13773 [==============================] - 85s 6ms/step - loss: 2.4978 - categorical_accuracy: 0.3395 - val_loss: 1.0116 - val_categorical_accuracy: 0.1094\n",
      "Epoch 12/50\n",
      "13773/13773 [==============================] - 86s 6ms/step - loss: 2.4967 - categorical_accuracy: 0.3398 - val_loss: 1.0042 - val_categorical_accuracy: 0.1115\n",
      "Epoch 13/50\n",
      "13773/13773 [==============================] - 86s 6ms/step - loss: 2.4947 - categorical_accuracy: 0.3402 - val_loss: 1.0167 - val_categorical_accuracy: 0.1076\n",
      "Epoch 14/50\n",
      "13773/13773 [==============================] - 85s 6ms/step - loss: 2.4935 - categorical_accuracy: 0.3404 - val_loss: 0.9981 - val_categorical_accuracy: 0.1125\n",
      "Epoch 15/50\n",
      "13773/13773 [==============================] - 85s 6ms/step - loss: 2.4921 - categorical_accuracy: 0.3416 - val_loss: 1.0147 - val_categorical_accuracy: 0.1082\n",
      "Epoch 16/50\n",
      "13773/13773 [==============================] - 86s 6ms/step - loss: 2.4909 - categorical_accuracy: 0.3417 - val_loss: 1.0111 - val_categorical_accuracy: 0.1098\n",
      "Epoch 17/50\n",
      "13773/13773 [==============================] - 86s 6ms/step - loss: 2.4895 - categorical_accuracy: 0.3412 - val_loss: 1.0108 - val_categorical_accuracy: 0.1097\n",
      "Epoch 18/50\n",
      "13773/13773 [==============================] - 86s 6ms/step - loss: 2.4877 - categorical_accuracy: 0.3418 - val_loss: 1.0007 - val_categorical_accuracy: 0.1104\n",
      "Epoch 19/50\n",
      "13773/13773 [==============================] - 87s 6ms/step - loss: 2.4863 - categorical_accuracy: 0.3420 - val_loss: 1.0090 - val_categorical_accuracy: 0.1102\n",
      "Epoch 20/50\n",
      "13773/13773 [==============================] - 87s 6ms/step - loss: 2.4849 - categorical_accuracy: 0.3428 - val_loss: 1.0092 - val_categorical_accuracy: 0.1102\n",
      "Epoch 21/50\n",
      "13773/13773 [==============================] - 88s 6ms/step - loss: 2.4836 - categorical_accuracy: 0.3429 - val_loss: 0.9970 - val_categorical_accuracy: 0.1127\n",
      "Epoch 22/50\n",
      "13773/13773 [==============================] - 87s 6ms/step - loss: 2.4823 - categorical_accuracy: 0.3435 - val_loss: 1.0068 - val_categorical_accuracy: 0.1104\n",
      "Epoch 23/50\n",
      "13773/13773 [==============================] - 87s 6ms/step - loss: 2.4815 - categorical_accuracy: 0.3433 - val_loss: 1.0103 - val_categorical_accuracy: 0.1088\n",
      "Epoch 24/50\n",
      "13773/13773 [==============================] - 88s 6ms/step - loss: 2.4799 - categorical_accuracy: 0.3437 - val_loss: 1.0125 - val_categorical_accuracy: 0.1093\n",
      "Epoch 25/50\n",
      " 3127/13773 [=====>........................] - ETA: 1:00 - loss: 2.4574 - categorical_accuracy: 0.3480"
     ]
    },
    {
     "ename": "KeyboardInterrupt",
     "evalue": "",
     "output_type": "error",
     "traceback": [
      "\u001b[0;31m---------------------------------------------------------------------------\u001b[0m",
      "\u001b[0;31mKeyboardInterrupt\u001b[0m                         Traceback (most recent call last)",
      "\u001b[0;32m<ipython-input-44-c28c99d83305>\u001b[0m in \u001b[0;36m<module>\u001b[0;34m\u001b[0m\n\u001b[1;32m      1\u001b[0m \u001b[0mepochs\u001b[0m \u001b[0;34m=\u001b[0m \u001b[0;36m50\u001b[0m\u001b[0;34m\u001b[0m\u001b[0;34m\u001b[0m\u001b[0m\n\u001b[1;32m      2\u001b[0m \u001b[0mbs\u001b[0m \u001b[0;34m=\u001b[0m \u001b[0;36m24\u001b[0m\u001b[0;34m\u001b[0m\u001b[0;34m\u001b[0m\u001b[0m\n\u001b[0;32m----> 3\u001b[0;31m model.fit(\n\u001b[0m\u001b[1;32m      4\u001b[0m     \u001b[0mx\u001b[0m\u001b[0;34m=\u001b[0m\u001b[0;34m[\u001b[0m\u001b[0mmt_train\u001b[0m\u001b[0;34m,\u001b[0m \u001b[0mms_train\u001b[0m\u001b[0;34m,\u001b[0m \u001b[0mcands_arr_train\u001b[0m\u001b[0;34m]\u001b[0m\u001b[0;34m,\u001b[0m \u001b[0my\u001b[0m\u001b[0;34m=\u001b[0m\u001b[0my_train\u001b[0m\u001b[0;34m,\u001b[0m\u001b[0;34m\u001b[0m\u001b[0;34m\u001b[0m\u001b[0m\n\u001b[1;32m      5\u001b[0m     \u001b[0mvalidation_data\u001b[0m\u001b[0;34m=\u001b[0m\u001b[0;34m(\u001b[0m\u001b[0;34m[\u001b[0m\u001b[0mmt_test\u001b[0m\u001b[0;34m,\u001b[0m \u001b[0mms_test\u001b[0m\u001b[0;34m,\u001b[0m \u001b[0mcands_arr_test\u001b[0m\u001b[0;34m]\u001b[0m\u001b[0;34m,\u001b[0m \u001b[0my_test\u001b[0m\u001b[0;34m)\u001b[0m\u001b[0;34m,\u001b[0m\u001b[0;34m\u001b[0m\u001b[0;34m\u001b[0m\u001b[0m\n",
      "\u001b[0;32m~/miniconda3/envs/stellar/lib/python3.8/site-packages/tensorflow/python/keras/engine/training.py\u001b[0m in \u001b[0;36m_method_wrapper\u001b[0;34m(self, *args, **kwargs)\u001b[0m\n\u001b[1;32m    106\u001b[0m   \u001b[0;32mdef\u001b[0m \u001b[0m_method_wrapper\u001b[0m\u001b[0;34m(\u001b[0m\u001b[0mself\u001b[0m\u001b[0;34m,\u001b[0m \u001b[0;34m*\u001b[0m\u001b[0margs\u001b[0m\u001b[0;34m,\u001b[0m \u001b[0;34m**\u001b[0m\u001b[0mkwargs\u001b[0m\u001b[0;34m)\u001b[0m\u001b[0;34m:\u001b[0m\u001b[0;34m\u001b[0m\u001b[0;34m\u001b[0m\u001b[0m\n\u001b[1;32m    107\u001b[0m     \u001b[0;32mif\u001b[0m \u001b[0;32mnot\u001b[0m \u001b[0mself\u001b[0m\u001b[0;34m.\u001b[0m\u001b[0m_in_multi_worker_mode\u001b[0m\u001b[0;34m(\u001b[0m\u001b[0;34m)\u001b[0m\u001b[0;34m:\u001b[0m  \u001b[0;31m# pylint: disable=protected-access\u001b[0m\u001b[0;34m\u001b[0m\u001b[0;34m\u001b[0m\u001b[0m\n\u001b[0;32m--> 108\u001b[0;31m       \u001b[0;32mreturn\u001b[0m \u001b[0mmethod\u001b[0m\u001b[0;34m(\u001b[0m\u001b[0mself\u001b[0m\u001b[0;34m,\u001b[0m \u001b[0;34m*\u001b[0m\u001b[0margs\u001b[0m\u001b[0;34m,\u001b[0m \u001b[0;34m**\u001b[0m\u001b[0mkwargs\u001b[0m\u001b[0;34m)\u001b[0m\u001b[0;34m\u001b[0m\u001b[0;34m\u001b[0m\u001b[0m\n\u001b[0m\u001b[1;32m    109\u001b[0m \u001b[0;34m\u001b[0m\u001b[0m\n\u001b[1;32m    110\u001b[0m     \u001b[0;31m# Running inside `run_distribute_coordinator` already.\u001b[0m\u001b[0;34m\u001b[0m\u001b[0;34m\u001b[0m\u001b[0;34m\u001b[0m\u001b[0m\n",
      "\u001b[0;32m~/miniconda3/envs/stellar/lib/python3.8/site-packages/tensorflow/python/keras/engine/training.py\u001b[0m in \u001b[0;36mfit\u001b[0;34m(self, x, y, batch_size, epochs, verbose, callbacks, validation_split, validation_data, shuffle, class_weight, sample_weight, initial_epoch, steps_per_epoch, validation_steps, validation_batch_size, validation_freq, max_queue_size, workers, use_multiprocessing)\u001b[0m\n\u001b[1;32m   1096\u001b[0m                 batch_size=batch_size):\n\u001b[1;32m   1097\u001b[0m               \u001b[0mcallbacks\u001b[0m\u001b[0;34m.\u001b[0m\u001b[0mon_train_batch_begin\u001b[0m\u001b[0;34m(\u001b[0m\u001b[0mstep\u001b[0m\u001b[0;34m)\u001b[0m\u001b[0;34m\u001b[0m\u001b[0;34m\u001b[0m\u001b[0m\n\u001b[0;32m-> 1098\u001b[0;31m               \u001b[0mtmp_logs\u001b[0m \u001b[0;34m=\u001b[0m \u001b[0mtrain_function\u001b[0m\u001b[0;34m(\u001b[0m\u001b[0miterator\u001b[0m\u001b[0;34m)\u001b[0m\u001b[0;34m\u001b[0m\u001b[0;34m\u001b[0m\u001b[0m\n\u001b[0m\u001b[1;32m   1099\u001b[0m               \u001b[0;32mif\u001b[0m \u001b[0mdata_handler\u001b[0m\u001b[0;34m.\u001b[0m\u001b[0mshould_sync\u001b[0m\u001b[0;34m:\u001b[0m\u001b[0;34m\u001b[0m\u001b[0;34m\u001b[0m\u001b[0m\n\u001b[1;32m   1100\u001b[0m                 \u001b[0mcontext\u001b[0m\u001b[0;34m.\u001b[0m\u001b[0masync_wait\u001b[0m\u001b[0;34m(\u001b[0m\u001b[0;34m)\u001b[0m\u001b[0;34m\u001b[0m\u001b[0;34m\u001b[0m\u001b[0m\n",
      "\u001b[0;32m~/miniconda3/envs/stellar/lib/python3.8/site-packages/tensorflow/python/eager/def_function.py\u001b[0m in \u001b[0;36m__call__\u001b[0;34m(self, *args, **kwds)\u001b[0m\n\u001b[1;32m    778\u001b[0m       \u001b[0;32melse\u001b[0m\u001b[0;34m:\u001b[0m\u001b[0;34m\u001b[0m\u001b[0;34m\u001b[0m\u001b[0m\n\u001b[1;32m    779\u001b[0m         \u001b[0mcompiler\u001b[0m \u001b[0;34m=\u001b[0m \u001b[0;34m\"nonXla\"\u001b[0m\u001b[0;34m\u001b[0m\u001b[0;34m\u001b[0m\u001b[0m\n\u001b[0;32m--> 780\u001b[0;31m         \u001b[0mresult\u001b[0m \u001b[0;34m=\u001b[0m \u001b[0mself\u001b[0m\u001b[0;34m.\u001b[0m\u001b[0m_call\u001b[0m\u001b[0;34m(\u001b[0m\u001b[0;34m*\u001b[0m\u001b[0margs\u001b[0m\u001b[0;34m,\u001b[0m \u001b[0;34m**\u001b[0m\u001b[0mkwds\u001b[0m\u001b[0;34m)\u001b[0m\u001b[0;34m\u001b[0m\u001b[0;34m\u001b[0m\u001b[0m\n\u001b[0m\u001b[1;32m    781\u001b[0m \u001b[0;34m\u001b[0m\u001b[0m\n\u001b[1;32m    782\u001b[0m       \u001b[0mnew_tracing_count\u001b[0m \u001b[0;34m=\u001b[0m \u001b[0mself\u001b[0m\u001b[0;34m.\u001b[0m\u001b[0m_get_tracing_count\u001b[0m\u001b[0;34m(\u001b[0m\u001b[0;34m)\u001b[0m\u001b[0;34m\u001b[0m\u001b[0;34m\u001b[0m\u001b[0m\n",
      "\u001b[0;32m~/miniconda3/envs/stellar/lib/python3.8/site-packages/tensorflow/python/eager/def_function.py\u001b[0m in \u001b[0;36m_call\u001b[0;34m(self, *args, **kwds)\u001b[0m\n\u001b[1;32m    805\u001b[0m       \u001b[0;31m# In this case we have created variables on the first call, so we run the\u001b[0m\u001b[0;34m\u001b[0m\u001b[0;34m\u001b[0m\u001b[0;34m\u001b[0m\u001b[0m\n\u001b[1;32m    806\u001b[0m       \u001b[0;31m# defunned version which is guaranteed to never create variables.\u001b[0m\u001b[0;34m\u001b[0m\u001b[0;34m\u001b[0m\u001b[0;34m\u001b[0m\u001b[0m\n\u001b[0;32m--> 807\u001b[0;31m       \u001b[0;32mreturn\u001b[0m \u001b[0mself\u001b[0m\u001b[0;34m.\u001b[0m\u001b[0m_stateless_fn\u001b[0m\u001b[0;34m(\u001b[0m\u001b[0;34m*\u001b[0m\u001b[0margs\u001b[0m\u001b[0;34m,\u001b[0m \u001b[0;34m**\u001b[0m\u001b[0mkwds\u001b[0m\u001b[0;34m)\u001b[0m  \u001b[0;31m# pylint: disable=not-callable\u001b[0m\u001b[0;34m\u001b[0m\u001b[0;34m\u001b[0m\u001b[0m\n\u001b[0m\u001b[1;32m    808\u001b[0m     \u001b[0;32melif\u001b[0m \u001b[0mself\u001b[0m\u001b[0;34m.\u001b[0m\u001b[0m_stateful_fn\u001b[0m \u001b[0;32mis\u001b[0m \u001b[0;32mnot\u001b[0m \u001b[0;32mNone\u001b[0m\u001b[0;34m:\u001b[0m\u001b[0;34m\u001b[0m\u001b[0;34m\u001b[0m\u001b[0m\n\u001b[1;32m    809\u001b[0m       \u001b[0;31m# Release the lock early so that multiple threads can perform the call\u001b[0m\u001b[0;34m\u001b[0m\u001b[0;34m\u001b[0m\u001b[0;34m\u001b[0m\u001b[0m\n",
      "\u001b[0;32m~/miniconda3/envs/stellar/lib/python3.8/site-packages/tensorflow/python/eager/function.py\u001b[0m in \u001b[0;36m__call__\u001b[0;34m(self, *args, **kwargs)\u001b[0m\n\u001b[1;32m   2827\u001b[0m     \u001b[0;32mwith\u001b[0m \u001b[0mself\u001b[0m\u001b[0;34m.\u001b[0m\u001b[0m_lock\u001b[0m\u001b[0;34m:\u001b[0m\u001b[0;34m\u001b[0m\u001b[0;34m\u001b[0m\u001b[0m\n\u001b[1;32m   2828\u001b[0m       \u001b[0mgraph_function\u001b[0m\u001b[0;34m,\u001b[0m \u001b[0margs\u001b[0m\u001b[0;34m,\u001b[0m \u001b[0mkwargs\u001b[0m \u001b[0;34m=\u001b[0m \u001b[0mself\u001b[0m\u001b[0;34m.\u001b[0m\u001b[0m_maybe_define_function\u001b[0m\u001b[0;34m(\u001b[0m\u001b[0margs\u001b[0m\u001b[0;34m,\u001b[0m \u001b[0mkwargs\u001b[0m\u001b[0;34m)\u001b[0m\u001b[0;34m\u001b[0m\u001b[0;34m\u001b[0m\u001b[0m\n\u001b[0;32m-> 2829\u001b[0;31m     \u001b[0;32mreturn\u001b[0m \u001b[0mgraph_function\u001b[0m\u001b[0;34m.\u001b[0m\u001b[0m_filtered_call\u001b[0m\u001b[0;34m(\u001b[0m\u001b[0margs\u001b[0m\u001b[0;34m,\u001b[0m \u001b[0mkwargs\u001b[0m\u001b[0;34m)\u001b[0m  \u001b[0;31m# pylint: disable=protected-access\u001b[0m\u001b[0;34m\u001b[0m\u001b[0;34m\u001b[0m\u001b[0m\n\u001b[0m\u001b[1;32m   2830\u001b[0m \u001b[0;34m\u001b[0m\u001b[0m\n\u001b[1;32m   2831\u001b[0m   \u001b[0;34m@\u001b[0m\u001b[0mproperty\u001b[0m\u001b[0;34m\u001b[0m\u001b[0;34m\u001b[0m\u001b[0m\n",
      "\u001b[0;32m~/miniconda3/envs/stellar/lib/python3.8/site-packages/tensorflow/python/eager/function.py\u001b[0m in \u001b[0;36m_filtered_call\u001b[0;34m(self, args, kwargs, cancellation_manager)\u001b[0m\n\u001b[1;32m   1841\u001b[0m       \u001b[0;31m`\u001b[0m\u001b[0margs\u001b[0m\u001b[0;31m`\u001b[0m \u001b[0;32mand\u001b[0m\u001b[0;31m \u001b[0m\u001b[0;31m`\u001b[0m\u001b[0mkwargs\u001b[0m\u001b[0;31m`\u001b[0m\u001b[0;34m.\u001b[0m\u001b[0;34m\u001b[0m\u001b[0;34m\u001b[0m\u001b[0m\n\u001b[1;32m   1842\u001b[0m     \"\"\"\n\u001b[0;32m-> 1843\u001b[0;31m     return self._call_flat(\n\u001b[0m\u001b[1;32m   1844\u001b[0m         [t for t in nest.flatten((args, kwargs), expand_composites=True)\n\u001b[1;32m   1845\u001b[0m          if isinstance(t, (ops.Tensor,\n",
      "\u001b[0;32m~/miniconda3/envs/stellar/lib/python3.8/site-packages/tensorflow/python/eager/function.py\u001b[0m in \u001b[0;36m_call_flat\u001b[0;34m(self, args, captured_inputs, cancellation_manager)\u001b[0m\n\u001b[1;32m   1921\u001b[0m         and executing_eagerly):\n\u001b[1;32m   1922\u001b[0m       \u001b[0;31m# No tape is watching; skip to running the function.\u001b[0m\u001b[0;34m\u001b[0m\u001b[0;34m\u001b[0m\u001b[0;34m\u001b[0m\u001b[0m\n\u001b[0;32m-> 1923\u001b[0;31m       return self._build_call_outputs(self._inference_function.call(\n\u001b[0m\u001b[1;32m   1924\u001b[0m           ctx, args, cancellation_manager=cancellation_manager))\n\u001b[1;32m   1925\u001b[0m     forward_backward = self._select_forward_and_backward_functions(\n",
      "\u001b[0;32m~/miniconda3/envs/stellar/lib/python3.8/site-packages/tensorflow/python/eager/function.py\u001b[0m in \u001b[0;36mcall\u001b[0;34m(self, ctx, args, cancellation_manager)\u001b[0m\n\u001b[1;32m    543\u001b[0m       \u001b[0;32mwith\u001b[0m \u001b[0m_InterpolateFunctionError\u001b[0m\u001b[0;34m(\u001b[0m\u001b[0mself\u001b[0m\u001b[0;34m)\u001b[0m\u001b[0;34m:\u001b[0m\u001b[0;34m\u001b[0m\u001b[0;34m\u001b[0m\u001b[0m\n\u001b[1;32m    544\u001b[0m         \u001b[0;32mif\u001b[0m \u001b[0mcancellation_manager\u001b[0m \u001b[0;32mis\u001b[0m \u001b[0;32mNone\u001b[0m\u001b[0;34m:\u001b[0m\u001b[0;34m\u001b[0m\u001b[0;34m\u001b[0m\u001b[0m\n\u001b[0;32m--> 545\u001b[0;31m           outputs = execute.execute(\n\u001b[0m\u001b[1;32m    546\u001b[0m               \u001b[0mstr\u001b[0m\u001b[0;34m(\u001b[0m\u001b[0mself\u001b[0m\u001b[0;34m.\u001b[0m\u001b[0msignature\u001b[0m\u001b[0;34m.\u001b[0m\u001b[0mname\u001b[0m\u001b[0;34m)\u001b[0m\u001b[0;34m,\u001b[0m\u001b[0;34m\u001b[0m\u001b[0;34m\u001b[0m\u001b[0m\n\u001b[1;32m    547\u001b[0m               \u001b[0mnum_outputs\u001b[0m\u001b[0;34m=\u001b[0m\u001b[0mself\u001b[0m\u001b[0;34m.\u001b[0m\u001b[0m_num_outputs\u001b[0m\u001b[0;34m,\u001b[0m\u001b[0;34m\u001b[0m\u001b[0;34m\u001b[0m\u001b[0m\n",
      "\u001b[0;32m~/miniconda3/envs/stellar/lib/python3.8/site-packages/tensorflow/python/eager/execute.py\u001b[0m in \u001b[0;36mquick_execute\u001b[0;34m(op_name, num_outputs, inputs, attrs, ctx, name)\u001b[0m\n\u001b[1;32m     57\u001b[0m   \u001b[0;32mtry\u001b[0m\u001b[0;34m:\u001b[0m\u001b[0;34m\u001b[0m\u001b[0;34m\u001b[0m\u001b[0m\n\u001b[1;32m     58\u001b[0m     \u001b[0mctx\u001b[0m\u001b[0;34m.\u001b[0m\u001b[0mensure_initialized\u001b[0m\u001b[0;34m(\u001b[0m\u001b[0;34m)\u001b[0m\u001b[0;34m\u001b[0m\u001b[0;34m\u001b[0m\u001b[0m\n\u001b[0;32m---> 59\u001b[0;31m     tensors = pywrap_tfe.TFE_Py_Execute(ctx._handle, device_name, op_name,\n\u001b[0m\u001b[1;32m     60\u001b[0m                                         inputs, attrs, num_outputs)\n\u001b[1;32m     61\u001b[0m   \u001b[0;32mexcept\u001b[0m \u001b[0mcore\u001b[0m\u001b[0;34m.\u001b[0m\u001b[0m_NotOkStatusException\u001b[0m \u001b[0;32mas\u001b[0m \u001b[0me\u001b[0m\u001b[0;34m:\u001b[0m\u001b[0;34m\u001b[0m\u001b[0;34m\u001b[0m\u001b[0m\n",
      "\u001b[0;31mKeyboardInterrupt\u001b[0m: "
     ]
    }
   ],
   "source": [
    "epochs = 50\n",
    "bs = 24\n",
    "model.fit(\n",
    "    x=[mt_train, ms_train, cands_arr_train], y=y_train,\n",
    "    validation_data=([mt_test, ms_test, cands_arr_test], y_test),\n",
    "    epochs=epochs, batch_size=bs)"
   ]
  },
  {
   "cell_type": "markdown",
   "metadata": {},
   "source": [
    "\n",
    "\n",
    "\n",
    "\n",
    "\n",
    "\n",
    "\n",
    "\n",
    "\n",
    "\n",
    "\n",
    "### Save model"
   ]
  },
  {
   "cell_type": "code",
   "execution_count": 43,
   "metadata": {},
   "outputs": [
    {
     "name": "stdout",
     "output_type": "stream",
     "text": [
      "INFO:tensorflow:Assets written to: stmp_v1/assets\n"
     ]
    }
   ],
   "source": [
    "model.save(\"stmp_v1\")"
   ]
  },
  {
   "cell_type": "markdown",
   "metadata": {},
   "source": [
    "### Get predictions (train)"
   ]
  },
  {
   "cell_type": "code",
   "execution_count": 29,
   "metadata": {},
   "outputs": [],
   "source": [
    "preds = model.predict([mt_train, ms_train, cands_arr_train], batch_size = 16)"
   ]
  },
  {
   "cell_type": "markdown",
   "metadata": {},
   "source": [
    "### Test"
   ]
  },
  {
   "cell_type": "code",
   "execution_count": 45,
   "metadata": {},
   "outputs": [],
   "source": [
    "preds = model.predict([mt_test, ms_test, cands_arr_test], batch_size = 16)"
   ]
  },
  {
   "cell_type": "code",
   "execution_count": 46,
   "metadata": {},
   "outputs": [],
   "source": [
    "def get_pk(mt, ms, cands_arr, preds, y, k = 10):\n",
    "\n",
    "    preds_sort = np.argsort(preds, axis = 1)[:, ::-1]\n",
    "    preds_sort = preds_sort[:, :k]\n",
    "    N = 0\n",
    "    hits = 0\n",
    "    for y, p in zip(y, preds_sort):\n",
    "        true = np.where(y == 1)[0][0]\n",
    "        if true.size != 0:\n",
    "            N += 1\n",
    "            if int(true) in p:\n",
    "                hits += 1\n",
    "                \n",
    "    return hits/N"
   ]
  },
  {
   "cell_type": "code",
   "execution_count": 80,
   "metadata": {
    "scrolled": true
   },
   "outputs": [
    {
     "data": {
      "application/vnd.jupyter.widget-view+json": {
       "model_id": "e842059ef4b44a708f3bdd37f5b3fdac",
       "version_major": 2,
       "version_minor": 0
      },
      "text/plain": [
       "HBox(children=(HTML(value=''), FloatProgress(value=0.0, max=20.0), HTML(value='')))"
      ]
     },
     "metadata": {},
     "output_type": "display_data"
    },
    {
     "name": "stdout",
     "output_type": "stream",
     "text": [
      "\n"
     ]
    }
   ],
   "source": [
    "ks = np.arange(20)\n",
    "pks = []\n",
    "for k in tqdm(ks):\n",
    "    pk = get_pk(mt_train, ms_train, cands_arr_train, preds, y_train, k = k)\n",
    "    pks.append(pk)"
   ]
  },
  {
   "cell_type": "code",
   "execution_count": 81,
   "metadata": {},
   "outputs": [
    {
     "data": {
      "image/png": "[encoded data removed]",
      "text/plain": [
       "<Figure size 900x540 with 1 Axes>"
      ]
     },
     "metadata": {
      "needs_background": "light"
     },
     "output_type": "display_data"
    }
   ],
   "source": [
    "plt.figure(figsize = (12.5, 7.5))\n",
    "plt.plot(ks, pks)\n",
    "plt.scatter(ks, pks)\n",
    "plt.grid(\"both\")"
   ]
  },
  {
   "cell_type": "code",
   "execution_count": 47,
   "metadata": {},
   "outputs": [
    {
     "data": {
      "application/vnd.jupyter.widget-view+json": {
       "model_id": "869804b34736490b89dac673f02f076d",
       "version_major": 2,
       "version_minor": 0
      },
      "text/plain": [
       "HBox(children=(HTML(value=''), FloatProgress(value=0.0, max=82633.0), HTML(value='')))"
      ]
     },
     "metadata": {},
     "output_type": "display_data"
    },
    {
     "name": "stdout",
     "output_type": "stream",
     "text": [
      "\n"
     ]
    }
   ],
   "source": [
    "y_preds = []\n",
    "preds_sort = np.argsort(preds, axis = 1)[:, ::-1]\n",
    "preds_sort = preds_sort[:, :10]\n",
    "for i, p in enumerate(tqdm(preds_sort)):\n",
    "    y_pred = [cands_test[i,j] for j in p]\n",
    "    y_preds.append(y_pred)"
   ]
  },
  {
   "cell_type": "code",
   "execution_count": 48,
   "metadata": {},
   "outputs": [],
   "source": [
    "y_true = [row['item_bought'] for row in rows_test]"
   ]
  },
  {
   "cell_type": "code",
   "execution_count": 49,
   "metadata": {
    "scrolled": true
   },
   "outputs": [
    {
     "name": "stdout",
     "output_type": "stream",
     "text": [
      "Your score is: 0.19570302906860243\n"
     ]
    }
   ],
   "source": [
    "from challenge_metric import ndcg_score\n",
    "score = ndcg_score(y_true, y_preds, item_data, n_predictions = 10)\n",
    "print(f'Your score is: {score}')"
   ]
  },
  {
   "cell_type": "code",
   "execution_count": 50,
   "metadata": {
    "scrolled": true
   },
   "outputs": [
    {
     "data": {
      "text/plain": [
       "[1158631,\n",
       " 2070608,\n",
       " 1979875,\n",
       " 68034,\n",
       " 2070069,\n",
       " 8726,\n",
       " 1850013,\n",
       " 1075129,\n",
       " 1382798,\n",
       " 737699]"
      ]
     },
     "execution_count": 50,
     "metadata": {},
     "output_type": "execute_result"
    }
   ],
   "source": [
    "top_by_best_domain(rows_train[0])"
   ]
  },
  {
   "cell_type": "code",
   "execution_count": 51,
   "metadata": {},
   "outputs": [
    {
     "data": {
      "text/plain": [
       "256758"
      ]
     },
     "execution_count": 51,
     "metadata": {},
     "output_type": "execute_result"
    }
   ],
   "source": [
    "y_pred[0]"
   ]
  },
  {
   "cell_type": "code",
   "execution_count": 58,
   "metadata": {},
   "outputs": [],
   "source": [
    "d = Dense(4)"
   ]
  },
  {
   "cell_type": "code",
   "execution_count": 59,
   "metadata": {},
   "outputs": [],
   "source": [
    "N = 4\n",
    "h = 3\n",
    "w = 5\n",
    "a = np.zeros((N, h, w))"
   ]
  },
  {
   "cell_type": "code",
   "execution_count": 61,
   "metadata": {},
   "outputs": [
    {
     "name": "stdout",
     "output_type": "stream",
     "text": [
      "WARNING:tensorflow:Layer dense is casting an input tensor from dtype float64 to the layer's dtype of float32, which is new behavior in TensorFlow 2.  The layer has dtype float32 because its dtype defaults to floatx.\n",
      "\n",
      "If you intended to run this layer in float32, you can safely ignore this warning. If in doubt, this warning is likely only an issue if you are porting a TensorFlow 1.X model to TensorFlow 2.\n",
      "\n",
      "To change all layers to have dtype float64 by default, call `tf.keras.backend.set_floatx('float64')`. To change just this layer, pass dtype='float64' to the layer constructor. If you are the author of this layer, you can disable autocasting by passing autocast=False to the base Layer constructor.\n",
      "\n"
     ]
    },
    {
     "data": {
      "text/plain": [
       "<tf.Tensor: shape=(4, 3, 4), dtype=float32, numpy=\n",
       "array([[[0., 0., 0., 0.],\n",
       "        [0., 0., 0., 0.],\n",
       "        [0., 0., 0., 0.]],\n",
       "\n",
       "       [[0., 0., 0., 0.],\n",
       "        [0., 0., 0., 0.],\n",
       "        [0., 0., 0., 0.]],\n",
       "\n",
       "       [[0., 0., 0., 0.],\n",
       "        [0., 0., 0., 0.],\n",
       "        [0., 0., 0., 0.]],\n",
       "\n",
       "       [[0., 0., 0., 0.],\n",
       "        [0., 0., 0., 0.],\n",
       "        [0., 0., 0., 0.]]], dtype=float32)>"
      ]
     },
     "execution_count": 61,
     "metadata": {},
     "output_type": "execute_result"
    }
   ],
   "source": [
    "d(a)"
   ]
  },
  {
   "cell_type": "code",
   "execution_count": null,
   "metadata": {},
   "outputs": [],
   "source": []
  }
 ],
 "metadata": {
  "kernelspec": {
   "display_name": "Python 3",
   "language": "python",
   "name": "python3"
  },
  "language_info": {
   "codemirror_mode": {
    "name": "ipython",
    "version": 3
   },
   "file_extension": ".py",
   "mimetype": "text/x-python",
   "name": "python",
   "nbconvert_exporter": "python",
   "pygments_lexer": "ipython3",
   "version": "3.8.5"
  }
 },
 "nbformat": 4,
 "nbformat_minor": 4
}
