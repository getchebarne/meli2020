{
 "cells": [
  {
   "cell_type": "code",
   "execution_count": 1,
   "metadata": {},
   "outputs": [],
   "source": [
    "import gzip\n",
    "import gc\n",
    "import math\n",
    "import json\n",
    "from collections import Counter, defaultdict\n",
    "import random\n",
    "from tqdm.notebook import tqdm\n",
    "import numpy as np\n",
    "\n",
    "from sklearn.model_selection import train_test_split\n",
    "import matplotlib.pyplot as plt\n",
    "\n",
    "def jl_to_list(fname):\n",
    "    output = []\n",
    "    with gzip.open(fname, \"rb\") as f:\n",
    "        for line in f:\n",
    "            output.append(json.loads(line))\n",
    "    return output"
   ]
  },
  {
   "cell_type": "markdown",
   "metadata": {},
   "source": [
    "### Load user data"
   ]
  },
  {
   "cell_type": "code",
   "execution_count": 5,
   "metadata": {},
   "outputs": [],
   "source": [
    "samples = None\n",
    "test_size = .2\n",
    "rows = jl_to_list(\"data/train_dataset.jl.gz\")\n",
    "if samples:\n",
    "    rows = rows[:samples]"
   ]
  },
  {
   "cell_type": "markdown",
   "metadata": {},
   "source": [
    "### Train-test split"
   ]
  },
  {
   "cell_type": "code",
   "execution_count": 6,
   "metadata": {},
   "outputs": [
    {
     "name": "stdout",
     "output_type": "stream",
     "text": [
      "Train data: 330530.\n",
      "Test data: 82633.\n"
     ]
    }
   ],
   "source": [
    "val_size = .15\n",
    "rows_train, rows_test = train_test_split(rows, test_size = test_size, random_state = 42)\n",
    "print(f\"Train data: {len(rows_train)}.\")\n",
    "print(f\"Test data: {len(rows_test)}.\")"
   ]
  },
  {
   "cell_type": "markdown",
   "metadata": {},
   "source": [
    "### Load items"
   ]
  },
  {
   "cell_type": "code",
   "execution_count": 2,
   "metadata": {},
   "outputs": [],
   "source": [
    "item_data = jl_to_list(\"data/item_data.jl.gz\")\n",
    "metadata = {x[\"item_id\"] : x for x in item_data}"
   ]
  },
  {
   "cell_type": "markdown",
   "metadata": {},
   "source": [
    "### Load domain vectors"
   ]
  },
  {
   "cell_type": "code",
   "execution_count": 3,
   "metadata": {},
   "outputs": [],
   "source": [
    "import csv"
   ]
  },
  {
   "cell_type": "code",
   "execution_count": 4,
   "metadata": {},
   "outputs": [
    {
     "data": {
      "application/vnd.jupyter.widget-view+json": {
       "model_id": "0d82e801ec904b3c89aeb8d79fc4e6c4",
       "version_major": 2,
       "version_minor": 0
      },
      "text/plain": [
       "HBox(children=(HTML(value=''), FloatProgress(value=1.0, bar_style='info', layout=Layout(width='20px'), max=1.0…"
      ]
     },
     "metadata": {},
     "output_type": "display_data"
    },
    {
     "name": "stdout",
     "output_type": "stream",
     "text": [
      "\n"
     ]
    }
   ],
   "source": [
    "# open vector file\n",
    "tsv_file = open(\"dom2vec/vectors_dom.tsv\")\n",
    "read_tsv = csv.reader(tsv_file, delimiter=\"\\t\")\n",
    "\n",
    "vectors_dom = []\n",
    "for row in read_tsv:\n",
    "    vectors_dom.append(row)\n",
    "tsv_file.close()\n",
    "\n",
    "v_dom = np.zeros((len(vectors_dom), 32), dtype = np.float64)\n",
    "for i, v in tqdm(enumerate(vectors_dom)):\n",
    "    for j, vi in enumerate(v):\n",
    "        v_dom[i,j] = float(vi)\n",
    "\n",
    "# open keys file\n",
    "tsv_file = open(\"dom2vec/meta_dom.tsv\")\n",
    "read_tsv = csv.reader(tsv_file, delimiter=\"\\t\")\n",
    "\n",
    "keys_dom = []\n",
    "for key in read_tsv:\n",
    "    keys_dom.append(key[0])\n",
    "tsv_file.close()\n",
    "\n",
    "assert len(keys_dom) == v_dom.shape[0]"
   ]
  },
  {
   "cell_type": "markdown",
   "metadata": {},
   "source": [
    "### Load category vectors"
   ]
  },
  {
   "cell_type": "code",
   "execution_count": 5,
   "metadata": {},
   "outputs": [
    {
     "data": {
      "application/vnd.jupyter.widget-view+json": {
       "model_id": "b1bb4bb65a9a48dcb6389948f24014b0",
       "version_major": 2,
       "version_minor": 0
      },
      "text/plain": [
       "HBox(children=(HTML(value=''), FloatProgress(value=1.0, bar_style='info', layout=Layout(width='20px'), max=1.0…"
      ]
     },
     "metadata": {},
     "output_type": "display_data"
    },
    {
     "name": "stdout",
     "output_type": "stream",
     "text": [
      "\n"
     ]
    }
   ],
   "source": [
    "# open vector file\n",
    "tsv_file = open(\"cat2vec/vectors_cat.tsv\")\n",
    "read_tsv = csv.reader(tsv_file, delimiter=\"\\t\")\n",
    "\n",
    "vectors_cat = []\n",
    "for row in read_tsv:\n",
    "    vectors_cat.append(row)\n",
    "tsv_file.close()\n",
    "\n",
    "v_cat = np.zeros((len(vectors_cat), 32), dtype = np.float64)\n",
    "for i, v in tqdm(enumerate(vectors_cat)):\n",
    "    for j, vi in enumerate(v):\n",
    "        v_cat[i,j] = float(vi)\n",
    "\n",
    "# open keys file\n",
    "tsv_file = open(\"cat2vec/meta_cat.tsv\")\n",
    "read_tsv = csv.reader(tsv_file, delimiter=\"\\t\")\n",
    "\n",
    "keys_cat = []\n",
    "for key in read_tsv:\n",
    "    keys_cat.append(key[0])\n",
    "tsv_file.close()\n",
    "\n",
    "assert len(keys_cat) == v_cat.shape[0]"
   ]
  },
  {
   "cell_type": "markdown",
   "metadata": {},
   "source": [
    "### Load word vectors"
   ]
  },
  {
   "cell_type": "code",
   "execution_count": null,
   "metadata": {},
   "outputs": [],
   "source": [
    "# open vector file\n",
    "tsv_file = open(\"word2vec/vectors_q.tsv\")\n",
    "read_tsv = csv.reader(tsv_file, delimiter=\"\\t\")\n",
    "\n",
    "vectors_wrd = []\n",
    "for row in read_tsv:\n",
    "    vectors_wrd.append(row)\n",
    "tsv_file.close()\n",
    "\n",
    "v_wrd = np.zeros((len(vectors_wrd), 32), dtype = np.float64)\n",
    "for i, v in tqdm(enumerate(vectors_wrd)):\n",
    "    for j, vi in enumerate(v):\n",
    "        v_wrd[i,j] = float(vi)\n",
    "\n",
    "# open keys file\n",
    "tsv_file = open(\"word2vec/meta_q.tsv\")\n",
    "read_tsv = csv.reader(tsv_file, delimiter=\"\\t\")\n",
    "\n",
    "keys_wrd = []\n",
    "for key in read_tsv:\n",
    "    keys_wrd.append(key[0])\n",
    "tsv_file.close()\n",
    "\n",
    "assert len(keys_wrd) == v_wrd.shape[0]"
   ]
  },
  {
   "cell_type": "markdown",
   "metadata": {},
   "source": [
    "### Build dicts"
   ]
  },
  {
   "cell_type": "code",
   "execution_count": 7,
   "metadata": {},
   "outputs": [],
   "source": [
    "doms = {k : v for k, v in zip(keys_dom, v_dom)}\n",
    "cats = {k : v for k, v in zip(keys_cat, v_cat)}\n",
    "words = {k : v for k, v in zip(keys_wrd, v_wrd)}"
   ]
  },
  {
   "cell_type": "code",
   "execution_count": 8,
   "metadata": {},
   "outputs": [],
   "source": [
    "wrd_counter = Counter()\n",
    "for i, wrd in enumerate(words.keys()):\n",
    "    if i == 0: continue\n",
    "    wrd_counter[wrd] = i"
   ]
  },
  {
   "cell_type": "markdown",
   "metadata": {},
   "source": [
    "### Process prices"
   ]
  },
  {
   "cell_type": "code",
   "execution_count": 9,
   "metadata": {},
   "outputs": [
    {
     "name": "stdout",
     "output_type": "stream",
     "text": [
      "mean:  134906.66263479702\n",
      "std:  22995129.77463674\n"
     ]
    }
   ],
   "source": [
    "prices = []\n",
    "for item in item_data:\n",
    "    if item[\"price\"] is not None: prices.append(float(item[\"price\"]))\n",
    "    \n",
    "mean = np.mean(prices)\n",
    "std = np.std(prices)\n",
    "\n",
    "print(\"mean: \", mean)\n",
    "print(\"std: \", std)"
   ]
  },
  {
   "cell_type": "markdown",
   "metadata": {},
   "source": [
    "### Print dimensions"
   ]
  },
  {
   "cell_type": "code",
   "execution_count": 10,
   "metadata": {},
   "outputs": [
    {
     "name": "stdout",
     "output_type": "stream",
     "text": [
      "domain dim:  32\n",
      "category dim:  32\n",
      "word dim:  32\n"
     ]
    }
   ],
   "source": [
    "dom_dim = v_dom.shape[1]\n",
    "cat_dim = v_cat.shape[1]\n",
    "wrd_dim = v_wrd.shape[1]\n",
    "\n",
    "print(\"domain dim: \", dom_dim)\n",
    "print(\"category dim: \", cat_dim)\n",
    "print(\"word dim: \", wrd_dim)"
   ]
  },
  {
   "cell_type": "markdown",
   "metadata": {},
   "source": [
    "### Build item array"
   ]
  },
  {
   "cell_type": "code",
   "execution_count": 12,
   "metadata": {
    "scrolled": true
   },
   "outputs": [
    {
     "data": {
      "application/vnd.jupyter.widget-view+json": {
       "model_id": "dbffdf01186c40b6a0ef9c8e9381293c",
       "version_major": 2,
       "version_minor": 0
      },
      "text/plain": [
       "HBox(children=(HTML(value=''), FloatProgress(value=1.0, bar_style='info', layout=Layout(width='20px'), max=1.0…"
      ]
     },
     "metadata": {},
     "output_type": "display_data"
    },
    {
     "name": "stdout",
     "output_type": "stream",
     "text": [
      "\n"
     ]
    }
   ],
   "source": [
    "n_words = 4\n",
    "item_arr = np.zeros((len(item_data), dom_dim + cat_dim + n_words*wrd_dim + 1), \n",
    "                    dtype = np.float64)\n",
    "for i, item in tqdm(enumerate(item_data)):\n",
    "    dom = item[\"domain_id\"]\n",
    "    cat = item[\"category_id\"]\n",
    "    price = item[\"price\"]\n",
    "    title = item[\"title\"]\n",
    "    # fill array\n",
    "    # domain\n",
    "    if dom in doms.keys():\n",
    "        item_arr[i, :dom_dim] = doms[dom]\n",
    "    else:\n",
    "        item_arr[i, :dom_dim] = doms[\"None\"]\n",
    "    # category\n",
    "    if cat in cats.keys():\n",
    "        item_arr[i, dom_dim:dom_dim + cat_dim] = cats[cat]\n",
    "    else:\n",
    "        item_arr[i, dom_dim:dom_dim + cat_dim] = cats[\"None\"]\n",
    "    # title\n",
    "    wrds = list(set(title.lower().split()[:12]))\n",
    "    ranks = []\n",
    "    for w in wrds:\n",
    "        ranks.append(wrd_counter[w])\n",
    "    top = np.argsort(ranks)[::-1][:n_words]\n",
    "    top_words = [wrds[t] for t in top]\n",
    "    for j, w in enumerate(top_words):\n",
    "        try:\n",
    "            item_arr[i, dom_dim + cat_dim + wrd_dim*j:dom_dim + cat_dim + wrd_dim*(j+1)] = words[w]\n",
    "        except KeyError:\n",
    "            item_arr[i, dom_dim + cat_dim + wrd_dim*j:dom_dim + cat_dim + wrd_dim*(j+1)] = words['[UNK]']\n",
    "    \n",
    "    # price\n",
    "    item_arr[i, -1] = price if price is not None else mean"
   ]
  },
  {
   "cell_type": "markdown",
   "metadata": {},
   "source": [
    "### Standardize price"
   ]
  },
  {
   "cell_type": "code",
   "execution_count": 13,
   "metadata": {},
   "outputs": [],
   "source": [
    "mean = np.mean(item_arr[:,-1])\n",
    "std = np.std(item_arr[:,-1])\n",
    "\n",
    "item_arr[:,-1] = (item_arr[:,-1] - mean)/std"
   ]
  },
  {
   "cell_type": "code",
   "execution_count": 14,
   "metadata": {},
   "outputs": [
    {
     "name": "stdout",
     "output_type": "stream",
     "text": [
      "mean:  3.031745264666882e-18\n",
      "std:  1.0\n"
     ]
    }
   ],
   "source": [
    "print(\"mean: \", np.mean(item_arr[:, -1]))\n",
    "print(\"std: \", np.std(item_arr[:,-1]))"
   ]
  },
  {
   "cell_type": "markdown",
   "metadata": {},
   "source": [
    "### Save it!"
   ]
  },
  {
   "cell_type": "code",
   "execution_count": null,
   "metadata": {},
   "outputs": [],
   "source": [
    "np.save(\"items.npy\", item_arr)"
   ]
  },
  {
   "cell_type": "code",
   "execution_count": 144,
   "metadata": {},
   "outputs": [
    {
     "name": "stdout",
     "output_type": "stream",
     "text": [
      "total 3096M\r\n",
      "drwxrwxr-x. 3 guillermo.etchebarne guillermo.etchebarne    1M Nov 24 14:15 cat2vec\r\n",
      "drwxrwxr-x. 2 guillermo.etchebarne guillermo.etchebarne    1M Nov 23 01:48 data\r\n",
      "drwxrwxr-x. 3 guillermo.etchebarne guillermo.etchebarne    1M Nov 24 14:19 dom2vec\r\n",
      "-rw-rw-r--. 1 guillermo.etchebarne guillermo.etchebarne    1M Nov 23 20:07 extract_features_sage.ipynb\r\n",
      "-rw-rw-r--. 1 guillermo.etchebarne guillermo.etchebarne    1M Nov 24 15:53 get_item.ipynb\r\n",
      "-rw-r--r--. 1 guillermo.etchebarne guillermo.etchebarne    1M Nov 22 17:29 graphsage_src.ipynb\r\n",
      "-rw-rw-r--. 1 guillermo.etchebarne guillermo.etchebarne    1M Nov 23 18:08 item_features.ipynb\r\n",
      "-rw-rw-r--. 1 guillermo.etchebarne guillermo.etchebarne 3096M Nov 24 15:53 items.npy\r\n",
      "drwxrwxr-x. 3 guillermo.etchebarne guillermo.etchebarne    1M Nov 24 14:58 word2vec\r\n"
     ]
    }
   ],
   "source": [
    "!ls -l --block-size=M"
   ]
  }
 ],
 "metadata": {
  "kernelspec": {
   "display_name": "Python 3",
   "language": "python",
   "name": "python3"
  },
  "language_info": {
   "codemirror_mode": {
    "name": "ipython",
    "version": 3
   },
   "file_extension": ".py",
   "mimetype": "text/x-python",
   "name": "python",
   "nbconvert_exporter": "python",
   "pygments_lexer": "ipython3",
   "version": "3.8.5"
  }
 },
 "nbformat": 4,
 "nbformat_minor": 4
}
